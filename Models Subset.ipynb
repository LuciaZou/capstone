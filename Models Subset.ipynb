{
 "cells": [
  {
   "cell_type": "markdown",
   "id": "492b43d2",
   "metadata": {},
   "source": [
    "## Models Subset"
   ]
  },
  {
   "cell_type": "markdown",
   "id": "c0084b06",
   "metadata": {},
   "source": [
    "### Author: Lucia Zou\n",
    "### Contact: lucia.zouyuebca@gmail.com\n",
    "### Date: Nov.8th, 2023"
   ]
  },
  {
   "cell_type": "markdown",
   "id": "5187c977",
   "metadata": {},
   "source": [
    "### Table of Contents\n",
    "- [Data Dictionary](#Data-Dictionary)\n",
    "- [Linear Regression](#Linear-Regression)\n",
    "- [Decision Tree](#Decision-Tree)\n",
    "- [Random Forest](#Random-Forest)\n",
    "- [Compare Models](#Compare-Models)"
   ]
  },
  {
   "cell_type": "markdown",
   "id": "5196aa49",
   "metadata": {},
   "source": [
    "### Data Dictionary\n",
    "| Column Name                | Description                                                                                                                       | DataTypes |\n",
    "|----------------------------|-----------------------------------------------------------------------------------------------------------------------------------|------------|\n",
    "| invoice_and_item_number    | Concatenated invoice and line number associated with the liquor sold. This provides a unique identifier for the individual liquor products included in the store's sales. | object     |\n",
    "| date                       | Date of sale.                                                                                                                     | object     |\n",
    "| store_number               | Unique number assigned to the store that sold the liquor.                                                                         | int64      |\n",
    "| store_name                 | Name of the store that sold the liquor.                                                                                            | object     |\n",
    "| address                    | Address of the store that sold the liquor.                                                                                        | object     |\n",
    "| city                       | City where the store that sold the liquor is located.                                                                             | object     |\n",
    "| zip_code                   | ZIP code where the store that sold the liquor is located.                                                                         | float64    |\n",
    "| county_number              | Iowa county number for the county where the store that sold the liquor is located.                                             | float64    |\n",
    "| county                     | County where the store that sold the liquor is located.                                                                           | object     |\n",
    "| category                   | Category code associated with the liquor sold.                                                                                    | float64    |\n",
    "| category_name              | Category of the liquor sold.                                                                                                      | object     |\n",
    "| vendor_number              | The vendor number of the company for the brand of liquor sold.                                                                    | float64    |\n",
    "| vendor_name                | The vendor name of the company for the brand of liquor sold.                                                                      | object     |\n",
    "| item_number                | Item number for the individual liquor product sold.                                                                               | int64      |\n",
    "| item_description           | Description of the individual liquor product sold.                                                                               | object     |\n",
    "| pack                       | The number of bottles in a case for the liquor sold.               | int64      |\n",
    "| bottle_volume_ml           | Volume of each liquor bottle sold in milliliters.                         | int64      |\n",
    "| Alcohol_Type           | The general type of alcohol.                       | Object    |\n",
    "| profit   | Total profit of liquor sold.                       | float64   |\n",
    "| day     | The day of sale.                                   | object    |\n",
    "| week    | The week of sale.                                  | object    |\n",
    "| volume_3 | Volume of liquor in liters between 50.01 to 100L.  | uint8     |\n",
    "| volume_4 | Volume of liquor in liters between 100.01 to 200L. | uint8     |\n",
    "| volume_5 | Volume of liquor in liters between 200.01 to 1000 L.   | uint8     |\n",
    "| volume_6 | Volume of liquor in liters larger than 1000.01 L.   | uint8     |"
   ]
  },
  {
   "cell_type": "markdown",
   "id": "f0c2376e",
   "metadata": {},
   "source": [
    "### "
   ]
  },
  {
   "cell_type": "code",
   "execution_count": 1,
   "id": "769cac03",
   "metadata": {},
   "outputs": [],
   "source": [
    "import pyarrow as pa\n",
    "import pyarrow.parquet as pq\n",
    "import pandas as pd\n",
    "import numpy as np\n",
    "import matplotlib.pyplot as plt\n",
    "import seaborn as sns\n",
    "import statsmodels.api as sm\n",
    "\n",
    "from sklearn.model_selection import train_test_split\n",
    "from sklearn.tree import DecisionTreeRegressor\n",
    "from sklearn.preprocessing import StandardScaler"
   ]
  },
  {
   "cell_type": "code",
   "execution_count": 2,
   "id": "2cda5b36",
   "metadata": {},
   "outputs": [],
   "source": [
    "df9=pd.read_parquet('IowaNext.parquet')"
   ]
  },
  {
   "cell_type": "code",
   "execution_count": 4,
   "id": "372294a5",
   "metadata": {
    "scrolled": true
   },
   "outputs": [
    {
     "data": {
      "text/html": [
       "<div>\n",
       "<style scoped>\n",
       "    .dataframe tbody tr th:only-of-type {\n",
       "        vertical-align: middle;\n",
       "    }\n",
       "\n",
       "    .dataframe tbody tr th {\n",
       "        vertical-align: top;\n",
       "    }\n",
       "\n",
       "    .dataframe thead th {\n",
       "        text-align: right;\n",
       "    }\n",
       "</style>\n",
       "<table border=\"1\" class=\"dataframe\">\n",
       "  <thead>\n",
       "    <tr style=\"text-align: right;\">\n",
       "      <th></th>\n",
       "      <th>invoice_and_item_number</th>\n",
       "      <th>date</th>\n",
       "      <th>store_number</th>\n",
       "      <th>store_name</th>\n",
       "      <th>address</th>\n",
       "      <th>city</th>\n",
       "      <th>zip_code</th>\n",
       "      <th>county_number</th>\n",
       "      <th>county</th>\n",
       "      <th>category_name</th>\n",
       "      <th>...</th>\n",
       "      <th>Gin</th>\n",
       "      <th>OtherCategories</th>\n",
       "      <th>Rum</th>\n",
       "      <th>Schnapps</th>\n",
       "      <th>Scotch</th>\n",
       "      <th>Specialty</th>\n",
       "      <th>Spirits</th>\n",
       "      <th>Tequila</th>\n",
       "      <th>Vodka</th>\n",
       "      <th>Whisky</th>\n",
       "    </tr>\n",
       "  </thead>\n",
       "  <tbody>\n",
       "    <tr>\n",
       "      <th>0</th>\n",
       "      <td>INV-33179700135</td>\n",
       "      <td>2021-01-04</td>\n",
       "      <td>2576</td>\n",
       "      <td>Hy-VeeWineandSpirits/StormLake</td>\n",
       "      <td>1250NLakeSt</td>\n",
       "      <td>StormLake</td>\n",
       "      <td>50588.0</td>\n",
       "      <td>11.0</td>\n",
       "      <td>Adair</td>\n",
       "      <td>WhiskeyLiqueur</td>\n",
       "      <td>...</td>\n",
       "      <td>0</td>\n",
       "      <td>0</td>\n",
       "      <td>0</td>\n",
       "      <td>0</td>\n",
       "      <td>0</td>\n",
       "      <td>0</td>\n",
       "      <td>1</td>\n",
       "      <td>0</td>\n",
       "      <td>0</td>\n",
       "      <td>0</td>\n",
       "    </tr>\n",
       "    <tr>\n",
       "      <th>1</th>\n",
       "      <td>INV-33196200106</td>\n",
       "      <td>2021-01-04</td>\n",
       "      <td>2649</td>\n",
       "      <td>Hy-Vee#3/Dubuque</td>\n",
       "      <td>400LocustSt</td>\n",
       "      <td>Dubuque</td>\n",
       "      <td>52001.0</td>\n",
       "      <td>31.0</td>\n",
       "      <td>Adair</td>\n",
       "      <td>CreamLiqueurs</td>\n",
       "      <td>...</td>\n",
       "      <td>0</td>\n",
       "      <td>0</td>\n",
       "      <td>0</td>\n",
       "      <td>0</td>\n",
       "      <td>0</td>\n",
       "      <td>0</td>\n",
       "      <td>0</td>\n",
       "      <td>0</td>\n",
       "      <td>0</td>\n",
       "      <td>0</td>\n",
       "    </tr>\n",
       "    <tr>\n",
       "      <th>2</th>\n",
       "      <td>INV-33184300011</td>\n",
       "      <td>2021-01-04</td>\n",
       "      <td>2539</td>\n",
       "      <td>Hy-VeeFoodStore/IowaFalls</td>\n",
       "      <td>640S.Oak</td>\n",
       "      <td>IowaFalls</td>\n",
       "      <td>50126.0</td>\n",
       "      <td>42.0</td>\n",
       "      <td>Adams</td>\n",
       "      <td>AmericanVodka</td>\n",
       "      <td>...</td>\n",
       "      <td>0</td>\n",
       "      <td>0</td>\n",
       "      <td>0</td>\n",
       "      <td>0</td>\n",
       "      <td>0</td>\n",
       "      <td>0</td>\n",
       "      <td>0</td>\n",
       "      <td>0</td>\n",
       "      <td>1</td>\n",
       "      <td>0</td>\n",
       "    </tr>\n",
       "    <tr>\n",
       "      <th>3</th>\n",
       "      <td>INV-33184100015</td>\n",
       "      <td>2021-01-04</td>\n",
       "      <td>4024</td>\n",
       "      <td>Wal-Mart1546/IowaFalls</td>\n",
       "      <td>840SOak</td>\n",
       "      <td>IowaFalls</td>\n",
       "      <td>50126.0</td>\n",
       "      <td>42.0</td>\n",
       "      <td>Adams</td>\n",
       "      <td>AmericanVodka</td>\n",
       "      <td>...</td>\n",
       "      <td>0</td>\n",
       "      <td>0</td>\n",
       "      <td>0</td>\n",
       "      <td>0</td>\n",
       "      <td>0</td>\n",
       "      <td>0</td>\n",
       "      <td>0</td>\n",
       "      <td>0</td>\n",
       "      <td>1</td>\n",
       "      <td>0</td>\n",
       "    </tr>\n",
       "    <tr>\n",
       "      <th>4</th>\n",
       "      <td>INV-33174200025</td>\n",
       "      <td>2021-01-04</td>\n",
       "      <td>5385</td>\n",
       "      <td>VineFood&amp;Liquor</td>\n",
       "      <td>2704VineSt.</td>\n",
       "      <td>WestDesMoines</td>\n",
       "      <td>50265.0</td>\n",
       "      <td>77.0</td>\n",
       "      <td>Allamakee</td>\n",
       "      <td>ScotchWhiskies</td>\n",
       "      <td>...</td>\n",
       "      <td>0</td>\n",
       "      <td>0</td>\n",
       "      <td>0</td>\n",
       "      <td>0</td>\n",
       "      <td>0</td>\n",
       "      <td>0</td>\n",
       "      <td>0</td>\n",
       "      <td>0</td>\n",
       "      <td>0</td>\n",
       "      <td>1</td>\n",
       "    </tr>\n",
       "  </tbody>\n",
       "</table>\n",
       "<p>5 rows × 37 columns</p>\n",
       "</div>"
      ],
      "text/plain": [
       "  invoice_and_item_number       date  store_number  \\\n",
       "0         INV-33179700135 2021-01-04          2576   \n",
       "1         INV-33196200106 2021-01-04          2649   \n",
       "2         INV-33184300011 2021-01-04          2539   \n",
       "3         INV-33184100015 2021-01-04          4024   \n",
       "4         INV-33174200025 2021-01-04          5385   \n",
       "\n",
       "                       store_name      address           city  zip_code  \\\n",
       "0  Hy-VeeWineandSpirits/StormLake  1250NLakeSt      StormLake   50588.0   \n",
       "1                Hy-Vee#3/Dubuque  400LocustSt        Dubuque   52001.0   \n",
       "2       Hy-VeeFoodStore/IowaFalls     640S.Oak      IowaFalls   50126.0   \n",
       "3          Wal-Mart1546/IowaFalls      840SOak      IowaFalls   50126.0   \n",
       "4                 VineFood&Liquor  2704VineSt.  WestDesMoines   50265.0   \n",
       "\n",
       "   county_number     county   category_name  ...  Gin OtherCategories  Rum  \\\n",
       "0           11.0      Adair  WhiskeyLiqueur  ...    0               0    0   \n",
       "1           31.0      Adair   CreamLiqueurs  ...    0               0    0   \n",
       "2           42.0      Adams   AmericanVodka  ...    0               0    0   \n",
       "3           42.0      Adams   AmericanVodka  ...    0               0    0   \n",
       "4           77.0  Allamakee  ScotchWhiskies  ...    0               0    0   \n",
       "\n",
       "  Schnapps  Scotch  Specialty  Spirits  Tequila  Vodka  Whisky  \n",
       "0        0       0          0        1        0      0       0  \n",
       "1        0       0          0        0        0      0       0  \n",
       "2        0       0          0        0        0      1       0  \n",
       "3        0       0          0        0        0      1       0  \n",
       "4        0       0          0        0        0      0       1  \n",
       "\n",
       "[5 rows x 37 columns]"
      ]
     },
     "execution_count": 4,
     "metadata": {},
     "output_type": "execute_result"
    }
   ],
   "source": [
    "df9.head()"
   ]
  },
  {
   "cell_type": "markdown",
   "id": "84a34ecb",
   "metadata": {},
   "source": [
    "###"
   ]
  },
  {
   "cell_type": "markdown",
   "id": "427057db",
   "metadata": {},
   "source": [
    "### Linear Regression"
   ]
  },
  {
   "cell_type": "code",
   "execution_count": 9,
   "id": "3b12db70",
   "metadata": {},
   "outputs": [
    {
     "ename": "KeyboardInterrupt",
     "evalue": "",
     "output_type": "error",
     "traceback": [
      "\u001b[1;31m---------------------------------------------------------------------------\u001b[0m",
      "\u001b[1;31mKeyboardInterrupt\u001b[0m                         Traceback (most recent call last)",
      "Cell \u001b[1;32mIn[9], line 13\u001b[0m\n\u001b[0;32m     10\u001b[0m     count \u001b[38;5;241m+\u001b[39m\u001b[38;5;241m=\u001b[39m \u001b[38;5;241m1\u001b[39m\n\u001b[0;32m     12\u001b[0m plt\u001b[38;5;241m.\u001b[39mtight_layout()\n\u001b[1;32m---> 13\u001b[0m plt\u001b[38;5;241m.\u001b[39mshow()\n",
      "File \u001b[1;32m~\\anaconda3\\Lib\\site-packages\\matplotlib\\pyplot.py:446\u001b[0m, in \u001b[0;36mshow\u001b[1;34m(*args, **kwargs)\u001b[0m\n\u001b[0;32m    402\u001b[0m \u001b[38;5;250m\u001b[39m\u001b[38;5;124;03m\"\"\"\u001b[39;00m\n\u001b[0;32m    403\u001b[0m \u001b[38;5;124;03mDisplay all open figures.\u001b[39;00m\n\u001b[0;32m    404\u001b[0m \n\u001b[1;32m   (...)\u001b[0m\n\u001b[0;32m    443\u001b[0m \u001b[38;5;124;03mexplicitly there.\u001b[39;00m\n\u001b[0;32m    444\u001b[0m \u001b[38;5;124;03m\"\"\"\u001b[39;00m\n\u001b[0;32m    445\u001b[0m _warn_if_gui_out_of_main_thread()\n\u001b[1;32m--> 446\u001b[0m \u001b[38;5;28;01mreturn\u001b[39;00m _get_backend_mod()\u001b[38;5;241m.\u001b[39mshow(\u001b[38;5;241m*\u001b[39margs, \u001b[38;5;241m*\u001b[39m\u001b[38;5;241m*\u001b[39mkwargs)\n",
      "File \u001b[1;32m~\\anaconda3\\Lib\\site-packages\\matplotlib_inline\\backend_inline.py:90\u001b[0m, in \u001b[0;36mshow\u001b[1;34m(close, block)\u001b[0m\n\u001b[0;32m     88\u001b[0m \u001b[38;5;28;01mtry\u001b[39;00m:\n\u001b[0;32m     89\u001b[0m     \u001b[38;5;28;01mfor\u001b[39;00m figure_manager \u001b[38;5;129;01min\u001b[39;00m Gcf\u001b[38;5;241m.\u001b[39mget_all_fig_managers():\n\u001b[1;32m---> 90\u001b[0m         display(\n\u001b[0;32m     91\u001b[0m             figure_manager\u001b[38;5;241m.\u001b[39mcanvas\u001b[38;5;241m.\u001b[39mfigure,\n\u001b[0;32m     92\u001b[0m             metadata\u001b[38;5;241m=\u001b[39m_fetch_figure_metadata(figure_manager\u001b[38;5;241m.\u001b[39mcanvas\u001b[38;5;241m.\u001b[39mfigure)\n\u001b[0;32m     93\u001b[0m         )\n\u001b[0;32m     94\u001b[0m \u001b[38;5;28;01mfinally\u001b[39;00m:\n\u001b[0;32m     95\u001b[0m     show\u001b[38;5;241m.\u001b[39m_to_draw \u001b[38;5;241m=\u001b[39m []\n",
      "File \u001b[1;32m~\\anaconda3\\Lib\\site-packages\\IPython\\core\\display_functions.py:298\u001b[0m, in \u001b[0;36mdisplay\u001b[1;34m(include, exclude, metadata, transient, display_id, raw, clear, *objs, **kwargs)\u001b[0m\n\u001b[0;32m    296\u001b[0m     publish_display_data(data\u001b[38;5;241m=\u001b[39mobj, metadata\u001b[38;5;241m=\u001b[39mmetadata, \u001b[38;5;241m*\u001b[39m\u001b[38;5;241m*\u001b[39mkwargs)\n\u001b[0;32m    297\u001b[0m \u001b[38;5;28;01melse\u001b[39;00m:\n\u001b[1;32m--> 298\u001b[0m     format_dict, md_dict \u001b[38;5;241m=\u001b[39m \u001b[38;5;28mformat\u001b[39m(obj, include\u001b[38;5;241m=\u001b[39minclude, exclude\u001b[38;5;241m=\u001b[39mexclude)\n\u001b[0;32m    299\u001b[0m     \u001b[38;5;28;01mif\u001b[39;00m \u001b[38;5;129;01mnot\u001b[39;00m format_dict:\n\u001b[0;32m    300\u001b[0m         \u001b[38;5;66;03m# nothing to display (e.g. _ipython_display_ took over)\u001b[39;00m\n\u001b[0;32m    301\u001b[0m         \u001b[38;5;28;01mcontinue\u001b[39;00m\n",
      "File \u001b[1;32m~\\anaconda3\\Lib\\site-packages\\IPython\\core\\formatters.py:179\u001b[0m, in \u001b[0;36mDisplayFormatter.format\u001b[1;34m(self, obj, include, exclude)\u001b[0m\n\u001b[0;32m    177\u001b[0m md \u001b[38;5;241m=\u001b[39m \u001b[38;5;28;01mNone\u001b[39;00m\n\u001b[0;32m    178\u001b[0m \u001b[38;5;28;01mtry\u001b[39;00m:\n\u001b[1;32m--> 179\u001b[0m     data \u001b[38;5;241m=\u001b[39m formatter(obj)\n\u001b[0;32m    180\u001b[0m \u001b[38;5;28;01mexcept\u001b[39;00m:\n\u001b[0;32m    181\u001b[0m     \u001b[38;5;66;03m# FIXME: log the exception\u001b[39;00m\n\u001b[0;32m    182\u001b[0m     \u001b[38;5;28;01mraise\u001b[39;00m\n",
      "File \u001b[1;32m~\\anaconda3\\Lib\\site-packages\\decorator.py:232\u001b[0m, in \u001b[0;36mdecorate.<locals>.fun\u001b[1;34m(*args, **kw)\u001b[0m\n\u001b[0;32m    230\u001b[0m \u001b[38;5;28;01mif\u001b[39;00m \u001b[38;5;129;01mnot\u001b[39;00m kwsyntax:\n\u001b[0;32m    231\u001b[0m     args, kw \u001b[38;5;241m=\u001b[39m fix(args, kw, sig)\n\u001b[1;32m--> 232\u001b[0m \u001b[38;5;28;01mreturn\u001b[39;00m caller(func, \u001b[38;5;241m*\u001b[39m(extras \u001b[38;5;241m+\u001b[39m args), \u001b[38;5;241m*\u001b[39m\u001b[38;5;241m*\u001b[39mkw)\n",
      "File \u001b[1;32m~\\anaconda3\\Lib\\site-packages\\IPython\\core\\formatters.py:223\u001b[0m, in \u001b[0;36mcatch_format_error\u001b[1;34m(method, self, *args, **kwargs)\u001b[0m\n\u001b[0;32m    221\u001b[0m \u001b[38;5;250m\u001b[39m\u001b[38;5;124;03m\"\"\"show traceback on failed format call\"\"\"\u001b[39;00m\n\u001b[0;32m    222\u001b[0m \u001b[38;5;28;01mtry\u001b[39;00m:\n\u001b[1;32m--> 223\u001b[0m     r \u001b[38;5;241m=\u001b[39m method(\u001b[38;5;28mself\u001b[39m, \u001b[38;5;241m*\u001b[39margs, \u001b[38;5;241m*\u001b[39m\u001b[38;5;241m*\u001b[39mkwargs)\n\u001b[0;32m    224\u001b[0m \u001b[38;5;28;01mexcept\u001b[39;00m \u001b[38;5;167;01mNotImplementedError\u001b[39;00m:\n\u001b[0;32m    225\u001b[0m     \u001b[38;5;66;03m# don't warn on NotImplementedErrors\u001b[39;00m\n\u001b[0;32m    226\u001b[0m     \u001b[38;5;28;01mreturn\u001b[39;00m \u001b[38;5;28mself\u001b[39m\u001b[38;5;241m.\u001b[39m_check_return(\u001b[38;5;28;01mNone\u001b[39;00m, args[\u001b[38;5;241m0\u001b[39m])\n",
      "File \u001b[1;32m~\\anaconda3\\Lib\\site-packages\\IPython\\core\\formatters.py:340\u001b[0m, in \u001b[0;36mBaseFormatter.__call__\u001b[1;34m(self, obj)\u001b[0m\n\u001b[0;32m    338\u001b[0m     \u001b[38;5;28;01mpass\u001b[39;00m\n\u001b[0;32m    339\u001b[0m \u001b[38;5;28;01melse\u001b[39;00m:\n\u001b[1;32m--> 340\u001b[0m     \u001b[38;5;28;01mreturn\u001b[39;00m printer(obj)\n\u001b[0;32m    341\u001b[0m \u001b[38;5;66;03m# Finally look for special method names\u001b[39;00m\n\u001b[0;32m    342\u001b[0m method \u001b[38;5;241m=\u001b[39m get_real_method(obj, \u001b[38;5;28mself\u001b[39m\u001b[38;5;241m.\u001b[39mprint_method)\n",
      "File \u001b[1;32m~\\anaconda3\\Lib\\site-packages\\IPython\\core\\pylabtools.py:152\u001b[0m, in \u001b[0;36mprint_figure\u001b[1;34m(fig, fmt, bbox_inches, base64, **kwargs)\u001b[0m\n\u001b[0;32m    149\u001b[0m     \u001b[38;5;28;01mfrom\u001b[39;00m \u001b[38;5;21;01mmatplotlib\u001b[39;00m\u001b[38;5;21;01m.\u001b[39;00m\u001b[38;5;21;01mbackend_bases\u001b[39;00m \u001b[38;5;28;01mimport\u001b[39;00m FigureCanvasBase\n\u001b[0;32m    150\u001b[0m     FigureCanvasBase(fig)\n\u001b[1;32m--> 152\u001b[0m fig\u001b[38;5;241m.\u001b[39mcanvas\u001b[38;5;241m.\u001b[39mprint_figure(bytes_io, \u001b[38;5;241m*\u001b[39m\u001b[38;5;241m*\u001b[39mkw)\n\u001b[0;32m    153\u001b[0m data \u001b[38;5;241m=\u001b[39m bytes_io\u001b[38;5;241m.\u001b[39mgetvalue()\n\u001b[0;32m    154\u001b[0m \u001b[38;5;28;01mif\u001b[39;00m fmt \u001b[38;5;241m==\u001b[39m \u001b[38;5;124m'\u001b[39m\u001b[38;5;124msvg\u001b[39m\u001b[38;5;124m'\u001b[39m:\n",
      "File \u001b[1;32m~\\anaconda3\\Lib\\site-packages\\matplotlib\\backend_bases.py:2366\u001b[0m, in \u001b[0;36mFigureCanvasBase.print_figure\u001b[1;34m(self, filename, dpi, facecolor, edgecolor, orientation, format, bbox_inches, pad_inches, bbox_extra_artists, backend, **kwargs)\u001b[0m\n\u001b[0;32m   2362\u001b[0m \u001b[38;5;28;01mtry\u001b[39;00m:\n\u001b[0;32m   2363\u001b[0m     \u001b[38;5;66;03m# _get_renderer may change the figure dpi (as vector formats\u001b[39;00m\n\u001b[0;32m   2364\u001b[0m     \u001b[38;5;66;03m# force the figure dpi to 72), so we need to set it again here.\u001b[39;00m\n\u001b[0;32m   2365\u001b[0m     \u001b[38;5;28;01mwith\u001b[39;00m cbook\u001b[38;5;241m.\u001b[39m_setattr_cm(\u001b[38;5;28mself\u001b[39m\u001b[38;5;241m.\u001b[39mfigure, dpi\u001b[38;5;241m=\u001b[39mdpi):\n\u001b[1;32m-> 2366\u001b[0m         result \u001b[38;5;241m=\u001b[39m print_method(\n\u001b[0;32m   2367\u001b[0m             filename,\n\u001b[0;32m   2368\u001b[0m             facecolor\u001b[38;5;241m=\u001b[39mfacecolor,\n\u001b[0;32m   2369\u001b[0m             edgecolor\u001b[38;5;241m=\u001b[39medgecolor,\n\u001b[0;32m   2370\u001b[0m             orientation\u001b[38;5;241m=\u001b[39morientation,\n\u001b[0;32m   2371\u001b[0m             bbox_inches_restore\u001b[38;5;241m=\u001b[39m_bbox_inches_restore,\n\u001b[0;32m   2372\u001b[0m             \u001b[38;5;241m*\u001b[39m\u001b[38;5;241m*\u001b[39mkwargs)\n\u001b[0;32m   2373\u001b[0m \u001b[38;5;28;01mfinally\u001b[39;00m:\n\u001b[0;32m   2374\u001b[0m     \u001b[38;5;28;01mif\u001b[39;00m bbox_inches \u001b[38;5;129;01mand\u001b[39;00m restore_bbox:\n",
      "File \u001b[1;32m~\\anaconda3\\Lib\\site-packages\\matplotlib\\backend_bases.py:2232\u001b[0m, in \u001b[0;36mFigureCanvasBase._switch_canvas_and_return_print_method.<locals>.<lambda>\u001b[1;34m(*args, **kwargs)\u001b[0m\n\u001b[0;32m   2228\u001b[0m     optional_kws \u001b[38;5;241m=\u001b[39m {  \u001b[38;5;66;03m# Passed by print_figure for other renderers.\u001b[39;00m\n\u001b[0;32m   2229\u001b[0m         \u001b[38;5;124m\"\u001b[39m\u001b[38;5;124mdpi\u001b[39m\u001b[38;5;124m\"\u001b[39m, \u001b[38;5;124m\"\u001b[39m\u001b[38;5;124mfacecolor\u001b[39m\u001b[38;5;124m\"\u001b[39m, \u001b[38;5;124m\"\u001b[39m\u001b[38;5;124medgecolor\u001b[39m\u001b[38;5;124m\"\u001b[39m, \u001b[38;5;124m\"\u001b[39m\u001b[38;5;124morientation\u001b[39m\u001b[38;5;124m\"\u001b[39m,\n\u001b[0;32m   2230\u001b[0m         \u001b[38;5;124m\"\u001b[39m\u001b[38;5;124mbbox_inches_restore\u001b[39m\u001b[38;5;124m\"\u001b[39m}\n\u001b[0;32m   2231\u001b[0m     skip \u001b[38;5;241m=\u001b[39m optional_kws \u001b[38;5;241m-\u001b[39m {\u001b[38;5;241m*\u001b[39minspect\u001b[38;5;241m.\u001b[39msignature(meth)\u001b[38;5;241m.\u001b[39mparameters}\n\u001b[1;32m-> 2232\u001b[0m     print_method \u001b[38;5;241m=\u001b[39m functools\u001b[38;5;241m.\u001b[39mwraps(meth)(\u001b[38;5;28;01mlambda\u001b[39;00m \u001b[38;5;241m*\u001b[39margs, \u001b[38;5;241m*\u001b[39m\u001b[38;5;241m*\u001b[39mkwargs: meth(\n\u001b[0;32m   2233\u001b[0m         \u001b[38;5;241m*\u001b[39margs, \u001b[38;5;241m*\u001b[39m\u001b[38;5;241m*\u001b[39m{k: v \u001b[38;5;28;01mfor\u001b[39;00m k, v \u001b[38;5;129;01min\u001b[39;00m kwargs\u001b[38;5;241m.\u001b[39mitems() \u001b[38;5;28;01mif\u001b[39;00m k \u001b[38;5;129;01mnot\u001b[39;00m \u001b[38;5;129;01min\u001b[39;00m skip}))\n\u001b[0;32m   2234\u001b[0m \u001b[38;5;28;01melse\u001b[39;00m:  \u001b[38;5;66;03m# Let third-parties do as they see fit.\u001b[39;00m\n\u001b[0;32m   2235\u001b[0m     print_method \u001b[38;5;241m=\u001b[39m meth\n",
      "File \u001b[1;32m~\\anaconda3\\Lib\\site-packages\\matplotlib\\backends\\backend_agg.py:509\u001b[0m, in \u001b[0;36mFigureCanvasAgg.print_png\u001b[1;34m(self, filename_or_obj, metadata, pil_kwargs)\u001b[0m\n\u001b[0;32m    462\u001b[0m \u001b[38;5;28;01mdef\u001b[39;00m \u001b[38;5;21mprint_png\u001b[39m(\u001b[38;5;28mself\u001b[39m, filename_or_obj, \u001b[38;5;241m*\u001b[39m, metadata\u001b[38;5;241m=\u001b[39m\u001b[38;5;28;01mNone\u001b[39;00m, pil_kwargs\u001b[38;5;241m=\u001b[39m\u001b[38;5;28;01mNone\u001b[39;00m):\n\u001b[0;32m    463\u001b[0m \u001b[38;5;250m    \u001b[39m\u001b[38;5;124;03m\"\"\"\u001b[39;00m\n\u001b[0;32m    464\u001b[0m \u001b[38;5;124;03m    Write the figure to a PNG file.\u001b[39;00m\n\u001b[0;32m    465\u001b[0m \n\u001b[1;32m   (...)\u001b[0m\n\u001b[0;32m    507\u001b[0m \u001b[38;5;124;03m        *metadata*, including the default 'Software' key.\u001b[39;00m\n\u001b[0;32m    508\u001b[0m \u001b[38;5;124;03m    \"\"\"\u001b[39;00m\n\u001b[1;32m--> 509\u001b[0m     \u001b[38;5;28mself\u001b[39m\u001b[38;5;241m.\u001b[39m_print_pil(filename_or_obj, \u001b[38;5;124m\"\u001b[39m\u001b[38;5;124mpng\u001b[39m\u001b[38;5;124m\"\u001b[39m, pil_kwargs, metadata)\n",
      "File \u001b[1;32m~\\anaconda3\\Lib\\site-packages\\matplotlib\\backends\\backend_agg.py:457\u001b[0m, in \u001b[0;36mFigureCanvasAgg._print_pil\u001b[1;34m(self, filename_or_obj, fmt, pil_kwargs, metadata)\u001b[0m\n\u001b[0;32m    452\u001b[0m \u001b[38;5;28;01mdef\u001b[39;00m \u001b[38;5;21m_print_pil\u001b[39m(\u001b[38;5;28mself\u001b[39m, filename_or_obj, fmt, pil_kwargs, metadata\u001b[38;5;241m=\u001b[39m\u001b[38;5;28;01mNone\u001b[39;00m):\n\u001b[0;32m    453\u001b[0m \u001b[38;5;250m    \u001b[39m\u001b[38;5;124;03m\"\"\"\u001b[39;00m\n\u001b[0;32m    454\u001b[0m \u001b[38;5;124;03m    Draw the canvas, then save it using `.image.imsave` (to which\u001b[39;00m\n\u001b[0;32m    455\u001b[0m \u001b[38;5;124;03m    *pil_kwargs* and *metadata* are forwarded).\u001b[39;00m\n\u001b[0;32m    456\u001b[0m \u001b[38;5;124;03m    \"\"\"\u001b[39;00m\n\u001b[1;32m--> 457\u001b[0m     FigureCanvasAgg\u001b[38;5;241m.\u001b[39mdraw(\u001b[38;5;28mself\u001b[39m)\n\u001b[0;32m    458\u001b[0m     mpl\u001b[38;5;241m.\u001b[39mimage\u001b[38;5;241m.\u001b[39mimsave(\n\u001b[0;32m    459\u001b[0m         filename_or_obj, \u001b[38;5;28mself\u001b[39m\u001b[38;5;241m.\u001b[39mbuffer_rgba(), \u001b[38;5;28mformat\u001b[39m\u001b[38;5;241m=\u001b[39mfmt, origin\u001b[38;5;241m=\u001b[39m\u001b[38;5;124m\"\u001b[39m\u001b[38;5;124mupper\u001b[39m\u001b[38;5;124m\"\u001b[39m,\n\u001b[0;32m    460\u001b[0m         dpi\u001b[38;5;241m=\u001b[39m\u001b[38;5;28mself\u001b[39m\u001b[38;5;241m.\u001b[39mfigure\u001b[38;5;241m.\u001b[39mdpi, metadata\u001b[38;5;241m=\u001b[39mmetadata, pil_kwargs\u001b[38;5;241m=\u001b[39mpil_kwargs)\n",
      "File \u001b[1;32m~\\anaconda3\\Lib\\site-packages\\matplotlib\\backends\\backend_agg.py:400\u001b[0m, in \u001b[0;36mFigureCanvasAgg.draw\u001b[1;34m(self)\u001b[0m\n\u001b[0;32m    396\u001b[0m \u001b[38;5;66;03m# Acquire a lock on the shared font cache.\u001b[39;00m\n\u001b[0;32m    397\u001b[0m \u001b[38;5;28;01mwith\u001b[39;00m RendererAgg\u001b[38;5;241m.\u001b[39mlock, \\\n\u001b[0;32m    398\u001b[0m      (\u001b[38;5;28mself\u001b[39m\u001b[38;5;241m.\u001b[39mtoolbar\u001b[38;5;241m.\u001b[39m_wait_cursor_for_draw_cm() \u001b[38;5;28;01mif\u001b[39;00m \u001b[38;5;28mself\u001b[39m\u001b[38;5;241m.\u001b[39mtoolbar\n\u001b[0;32m    399\u001b[0m       \u001b[38;5;28;01melse\u001b[39;00m nullcontext()):\n\u001b[1;32m--> 400\u001b[0m     \u001b[38;5;28mself\u001b[39m\u001b[38;5;241m.\u001b[39mfigure\u001b[38;5;241m.\u001b[39mdraw(\u001b[38;5;28mself\u001b[39m\u001b[38;5;241m.\u001b[39mrenderer)\n\u001b[0;32m    401\u001b[0m     \u001b[38;5;66;03m# A GUI class may be need to update a window using this draw, so\u001b[39;00m\n\u001b[0;32m    402\u001b[0m     \u001b[38;5;66;03m# don't forget to call the superclass.\u001b[39;00m\n\u001b[0;32m    403\u001b[0m     \u001b[38;5;28msuper\u001b[39m()\u001b[38;5;241m.\u001b[39mdraw()\n",
      "File \u001b[1;32m~\\anaconda3\\Lib\\site-packages\\matplotlib\\artist.py:95\u001b[0m, in \u001b[0;36m_finalize_rasterization.<locals>.draw_wrapper\u001b[1;34m(artist, renderer, *args, **kwargs)\u001b[0m\n\u001b[0;32m     93\u001b[0m \u001b[38;5;129m@wraps\u001b[39m(draw)\n\u001b[0;32m     94\u001b[0m \u001b[38;5;28;01mdef\u001b[39;00m \u001b[38;5;21mdraw_wrapper\u001b[39m(artist, renderer, \u001b[38;5;241m*\u001b[39margs, \u001b[38;5;241m*\u001b[39m\u001b[38;5;241m*\u001b[39mkwargs):\n\u001b[1;32m---> 95\u001b[0m     result \u001b[38;5;241m=\u001b[39m draw(artist, renderer, \u001b[38;5;241m*\u001b[39margs, \u001b[38;5;241m*\u001b[39m\u001b[38;5;241m*\u001b[39mkwargs)\n\u001b[0;32m     96\u001b[0m     \u001b[38;5;28;01mif\u001b[39;00m renderer\u001b[38;5;241m.\u001b[39m_rasterizing:\n\u001b[0;32m     97\u001b[0m         renderer\u001b[38;5;241m.\u001b[39mstop_rasterizing()\n",
      "File \u001b[1;32m~\\anaconda3\\Lib\\site-packages\\matplotlib\\artist.py:72\u001b[0m, in \u001b[0;36mallow_rasterization.<locals>.draw_wrapper\u001b[1;34m(artist, renderer)\u001b[0m\n\u001b[0;32m     69\u001b[0m     \u001b[38;5;28;01mif\u001b[39;00m artist\u001b[38;5;241m.\u001b[39mget_agg_filter() \u001b[38;5;129;01mis\u001b[39;00m \u001b[38;5;129;01mnot\u001b[39;00m \u001b[38;5;28;01mNone\u001b[39;00m:\n\u001b[0;32m     70\u001b[0m         renderer\u001b[38;5;241m.\u001b[39mstart_filter()\n\u001b[1;32m---> 72\u001b[0m     \u001b[38;5;28;01mreturn\u001b[39;00m draw(artist, renderer)\n\u001b[0;32m     73\u001b[0m \u001b[38;5;28;01mfinally\u001b[39;00m:\n\u001b[0;32m     74\u001b[0m     \u001b[38;5;28;01mif\u001b[39;00m artist\u001b[38;5;241m.\u001b[39mget_agg_filter() \u001b[38;5;129;01mis\u001b[39;00m \u001b[38;5;129;01mnot\u001b[39;00m \u001b[38;5;28;01mNone\u001b[39;00m:\n",
      "File \u001b[1;32m~\\anaconda3\\Lib\\site-packages\\matplotlib\\figure.py:3140\u001b[0m, in \u001b[0;36mFigure.draw\u001b[1;34m(self, renderer)\u001b[0m\n\u001b[0;32m   3137\u001b[0m         \u001b[38;5;66;03m# ValueError can occur when resizing a window.\u001b[39;00m\n\u001b[0;32m   3139\u001b[0m \u001b[38;5;28mself\u001b[39m\u001b[38;5;241m.\u001b[39mpatch\u001b[38;5;241m.\u001b[39mdraw(renderer)\n\u001b[1;32m-> 3140\u001b[0m mimage\u001b[38;5;241m.\u001b[39m_draw_list_compositing_images(\n\u001b[0;32m   3141\u001b[0m     renderer, \u001b[38;5;28mself\u001b[39m, artists, \u001b[38;5;28mself\u001b[39m\u001b[38;5;241m.\u001b[39msuppressComposite)\n\u001b[0;32m   3143\u001b[0m \u001b[38;5;28;01mfor\u001b[39;00m sfig \u001b[38;5;129;01min\u001b[39;00m \u001b[38;5;28mself\u001b[39m\u001b[38;5;241m.\u001b[39msubfigs:\n\u001b[0;32m   3144\u001b[0m     sfig\u001b[38;5;241m.\u001b[39mdraw(renderer)\n",
      "File \u001b[1;32m~\\anaconda3\\Lib\\site-packages\\matplotlib\\image.py:131\u001b[0m, in \u001b[0;36m_draw_list_compositing_images\u001b[1;34m(renderer, parent, artists, suppress_composite)\u001b[0m\n\u001b[0;32m    129\u001b[0m \u001b[38;5;28;01mif\u001b[39;00m not_composite \u001b[38;5;129;01mor\u001b[39;00m \u001b[38;5;129;01mnot\u001b[39;00m has_images:\n\u001b[0;32m    130\u001b[0m     \u001b[38;5;28;01mfor\u001b[39;00m a \u001b[38;5;129;01min\u001b[39;00m artists:\n\u001b[1;32m--> 131\u001b[0m         a\u001b[38;5;241m.\u001b[39mdraw(renderer)\n\u001b[0;32m    132\u001b[0m \u001b[38;5;28;01melse\u001b[39;00m:\n\u001b[0;32m    133\u001b[0m     \u001b[38;5;66;03m# Composite any adjacent images together\u001b[39;00m\n\u001b[0;32m    134\u001b[0m     image_group \u001b[38;5;241m=\u001b[39m []\n",
      "File \u001b[1;32m~\\anaconda3\\Lib\\site-packages\\matplotlib\\artist.py:72\u001b[0m, in \u001b[0;36mallow_rasterization.<locals>.draw_wrapper\u001b[1;34m(artist, renderer)\u001b[0m\n\u001b[0;32m     69\u001b[0m     \u001b[38;5;28;01mif\u001b[39;00m artist\u001b[38;5;241m.\u001b[39mget_agg_filter() \u001b[38;5;129;01mis\u001b[39;00m \u001b[38;5;129;01mnot\u001b[39;00m \u001b[38;5;28;01mNone\u001b[39;00m:\n\u001b[0;32m     70\u001b[0m         renderer\u001b[38;5;241m.\u001b[39mstart_filter()\n\u001b[1;32m---> 72\u001b[0m     \u001b[38;5;28;01mreturn\u001b[39;00m draw(artist, renderer)\n\u001b[0;32m     73\u001b[0m \u001b[38;5;28;01mfinally\u001b[39;00m:\n\u001b[0;32m     74\u001b[0m     \u001b[38;5;28;01mif\u001b[39;00m artist\u001b[38;5;241m.\u001b[39mget_agg_filter() \u001b[38;5;129;01mis\u001b[39;00m \u001b[38;5;129;01mnot\u001b[39;00m \u001b[38;5;28;01mNone\u001b[39;00m:\n",
      "File \u001b[1;32m~\\anaconda3\\Lib\\site-packages\\matplotlib\\axes\\_base.py:3064\u001b[0m, in \u001b[0;36m_AxesBase.draw\u001b[1;34m(self, renderer)\u001b[0m\n\u001b[0;32m   3061\u001b[0m \u001b[38;5;28;01mif\u001b[39;00m artists_rasterized:\n\u001b[0;32m   3062\u001b[0m     _draw_rasterized(\u001b[38;5;28mself\u001b[39m\u001b[38;5;241m.\u001b[39mfigure, artists_rasterized, renderer)\n\u001b[1;32m-> 3064\u001b[0m mimage\u001b[38;5;241m.\u001b[39m_draw_list_compositing_images(\n\u001b[0;32m   3065\u001b[0m     renderer, \u001b[38;5;28mself\u001b[39m, artists, \u001b[38;5;28mself\u001b[39m\u001b[38;5;241m.\u001b[39mfigure\u001b[38;5;241m.\u001b[39msuppressComposite)\n\u001b[0;32m   3067\u001b[0m renderer\u001b[38;5;241m.\u001b[39mclose_group(\u001b[38;5;124m'\u001b[39m\u001b[38;5;124maxes\u001b[39m\u001b[38;5;124m'\u001b[39m)\n\u001b[0;32m   3068\u001b[0m \u001b[38;5;28mself\u001b[39m\u001b[38;5;241m.\u001b[39mstale \u001b[38;5;241m=\u001b[39m \u001b[38;5;28;01mFalse\u001b[39;00m\n",
      "File \u001b[1;32m~\\anaconda3\\Lib\\site-packages\\matplotlib\\image.py:131\u001b[0m, in \u001b[0;36m_draw_list_compositing_images\u001b[1;34m(renderer, parent, artists, suppress_composite)\u001b[0m\n\u001b[0;32m    129\u001b[0m \u001b[38;5;28;01mif\u001b[39;00m not_composite \u001b[38;5;129;01mor\u001b[39;00m \u001b[38;5;129;01mnot\u001b[39;00m has_images:\n\u001b[0;32m    130\u001b[0m     \u001b[38;5;28;01mfor\u001b[39;00m a \u001b[38;5;129;01min\u001b[39;00m artists:\n\u001b[1;32m--> 131\u001b[0m         a\u001b[38;5;241m.\u001b[39mdraw(renderer)\n\u001b[0;32m    132\u001b[0m \u001b[38;5;28;01melse\u001b[39;00m:\n\u001b[0;32m    133\u001b[0m     \u001b[38;5;66;03m# Composite any adjacent images together\u001b[39;00m\n\u001b[0;32m    134\u001b[0m     image_group \u001b[38;5;241m=\u001b[39m []\n",
      "File \u001b[1;32m~\\anaconda3\\Lib\\site-packages\\matplotlib\\artist.py:72\u001b[0m, in \u001b[0;36mallow_rasterization.<locals>.draw_wrapper\u001b[1;34m(artist, renderer)\u001b[0m\n\u001b[0;32m     69\u001b[0m     \u001b[38;5;28;01mif\u001b[39;00m artist\u001b[38;5;241m.\u001b[39mget_agg_filter() \u001b[38;5;129;01mis\u001b[39;00m \u001b[38;5;129;01mnot\u001b[39;00m \u001b[38;5;28;01mNone\u001b[39;00m:\n\u001b[0;32m     70\u001b[0m         renderer\u001b[38;5;241m.\u001b[39mstart_filter()\n\u001b[1;32m---> 72\u001b[0m     \u001b[38;5;28;01mreturn\u001b[39;00m draw(artist, renderer)\n\u001b[0;32m     73\u001b[0m \u001b[38;5;28;01mfinally\u001b[39;00m:\n\u001b[0;32m     74\u001b[0m     \u001b[38;5;28;01mif\u001b[39;00m artist\u001b[38;5;241m.\u001b[39mget_agg_filter() \u001b[38;5;129;01mis\u001b[39;00m \u001b[38;5;129;01mnot\u001b[39;00m \u001b[38;5;28;01mNone\u001b[39;00m:\n",
      "File \u001b[1;32m~\\anaconda3\\Lib\\site-packages\\matplotlib\\collections.py:972\u001b[0m, in \u001b[0;36m_CollectionWithSizes.draw\u001b[1;34m(self, renderer)\u001b[0m\n\u001b[0;32m    969\u001b[0m \u001b[38;5;129m@artist\u001b[39m\u001b[38;5;241m.\u001b[39mallow_rasterization\n\u001b[0;32m    970\u001b[0m \u001b[38;5;28;01mdef\u001b[39;00m \u001b[38;5;21mdraw\u001b[39m(\u001b[38;5;28mself\u001b[39m, renderer):\n\u001b[0;32m    971\u001b[0m     \u001b[38;5;28mself\u001b[39m\u001b[38;5;241m.\u001b[39mset_sizes(\u001b[38;5;28mself\u001b[39m\u001b[38;5;241m.\u001b[39m_sizes, \u001b[38;5;28mself\u001b[39m\u001b[38;5;241m.\u001b[39mfigure\u001b[38;5;241m.\u001b[39mdpi)\n\u001b[1;32m--> 972\u001b[0m     \u001b[38;5;28msuper\u001b[39m()\u001b[38;5;241m.\u001b[39mdraw(renderer)\n",
      "File \u001b[1;32m~\\anaconda3\\Lib\\site-packages\\matplotlib\\artist.py:72\u001b[0m, in \u001b[0;36mallow_rasterization.<locals>.draw_wrapper\u001b[1;34m(artist, renderer)\u001b[0m\n\u001b[0;32m     69\u001b[0m     \u001b[38;5;28;01mif\u001b[39;00m artist\u001b[38;5;241m.\u001b[39mget_agg_filter() \u001b[38;5;129;01mis\u001b[39;00m \u001b[38;5;129;01mnot\u001b[39;00m \u001b[38;5;28;01mNone\u001b[39;00m:\n\u001b[0;32m     70\u001b[0m         renderer\u001b[38;5;241m.\u001b[39mstart_filter()\n\u001b[1;32m---> 72\u001b[0m     \u001b[38;5;28;01mreturn\u001b[39;00m draw(artist, renderer)\n\u001b[0;32m     73\u001b[0m \u001b[38;5;28;01mfinally\u001b[39;00m:\n\u001b[0;32m     74\u001b[0m     \u001b[38;5;28;01mif\u001b[39;00m artist\u001b[38;5;241m.\u001b[39mget_agg_filter() \u001b[38;5;129;01mis\u001b[39;00m \u001b[38;5;129;01mnot\u001b[39;00m \u001b[38;5;28;01mNone\u001b[39;00m:\n",
      "File \u001b[1;32m~\\anaconda3\\Lib\\site-packages\\matplotlib\\collections.py:417\u001b[0m, in \u001b[0;36mCollection.draw\u001b[1;34m(self, renderer)\u001b[0m\n\u001b[0;32m    408\u001b[0m \u001b[38;5;28;01melse\u001b[39;00m:\n\u001b[0;32m    409\u001b[0m     renderer\u001b[38;5;241m.\u001b[39mdraw_path_collection(\n\u001b[0;32m    410\u001b[0m         gc, transform\u001b[38;5;241m.\u001b[39mfrozen(), paths,\n\u001b[0;32m    411\u001b[0m         \u001b[38;5;28mself\u001b[39m\u001b[38;5;241m.\u001b[39mget_transforms(), offsets, offset_trf,\n\u001b[1;32m   (...)\u001b[0m\n\u001b[0;32m    414\u001b[0m         \u001b[38;5;28mself\u001b[39m\u001b[38;5;241m.\u001b[39m_antialiaseds, \u001b[38;5;28mself\u001b[39m\u001b[38;5;241m.\u001b[39m_urls,\n\u001b[0;32m    415\u001b[0m         \u001b[38;5;124m\"\u001b[39m\u001b[38;5;124mscreen\u001b[39m\u001b[38;5;124m\"\u001b[39m)  \u001b[38;5;66;03m# offset_position, kept for backcompat.\u001b[39;00m\n\u001b[1;32m--> 417\u001b[0m gc\u001b[38;5;241m.\u001b[39mrestore()\n\u001b[0;32m    418\u001b[0m renderer\u001b[38;5;241m.\u001b[39mclose_group(\u001b[38;5;28mself\u001b[39m\u001b[38;5;241m.\u001b[39m\u001b[38;5;18m__class__\u001b[39m\u001b[38;5;241m.\u001b[39m\u001b[38;5;18m__name__\u001b[39m)\n\u001b[0;32m    419\u001b[0m \u001b[38;5;28mself\u001b[39m\u001b[38;5;241m.\u001b[39mstale \u001b[38;5;241m=\u001b[39m \u001b[38;5;28;01mFalse\u001b[39;00m\n",
      "File \u001b[1;32m~\\anaconda3\\Lib\\site-packages\\matplotlib\\backend_bases.py:801\u001b[0m, in \u001b[0;36mGraphicsContextBase.restore\u001b[1;34m(self)\u001b[0m\n\u001b[0;32m    798\u001b[0m     \u001b[38;5;28mself\u001b[39m\u001b[38;5;241m.\u001b[39m_snap \u001b[38;5;241m=\u001b[39m gc\u001b[38;5;241m.\u001b[39m_snap\n\u001b[0;32m    799\u001b[0m     \u001b[38;5;28mself\u001b[39m\u001b[38;5;241m.\u001b[39m_sketch \u001b[38;5;241m=\u001b[39m gc\u001b[38;5;241m.\u001b[39m_sketch\n\u001b[1;32m--> 801\u001b[0m \u001b[38;5;28;01mdef\u001b[39;00m \u001b[38;5;21mrestore\u001b[39m(\u001b[38;5;28mself\u001b[39m):\n\u001b[0;32m    802\u001b[0m \u001b[38;5;250m    \u001b[39m\u001b[38;5;124;03m\"\"\"\u001b[39;00m\n\u001b[0;32m    803\u001b[0m \u001b[38;5;124;03m    Restore the graphics context from the stack - needed only\u001b[39;00m\n\u001b[0;32m    804\u001b[0m \u001b[38;5;124;03m    for backends that save graphics contexts on a stack.\u001b[39;00m\n\u001b[0;32m    805\u001b[0m \u001b[38;5;124;03m    \"\"\"\u001b[39;00m\n\u001b[0;32m    807\u001b[0m \u001b[38;5;28;01mdef\u001b[39;00m \u001b[38;5;21mget_alpha\u001b[39m(\u001b[38;5;28mself\u001b[39m):\n",
      "\u001b[1;31mKeyboardInterrupt\u001b[0m: "
     ]
    }
   ],
   "source": [
    "plt.subplots(7, 4, figsize=(20, 15))\n",
    "///\n",
    "count = 1\n",
    "\n",
    "for col in X.columns:\n",
    "    plt.subplot(7, 4, count)\n",
    "    sns.scatterplot(x=X[col], y=y)\n",
    "    plt.title(col)\n",
    "    \n",
    "    count += 1\n",
    "    \n",
    "plt.tight_layout()\n",
    "plt.show()"
   ]
  },
  {
   "cell_type": "markdown",
   "id": "08079973",
   "metadata": {},
   "source": [
    "From the above graph, we can see that there is no obvious linear relationship between X and y, lets see if there is high correlations between x variables."
   ]
  },
  {
   "cell_type": "code",
   "execution_count": null,
   "id": "1545c81e",
   "metadata": {},
   "outputs": [],
   "source": [
    "X_corr = X.corr()\n",
    "X_corr"
   ]
  },
  {
   "cell_type": "code",
   "execution_count": null,
   "id": "0825d307",
   "metadata": {},
   "outputs": [],
   "source": [
    "plt.figure(figsize=(18, 18))  \n",
    "sns.heatmap(X_corr, annot=True, fmt=\".2f\", cmap='coolwarm')\n",
    "plt.title('Correlation Matrix')"
   ]
  },
  {
   "cell_type": "markdown",
   "id": "3d9cf08e",
   "metadata": {},
   "source": [
    "Remove Outliers and Scale the data"
   ]
  },
  {
   "cell_type": "code",
   "execution_count": 12,
   "id": "e4eaad02",
   "metadata": {},
   "outputs": [],
   "source": [
    "numeric_columns = df9.select_dtypes(include=['float64', 'int64', 'uint8']).columns"
   ]
  },
  {
   "cell_type": "code",
   "execution_count": 13,
   "id": "09195d63",
   "metadata": {},
   "outputs": [],
   "source": [
    "columns_to_exclude = ['volume_3', 'volume_4', 'volume_5']\n",
    "\n",
    "# Loop through the numeric columns and filter out outliers for columns not in the exclusion list\n",
    "for column in numeric_columns:\n",
    "    if column not in columns_to_exclude:\n",
    "        # Calculate the mean and standard deviation for the column\n",
    "        mean = df9[column].mean()\n",
    "        std_dev = df9[column].std()\n",
    "\n",
    "        # Define the cutoff for outliers (3 standard deviations from the mean)\n",
    "        cutoff = std_dev * 3\n",
    "        lower, upper = mean - cutoff, mean + cutoff\n",
    "\n",
    "        # Filter out the outliers from the DataFrame\n",
    "        df9 = df9[(df9[column] >= lower) & (df9[column] <= upper)]"
   ]
  },
  {
   "cell_type": "code",
   "execution_count": 14,
   "id": "1e6bece4",
   "metadata": {},
   "outputs": [],
   "source": [
    "numeric_columns = df9.select_dtypes(include=['float64', 'int64', 'uint8']).columns.tolist()\n",
    "\n",
    "# Initialize the StandardScaler\n",
    "scaler = StandardScaler()\n",
    "\n",
    "# Scale the numeric columns\n",
    "df9[numeric_columns] = scaler.fit_transform(df9[numeric_columns])"
   ]
  },
  {
   "cell_type": "code",
   "execution_count": 15,
   "id": "5552adee",
   "metadata": {},
   "outputs": [],
   "source": [
    "mean = df9['profit'].mean()\n",
    "std_dev = df9['profit'].std()\n",
    "cutoff = std_dev * 3  # Three standard deviations from the mean\n",
    "lower, upper = mean - cutoff, mean + cutoff\n",
    "# Removing outliers\n",
    "data_filtered = df9[(df9['profit'] >= lower) & (df9['profit'] <= upper)]"
   ]
  },
  {
   "cell_type": "code",
   "execution_count": 16,
   "id": "b6d6a2af",
   "metadata": {},
   "outputs": [],
   "source": [
    "X = df9[numeric_columns].drop(['profit'], axis=1)\n",
    "y = df9['profit']"
   ]
  },
  {
   "cell_type": "code",
   "execution_count": 17,
   "id": "6b286579",
   "metadata": {},
   "outputs": [],
   "source": [
    "X_train, X_test, y_train, y_test = train_test_split(X, y, test_size=0.2, random_state=42)"
   ]
  },
  {
   "cell_type": "code",
   "execution_count": 18,
   "id": "142968ec",
   "metadata": {},
   "outputs": [],
   "source": [
    "# Add a constant term to the X matrix (intercept)\n",
    "X_train_with_const = sm.add_constant(X_train)\n",
    "\n",
    "# Fit a linear regression model with statsmodels\n",
    "model = sm.OLS(y_train, X_train_with_const).fit()\n",
    "\n",
    "# Get the summary statistics of the model\n",
    "summary = model.summary()"
   ]
  },
  {
   "cell_type": "code",
   "execution_count": 19,
   "id": "22b37ee1",
   "metadata": {},
   "outputs": [
    {
     "name": "stdout",
     "output_type": "stream",
     "text": [
      "                            OLS Regression Results                            \n",
      "==============================================================================\n",
      "Dep. Variable:                 profit   R-squared:                       0.459\n",
      "Model:                            OLS   Adj. R-squared:                  0.459\n",
      "Method:                 Least Squares   F-statistic:                     2448.\n",
      "Date:                Tue, 21 Nov 2023   Prob (F-statistic):               0.00\n",
      "Time:                        13:48:06   Log-Likelihood:                -41802.\n",
      "No. Observations:               37457   AIC:                         8.363e+04\n",
      "Df Residuals:                   37443   BIC:                         8.375e+04\n",
      "Df Model:                          13                                         \n",
      "Covariance Type:            nonrobust                                         \n",
      "====================================================================================\n",
      "                       coef    std err          t      P>|t|      [0.025      0.975]\n",
      "------------------------------------------------------------------------------------\n",
      "const               -0.0018      0.004     -0.464      0.643      -0.009       0.006\n",
      "store_number        -0.0501      0.004    -12.867      0.000      -0.058      -0.042\n",
      "zip_code             0.0108      0.004      2.813      0.005       0.003       0.018\n",
      "county_number        0.0232      0.004      6.048      0.000       0.016       0.031\n",
      "category            -0.0649      0.005    -13.148      0.000      -0.075      -0.055\n",
      "vendor_number       -0.0292      0.004     -7.469      0.000      -0.037      -0.022\n",
      "item_number          0.0259      0.005      5.190      0.000       0.016       0.036\n",
      "pack                -0.0069      0.005     -1.537      0.124      -0.016       0.002\n",
      "bottle_volume_ml     0.0384      0.005      8.355      0.000       0.029       0.047\n",
      "day                 -0.0051      0.004     -1.340      0.180      -0.013       0.002\n",
      "week                 0.0103      0.004      2.669      0.008       0.003       0.018\n",
      "volume_3             0.3475      0.004     91.746      0.000       0.340       0.355\n",
      "volume_4             0.4499      0.004    116.638      0.000       0.442       0.457\n",
      "volume_5             0.3498      0.004     92.360      0.000       0.342       0.357\n",
      "==============================================================================\n",
      "Omnibus:                    34224.184   Durbin-Watson:                   2.011\n",
      "Prob(Omnibus):                  0.000   Jarque-Bera (JB):          2727227.156\n",
      "Skew:                           4.135   Prob(JB):                         0.00\n",
      "Kurtosis:                      43.976   Cond. No.                         2.23\n",
      "==============================================================================\n",
      "\n",
      "Notes:\n",
      "[1] Standard Errors assume that the covariance matrix of the errors is correctly specified.\n"
     ]
    }
   ],
   "source": [
    "print(summary)"
   ]
  },
  {
   "cell_type": "code",
   "execution_count": 23,
   "id": "391689ab",
   "metadata": {},
   "outputs": [
    {
     "name": "stdout",
     "output_type": "stream",
     "text": [
      "Training Data Metrics:\n",
      "MSE: 0.5455993210011686, MAE: 0.4187954597019523, RMSE: 0.7386469528815296, R^2: 0.45939708143272995\n"
     ]
    }
   ],
   "source": [
    "from sklearn.metrics import mean_squared_error\n",
    "from sklearn.metrics import mean_absolute_error\n",
    "from sklearn.metrics import r2_score\n",
    "\n",
    "y_t_pred = model.predict(sm.add_constant(X_train))\n",
    "\n",
    "# Calculate metrics for training data\n",
    "t_mse = mean_squared_error(y_train, y_t_pred)\n",
    "t_mae = mean_absolute_error(y_train, y_t_pred)\n",
    "t_rmse = np.sqrt(t_mse)\n",
    "t_r2 = r2_score(y_train, y_t_pred)\n",
    "\n",
    "print(\"Training Data Metrics:\")\n",
    "print(f\"MSE: {t_mse}, MAE: {t_mae}, RMSE: {t_rmse}, R^2: {t_r2}\")"
   ]
  },
  {
   "cell_type": "code",
   "execution_count": 24,
   "id": "50fba59c",
   "metadata": {},
   "outputs": [
    {
     "name": "stdout",
     "output_type": "stream",
     "text": [
      "Test Data Metrics:\n",
      "MSE: 0.5263995946202068, MAE: 0.4201401587444379, RMSE: 0.7255340065222352, R^2: 0.4533759861633311\n"
     ]
    }
   ],
   "source": [
    "y_test_p = model.predict(sm.add_constant(X_test))\n",
    "\n",
    "# Calculate metrics for test data\n",
    "test_mse = mean_squared_error(y_test, y_test_p)\n",
    "test_mae = mean_absolute_error(y_test, y_test_p)\n",
    "test_rmse = np.sqrt(test_mse)\n",
    "test_r2 = r2_score(y_test, y_test_p)\n",
    "\n",
    "print(\"Test Data Metrics:\")\n",
    "print(f\"MSE: {test_mse}, MAE: {test_mae}, RMSE: {test_rmse}, R^2: {test_r2}\")"
   ]
  },
  {
   "cell_type": "markdown",
   "id": "e986e7e6",
   "metadata": {},
   "source": [
    "###"
   ]
  },
  {
   "cell_type": "markdown",
   "id": "c9cf1877",
   "metadata": {},
   "source": [
    "Re-run the model after removing columns that have high p-values(over 0.05)"
   ]
  },
  {
   "cell_type": "code",
   "execution_count": 25,
   "id": "ae9562e6",
   "metadata": {},
   "outputs": [],
   "source": [
    "X1= df9[numeric_columns].drop(['profit', 'pack', 'day'], axis=1)\n",
    "y1= df9['profit']"
   ]
  },
  {
   "cell_type": "code",
   "execution_count": 26,
   "id": "da895376",
   "metadata": {},
   "outputs": [],
   "source": [
    "X1_train, X1_test, y1_train, y1_test = train_test_split(X1, y1, test_size=0.2, random_state=42)"
   ]
  },
  {
   "cell_type": "code",
   "execution_count": 27,
   "id": "90ab96c3",
   "metadata": {},
   "outputs": [],
   "source": [
    "X1_train_with_const = sm.add_constant(X1_train)\n",
    "\n",
    "# Fit a linear regression model with statsmodels\n",
    "model1 = sm.OLS(y1_train, X1_train_with_const).fit()\n",
    "\n",
    "# Get the summary statistics of the model\n",
    "summary1 = model1.summary()"
   ]
  },
  {
   "cell_type": "code",
   "execution_count": 28,
   "id": "42364ed1",
   "metadata": {},
   "outputs": [
    {
     "name": "stdout",
     "output_type": "stream",
     "text": [
      "                            OLS Regression Results                            \n",
      "==============================================================================\n",
      "Dep. Variable:                 profit   R-squared:                       0.459\n",
      "Model:                            OLS   Adj. R-squared:                  0.459\n",
      "Method:                 Least Squares   F-statistic:                     2892.\n",
      "Date:                Tue, 21 Nov 2023   Prob (F-statistic):               0.00\n",
      "Time:                        13:51:48   Log-Likelihood:                -41804.\n",
      "No. Observations:               37457   AIC:                         8.363e+04\n",
      "Df Residuals:                   37445   BIC:                         8.373e+04\n",
      "Df Model:                          11                                         \n",
      "Covariance Type:            nonrobust                                         \n",
      "====================================================================================\n",
      "                       coef    std err          t      P>|t|      [0.025      0.975]\n",
      "------------------------------------------------------------------------------------\n",
      "const               -0.0018      0.004     -0.466      0.641      -0.009       0.006\n",
      "store_number        -0.0505      0.004    -13.020      0.000      -0.058      -0.043\n",
      "zip_code             0.0107      0.004      2.797      0.005       0.003       0.018\n",
      "county_number        0.0232      0.004      6.060      0.000       0.016       0.031\n",
      "category            -0.0652      0.005    -13.217      0.000      -0.075      -0.055\n",
      "vendor_number       -0.0290      0.004     -7.408      0.000      -0.037      -0.021\n",
      "item_number          0.0269      0.005      5.440      0.000       0.017       0.037\n",
      "bottle_volume_ml     0.0421      0.004     10.640      0.000       0.034       0.050\n",
      "week                 0.0099      0.004      2.584      0.010       0.002       0.017\n",
      "volume_3             0.3475      0.004     91.750      0.000       0.340       0.355\n",
      "volume_4             0.4499      0.004    116.647      0.000       0.442       0.457\n",
      "volume_5             0.3498      0.004     92.358      0.000       0.342       0.357\n",
      "==============================================================================\n",
      "Omnibus:                    34227.480   Durbin-Watson:                   2.011\n",
      "Prob(Omnibus):                  0.000   Jarque-Bera (JB):          2728375.420\n",
      "Skew:                           4.135   Prob(JB):                         0.00\n",
      "Kurtosis:                      43.985   Cond. No.                         2.16\n",
      "==============================================================================\n",
      "\n",
      "Notes:\n",
      "[1] Standard Errors assume that the covariance matrix of the errors is correctly specified.\n"
     ]
    }
   ],
   "source": [
    "print(summary1)"
   ]
  },
  {
   "cell_type": "code",
   "execution_count": 29,
   "id": "cdf43854",
   "metadata": {},
   "outputs": [
    {
     "name": "stdout",
     "output_type": "stream",
     "text": [
      "Training Data Metrics:\n",
      "MSE: 0.545659603288095, MAE: 0.41874681680983555, RMSE: 0.7386877576405981, R^2: 0.4593373511893152\n"
     ]
    }
   ],
   "source": [
    "y1_t_pred = model1.predict(sm.add_constant(X1_train))\n",
    "\n",
    "# Calculate metrics for training data\n",
    "t_mse = mean_squared_error(y1_train, y1_t_pred)\n",
    "t_mae = mean_absolute_error(y1_train, y1_t_pred)\n",
    "t_rmse = np.sqrt(t_mse)\n",
    "t_r2 = r2_score(y1_train, y1_t_pred)\n",
    "\n",
    "print(\"Training Data Metrics:\")\n",
    "print(f\"MSE: {t_mse}, MAE: {t_mae}, RMSE: {t_rmse}, R^2: {t_r2}\")"
   ]
  },
  {
   "cell_type": "code",
   "execution_count": 30,
   "id": "dd3e00d9",
   "metadata": {},
   "outputs": [
    {
     "name": "stdout",
     "output_type": "stream",
     "text": [
      "Test Data Metrics:\n",
      "MSE: 0.5263271775985973, MAE: 0.4200369401412739, RMSE: 0.7254840987910054, R^2: 0.45345118546710506\n"
     ]
    }
   ],
   "source": [
    "y1_test_p = model1.predict(sm.add_constant(X1_test))\n",
    "\n",
    "# Calculate metrics for test data\n",
    "test_mse = mean_squared_error(y1_test, y1_test_p)\n",
    "test_mae = mean_absolute_error(y1_test, y1_test_p)\n",
    "test_rmse = np.sqrt(test_mse)\n",
    "test_r2 = r2_score(y1_test, y1_test_p)\n",
    "\n",
    "print(\"Test Data Metrics:\")\n",
    "print(f\"MSE: {test_mse}, MAE: {test_mae}, RMSE: {test_rmse}, R^2: {test_r2}\")"
   ]
  },
  {
   "cell_type": "markdown",
   "id": "bb70a6f6",
   "metadata": {},
   "source": [
    "The model does not show a significant difference in performance between the training and test datasets, which is good because it suggests that the model is not overfitting. However, the performance itself is not good because the R^2 values are very low, indicating that the model explains very little of the variation in the target variable. We need to intoduce more models to test our data."
   ]
  },
  {
   "cell_type": "markdown",
   "id": "1f25ffaa",
   "metadata": {},
   "source": [
    "###"
   ]
  },
  {
   "cell_type": "markdown",
   "id": "129174c9",
   "metadata": {},
   "source": [
    "### Decision Tree"
   ]
  },
  {
   "cell_type": "markdown",
   "id": "c74b4b33",
   "metadata": {},
   "source": [
    "#### Basic Model"
   ]
  },
  {
   "cell_type": "code",
   "execution_count": 31,
   "id": "196c6e68",
   "metadata": {},
   "outputs": [],
   "source": [
    "# Select numeric columns from df9\n",
    "numeric_columns = df9.select_dtypes(include=[np.number])\n",
    "\n",
    "# Drop the specified columns from the numeric columns DataFrame\n",
    "X1 = numeric_columns.drop(['profit', 'pack', 'day'], axis=1)"
   ]
  },
  {
   "cell_type": "code",
   "execution_count": 32,
   "id": "f3e1eb28",
   "metadata": {},
   "outputs": [],
   "source": [
    "y1 = df9['profit']\n",
    "X1_train, X1_test, y1_train, y1_test = train_test_split(X1, y1, test_size=0.2, random_state=42)"
   ]
  },
  {
   "cell_type": "code",
   "execution_count": 33,
   "id": "fc80f321",
   "metadata": {},
   "outputs": [],
   "source": [
    "# Create a scaler object\n",
    "scaler = StandardScaler()\n",
    "\n",
    "# Fit the scaler to the training data and transform\n",
    "X1_train_scaled = pd.DataFrame(scaler.fit_transform(X1_train))\n",
    "\n",
    "# Apply the same transformation to the test data\n",
    "X1_test_scaled = pd.DataFrame(scaler.transform(X1_test))"
   ]
  },
  {
   "cell_type": "code",
   "execution_count": 34,
   "id": "99212771",
   "metadata": {},
   "outputs": [
    {
     "data": {
      "text/html": [
       "<style>#sk-container-id-1 {color: black;}#sk-container-id-1 pre{padding: 0;}#sk-container-id-1 div.sk-toggleable {background-color: white;}#sk-container-id-1 label.sk-toggleable__label {cursor: pointer;display: block;width: 100%;margin-bottom: 0;padding: 0.3em;box-sizing: border-box;text-align: center;}#sk-container-id-1 label.sk-toggleable__label-arrow:before {content: \"▸\";float: left;margin-right: 0.25em;color: #696969;}#sk-container-id-1 label.sk-toggleable__label-arrow:hover:before {color: black;}#sk-container-id-1 div.sk-estimator:hover label.sk-toggleable__label-arrow:before {color: black;}#sk-container-id-1 div.sk-toggleable__content {max-height: 0;max-width: 0;overflow: hidden;text-align: left;background-color: #f0f8ff;}#sk-container-id-1 div.sk-toggleable__content pre {margin: 0.2em;color: black;border-radius: 0.25em;background-color: #f0f8ff;}#sk-container-id-1 input.sk-toggleable__control:checked~div.sk-toggleable__content {max-height: 200px;max-width: 100%;overflow: auto;}#sk-container-id-1 input.sk-toggleable__control:checked~label.sk-toggleable__label-arrow:before {content: \"▾\";}#sk-container-id-1 div.sk-estimator input.sk-toggleable__control:checked~label.sk-toggleable__label {background-color: #d4ebff;}#sk-container-id-1 div.sk-label input.sk-toggleable__control:checked~label.sk-toggleable__label {background-color: #d4ebff;}#sk-container-id-1 input.sk-hidden--visually {border: 0;clip: rect(1px 1px 1px 1px);clip: rect(1px, 1px, 1px, 1px);height: 1px;margin: -1px;overflow: hidden;padding: 0;position: absolute;width: 1px;}#sk-container-id-1 div.sk-estimator {font-family: monospace;background-color: #f0f8ff;border: 1px dotted black;border-radius: 0.25em;box-sizing: border-box;margin-bottom: 0.5em;}#sk-container-id-1 div.sk-estimator:hover {background-color: #d4ebff;}#sk-container-id-1 div.sk-parallel-item::after {content: \"\";width: 100%;border-bottom: 1px solid gray;flex-grow: 1;}#sk-container-id-1 div.sk-label:hover label.sk-toggleable__label {background-color: #d4ebff;}#sk-container-id-1 div.sk-serial::before {content: \"\";position: absolute;border-left: 1px solid gray;box-sizing: border-box;top: 0;bottom: 0;left: 50%;z-index: 0;}#sk-container-id-1 div.sk-serial {display: flex;flex-direction: column;align-items: center;background-color: white;padding-right: 0.2em;padding-left: 0.2em;position: relative;}#sk-container-id-1 div.sk-item {position: relative;z-index: 1;}#sk-container-id-1 div.sk-parallel {display: flex;align-items: stretch;justify-content: center;background-color: white;position: relative;}#sk-container-id-1 div.sk-item::before, #sk-container-id-1 div.sk-parallel-item::before {content: \"\";position: absolute;border-left: 1px solid gray;box-sizing: border-box;top: 0;bottom: 0;left: 50%;z-index: -1;}#sk-container-id-1 div.sk-parallel-item {display: flex;flex-direction: column;z-index: 1;position: relative;background-color: white;}#sk-container-id-1 div.sk-parallel-item:first-child::after {align-self: flex-end;width: 50%;}#sk-container-id-1 div.sk-parallel-item:last-child::after {align-self: flex-start;width: 50%;}#sk-container-id-1 div.sk-parallel-item:only-child::after {width: 0;}#sk-container-id-1 div.sk-dashed-wrapped {border: 1px dashed gray;margin: 0 0.4em 0.5em 0.4em;box-sizing: border-box;padding-bottom: 0.4em;background-color: white;}#sk-container-id-1 div.sk-label label {font-family: monospace;font-weight: bold;display: inline-block;line-height: 1.2em;}#sk-container-id-1 div.sk-label-container {text-align: center;}#sk-container-id-1 div.sk-container {/* jupyter's `normalize.less` sets `[hidden] { display: none; }` but bootstrap.min.css set `[hidden] { display: none !important; }` so we also need the `!important` here to be able to override the default hidden behavior on the sphinx rendered scikit-learn.org. See: https://github.com/scikit-learn/scikit-learn/issues/21755 */display: inline-block !important;position: relative;}#sk-container-id-1 div.sk-text-repr-fallback {display: none;}</style><div id=\"sk-container-id-1\" class=\"sk-top-container\"><div class=\"sk-text-repr-fallback\"><pre>DecisionTreeRegressor(random_state=42)</pre><b>In a Jupyter environment, please rerun this cell to show the HTML representation or trust the notebook. <br />On GitHub, the HTML representation is unable to render, please try loading this page with nbviewer.org.</b></div><div class=\"sk-container\" hidden><div class=\"sk-item\"><div class=\"sk-estimator sk-toggleable\"><input class=\"sk-toggleable__control sk-hidden--visually\" id=\"sk-estimator-id-1\" type=\"checkbox\" checked><label for=\"sk-estimator-id-1\" class=\"sk-toggleable__label sk-toggleable__label-arrow\">DecisionTreeRegressor</label><div class=\"sk-toggleable__content\"><pre>DecisionTreeRegressor(random_state=42)</pre></div></div></div></div></div>"
      ],
      "text/plain": [
       "DecisionTreeRegressor(random_state=42)"
      ]
     },
     "execution_count": 34,
     "metadata": {},
     "output_type": "execute_result"
    }
   ],
   "source": [
    "decision_tree_scaled = DecisionTreeRegressor(random_state=42)\n",
    "decision_tree_scaled.fit(X1_train_scaled, y1_train)"
   ]
  },
  {
   "cell_type": "code",
   "execution_count": 232,
   "id": "66a59a48",
   "metadata": {},
   "outputs": [
    {
     "name": "stdout",
     "output_type": "stream",
     "text": [
      "Training Set Accuracy: 0.999933394242837\n",
      "Test Set Accuracy: 0.3728625237278923\n"
     ]
    }
   ],
   "source": [
    "from sklearn.metrics import r2_score\n",
    "\n",
    "y1_train_pred = decision_tree_scaled.predict(X1_train_scaled)\n",
    "y1_test_pred = decision_tree_scaled.predict(X1_test_scaled)\n",
    "\n",
    "# Calculating the R2 score for both training and test sets\n",
    "train_accuracy = r2_score(y1_train, y1_train_pred)\n",
    "test_accuracy = r2_score(y1_test, y1_test_pred)\n",
    "\n",
    "# Print the accuracy scores\n",
    "print(\"Training Set Accuracy:\", train_accuracy)\n",
    "print(\"Test Set Accuracy:\", test_accuracy)"
   ]
  },
  {
   "cell_type": "markdown",
   "id": "9fe0166e",
   "metadata": {},
   "source": [
    "There is a big differenec between the 2 accuracy scores, we would like to build a better model by change parameters."
   ]
  },
  {
   "cell_type": "markdown",
   "id": "1c99a1d6",
   "metadata": {},
   "source": [
    "#### Advanced Model"
   ]
  },
  {
   "cell_type": "markdown",
   "id": "b2614fa9",
   "metadata": {},
   "source": [
    "#### Find the best parameter of Max Depth"
   ]
  },
  {
   "cell_type": "code",
   "execution_count": 35,
   "id": "87980526",
   "metadata": {},
   "outputs": [
    {
     "data": {
      "image/png": "[encoded data removed]",
      "text/plain": [
       "<Figure size 800x500 with 1 Axes>"
      ]
     },
     "metadata": {},
     "output_type": "display_data"
    }
   ],
   "source": [
    "from sklearn.tree import DecisionTreeRegressor\n",
    "from sklearn.metrics import r2_score\n",
    "import matplotlib.pyplot as plt\n",
    "\n",
    "max_depth_values = range(1, 25)\n",
    "accuracy_scores = []\n",
    "\n",
    "for max_depth in max_depth_values:\n",
    "    # Create and train the Decision Tree classifier with varying max_depth\n",
    "    clf = DecisionTreeRegressor(max_depth=max_depth, random_state=42)\n",
    "    clf.fit(X1_train_scaled, y1_train)  \n",
    "    \n",
    "    # Make predictions on the testing data (X1_test_scaled)\n",
    "    y1_pred = clf.predict(X1_test_scaled)\n",
    "    \n",
    "    # Calculate accuracy (R2 score) and store it in the list\n",
    "    accuracy = r2_score(y1_test, y1_pred) \n",
    "    accuracy_scores.append(accuracy)\n",
    "\n",
    "# Create a line plot to visualize accuracy (R2 Score) vs. max_depth\n",
    "plt.figure(figsize=(8, 5))\n",
    "plt.plot(max_depth_values, accuracy_scores, marker='o', linestyle='-')\n",
    "plt.title('Accuracy (R2 Score) vs. Max Depth')\n",
    "plt.xlabel('Max Depth')\n",
    "plt.ylabel('Accuracy (R2 Score)')\n",
    "plt.grid(True)\n",
    "plt.show()"
   ]
  },
  {
   "cell_type": "markdown",
   "id": "ac093ff1",
   "metadata": {},
   "source": [
    "From the graph, we can see that the best parameter of max depth is 12."
   ]
  },
  {
   "cell_type": "markdown",
   "id": "afeb7135",
   "metadata": {},
   "source": [
    "#### Use Grid Search to find best parameters"
   ]
  },
  {
   "cell_type": "code",
   "execution_count": 69,
   "id": "a923ce30",
   "metadata": {},
   "outputs": [],
   "source": [
    "from sklearn.pipeline import Pipeline\n",
    "from sklearn.decomposition import PCA\n",
    "from sklearn.model_selection import GridSearchCV\n",
    "from sklearn.preprocessing import StandardScaler"
   ]
  },
  {
   "cell_type": "code",
   "execution_count": 72,
   "id": "485d8627",
   "metadata": {},
   "outputs": [],
   "source": [
    "# Create the PCA object\n",
    "n_components = 5 \n",
    "my_PCA = PCA(n_components=n_components)\n",
    "\n",
    "# Fit and transform the scaled training data using PCA\n",
    "X1_train_PCA = my_PCA.fit_transform(X1_train_scaled)\n",
    "\n",
    "# Transform the scaled testing data using the same PCA\n",
    "X1_test_PCA = my_PCA.transform(X1_test_scaled)"
   ]
  },
  {
   "cell_type": "code",
   "execution_count": 83,
   "id": "84c482b9",
   "metadata": {},
   "outputs": [],
   "source": [
    "pipeline = Pipeline([\n",
    "    ('pca', PCA(n_components=n_components)),\n",
    "    ('regressor', DecisionTreeRegressor())\n",
    "])\n",
    "\n",
    "# Define the parameter grid for grid search\n",
    "param_grid = {\n",
    "    'regressor__max_depth': [12],  \n",
    "    'regressor__min_samples_split': [2, 5, 10],\n",
    "    'regressor__min_samples_leaf': [1, 2, 4]\n",
    "}"
   ]
  },
  {
   "cell_type": "code",
   "execution_count": 84,
   "id": "9289194c",
   "metadata": {},
   "outputs": [
    {
     "name": "stdout",
     "output_type": "stream",
     "text": [
      "Fitting 5 folds for each of 9 candidates, totalling 45 fits\n"
     ]
    },
    {
     "data": {
      "text/html": [
       "<style>#sk-container-id-2 {color: black;}#sk-container-id-2 pre{padding: 0;}#sk-container-id-2 div.sk-toggleable {background-color: white;}#sk-container-id-2 label.sk-toggleable__label {cursor: pointer;display: block;width: 100%;margin-bottom: 0;padding: 0.3em;box-sizing: border-box;text-align: center;}#sk-container-id-2 label.sk-toggleable__label-arrow:before {content: \"▸\";float: left;margin-right: 0.25em;color: #696969;}#sk-container-id-2 label.sk-toggleable__label-arrow:hover:before {color: black;}#sk-container-id-2 div.sk-estimator:hover label.sk-toggleable__label-arrow:before {color: black;}#sk-container-id-2 div.sk-toggleable__content {max-height: 0;max-width: 0;overflow: hidden;text-align: left;background-color: #f0f8ff;}#sk-container-id-2 div.sk-toggleable__content pre {margin: 0.2em;color: black;border-radius: 0.25em;background-color: #f0f8ff;}#sk-container-id-2 input.sk-toggleable__control:checked~div.sk-toggleable__content {max-height: 200px;max-width: 100%;overflow: auto;}#sk-container-id-2 input.sk-toggleable__control:checked~label.sk-toggleable__label-arrow:before {content: \"▾\";}#sk-container-id-2 div.sk-estimator input.sk-toggleable__control:checked~label.sk-toggleable__label {background-color: #d4ebff;}#sk-container-id-2 div.sk-label input.sk-toggleable__control:checked~label.sk-toggleable__label {background-color: #d4ebff;}#sk-container-id-2 input.sk-hidden--visually {border: 0;clip: rect(1px 1px 1px 1px);clip: rect(1px, 1px, 1px, 1px);height: 1px;margin: -1px;overflow: hidden;padding: 0;position: absolute;width: 1px;}#sk-container-id-2 div.sk-estimator {font-family: monospace;background-color: #f0f8ff;border: 1px dotted black;border-radius: 0.25em;box-sizing: border-box;margin-bottom: 0.5em;}#sk-container-id-2 div.sk-estimator:hover {background-color: #d4ebff;}#sk-container-id-2 div.sk-parallel-item::after {content: \"\";width: 100%;border-bottom: 1px solid gray;flex-grow: 1;}#sk-container-id-2 div.sk-label:hover label.sk-toggleable__label {background-color: #d4ebff;}#sk-container-id-2 div.sk-serial::before {content: \"\";position: absolute;border-left: 1px solid gray;box-sizing: border-box;top: 0;bottom: 0;left: 50%;z-index: 0;}#sk-container-id-2 div.sk-serial {display: flex;flex-direction: column;align-items: center;background-color: white;padding-right: 0.2em;padding-left: 0.2em;position: relative;}#sk-container-id-2 div.sk-item {position: relative;z-index: 1;}#sk-container-id-2 div.sk-parallel {display: flex;align-items: stretch;justify-content: center;background-color: white;position: relative;}#sk-container-id-2 div.sk-item::before, #sk-container-id-2 div.sk-parallel-item::before {content: \"\";position: absolute;border-left: 1px solid gray;box-sizing: border-box;top: 0;bottom: 0;left: 50%;z-index: -1;}#sk-container-id-2 div.sk-parallel-item {display: flex;flex-direction: column;z-index: 1;position: relative;background-color: white;}#sk-container-id-2 div.sk-parallel-item:first-child::after {align-self: flex-end;width: 50%;}#sk-container-id-2 div.sk-parallel-item:last-child::after {align-self: flex-start;width: 50%;}#sk-container-id-2 div.sk-parallel-item:only-child::after {width: 0;}#sk-container-id-2 div.sk-dashed-wrapped {border: 1px dashed gray;margin: 0 0.4em 0.5em 0.4em;box-sizing: border-box;padding-bottom: 0.4em;background-color: white;}#sk-container-id-2 div.sk-label label {font-family: monospace;font-weight: bold;display: inline-block;line-height: 1.2em;}#sk-container-id-2 div.sk-label-container {text-align: center;}#sk-container-id-2 div.sk-container {/* jupyter's `normalize.less` sets `[hidden] { display: none; }` but bootstrap.min.css set `[hidden] { display: none !important; }` so we also need the `!important` here to be able to override the default hidden behavior on the sphinx rendered scikit-learn.org. See: https://github.com/scikit-learn/scikit-learn/issues/21755 */display: inline-block !important;position: relative;}#sk-container-id-2 div.sk-text-repr-fallback {display: none;}</style><div id=\"sk-container-id-2\" class=\"sk-top-container\"><div class=\"sk-text-repr-fallback\"><pre>GridSearchCV(cv=5, error_score=&#x27;raise&#x27;,\n",
       "             estimator=Pipeline(steps=[(&#x27;pca&#x27;, PCA(n_components=5)),\n",
       "                                       (&#x27;regressor&#x27;, DecisionTreeRegressor())]),\n",
       "             n_jobs=-1,\n",
       "             param_grid={&#x27;regressor__max_depth&#x27;: [12],\n",
       "                         &#x27;regressor__min_samples_leaf&#x27;: [1, 2, 4],\n",
       "                         &#x27;regressor__min_samples_split&#x27;: [2, 5, 10]},\n",
       "             verbose=1)</pre><b>In a Jupyter environment, please rerun this cell to show the HTML representation or trust the notebook. <br />On GitHub, the HTML representation is unable to render, please try loading this page with nbviewer.org.</b></div><div class=\"sk-container\" hidden><div class=\"sk-item sk-dashed-wrapped\"><div class=\"sk-label-container\"><div class=\"sk-label sk-toggleable\"><input class=\"sk-toggleable__control sk-hidden--visually\" id=\"sk-estimator-id-2\" type=\"checkbox\" ><label for=\"sk-estimator-id-2\" class=\"sk-toggleable__label sk-toggleable__label-arrow\">GridSearchCV</label><div class=\"sk-toggleable__content\"><pre>GridSearchCV(cv=5, error_score=&#x27;raise&#x27;,\n",
       "             estimator=Pipeline(steps=[(&#x27;pca&#x27;, PCA(n_components=5)),\n",
       "                                       (&#x27;regressor&#x27;, DecisionTreeRegressor())]),\n",
       "             n_jobs=-1,\n",
       "             param_grid={&#x27;regressor__max_depth&#x27;: [12],\n",
       "                         &#x27;regressor__min_samples_leaf&#x27;: [1, 2, 4],\n",
       "                         &#x27;regressor__min_samples_split&#x27;: [2, 5, 10]},\n",
       "             verbose=1)</pre></div></div></div><div class=\"sk-parallel\"><div class=\"sk-parallel-item\"><div class=\"sk-item\"><div class=\"sk-label-container\"><div class=\"sk-label sk-toggleable\"><input class=\"sk-toggleable__control sk-hidden--visually\" id=\"sk-estimator-id-3\" type=\"checkbox\" ><label for=\"sk-estimator-id-3\" class=\"sk-toggleable__label sk-toggleable__label-arrow\">estimator: Pipeline</label><div class=\"sk-toggleable__content\"><pre>Pipeline(steps=[(&#x27;pca&#x27;, PCA(n_components=5)),\n",
       "                (&#x27;regressor&#x27;, DecisionTreeRegressor())])</pre></div></div></div><div class=\"sk-serial\"><div class=\"sk-item\"><div class=\"sk-serial\"><div class=\"sk-item\"><div class=\"sk-estimator sk-toggleable\"><input class=\"sk-toggleable__control sk-hidden--visually\" id=\"sk-estimator-id-4\" type=\"checkbox\" ><label for=\"sk-estimator-id-4\" class=\"sk-toggleable__label sk-toggleable__label-arrow\">PCA</label><div class=\"sk-toggleable__content\"><pre>PCA(n_components=5)</pre></div></div></div><div class=\"sk-item\"><div class=\"sk-estimator sk-toggleable\"><input class=\"sk-toggleable__control sk-hidden--visually\" id=\"sk-estimator-id-5\" type=\"checkbox\" ><label for=\"sk-estimator-id-5\" class=\"sk-toggleable__label sk-toggleable__label-arrow\">DecisionTreeRegressor</label><div class=\"sk-toggleable__content\"><pre>DecisionTreeRegressor()</pre></div></div></div></div></div></div></div></div></div></div></div></div>"
      ],
      "text/plain": [
       "GridSearchCV(cv=5, error_score='raise',\n",
       "             estimator=Pipeline(steps=[('pca', PCA(n_components=5)),\n",
       "                                       ('regressor', DecisionTreeRegressor())]),\n",
       "             n_jobs=-1,\n",
       "             param_grid={'regressor__max_depth': [12],\n",
       "                         'regressor__min_samples_leaf': [1, 2, 4],\n",
       "                         'regressor__min_samples_split': [2, 5, 10]},\n",
       "             verbose=1)"
      ]
     },
     "execution_count": 84,
     "metadata": {},
     "output_type": "execute_result"
    }
   ],
   "source": [
    "# Create a GridSearchCV object with 5-fold cross-validation\n",
    "grid_search = GridSearchCV(pipeline, param_grid, cv=5, n_jobs=-1, verbose=1, error_score='raise')\n",
    "\n",
    "# Fit the grid search on the PCA-transformed data\n",
    "grid_search.fit(X1_train_PCA, y_train)"
   ]
  },
  {
   "cell_type": "code",
   "execution_count": 85,
   "id": "a5dcd799",
   "metadata": {},
   "outputs": [
    {
     "name": "stdout",
     "output_type": "stream",
     "text": [
      "Best parameters: {'regressor__max_depth': 12, 'regressor__min_samples_leaf': 4, 'regressor__min_samples_split': 10}\n"
     ]
    }
   ],
   "source": [
    "best_params = grid_search.best_params_\n",
    "print(\"Best parameters:\", best_params)"
   ]
  },
  {
   "cell_type": "code",
   "execution_count": 86,
   "id": "cc3473d7",
   "metadata": {},
   "outputs": [],
   "source": [
    "decision_tree_best = DecisionTreeRegressor(max_depth=12, \n",
    "                                           min_samples_leaf=4,\n",
    "                                           min_samples_split=10,\n",
    "                                           random_state=42)"
   ]
  },
  {
   "cell_type": "code",
   "execution_count": 90,
   "id": "d4e6c4b2",
   "metadata": {},
   "outputs": [
    {
     "name": "stdout",
     "output_type": "stream",
     "text": [
      "Training Set Accuracy: 0.6990891758052682\n",
      "Test Set Accuracy: 0.5882982812581297\n"
     ]
    }
   ],
   "source": [
    "# Train the model using the scaled training data\n",
    "decision_tree_best.fit(X1_train_scaled, y1_train)\n",
    "\n",
    "# Make predictions on both the training and test sets\n",
    "y1_train_pred = decision_tree_best.predict(X1_train_scaled)\n",
    "y1_test_pred = decision_tree_best.predict(X1_test_scaled)\n",
    "\n",
    "# Calculate the R2 score for both training and test sets\n",
    "train_accuracy = r2_score(y1_train, y1_train_pred)\n",
    "test_accuracy = r2_score(y1_test, y1_test_pred)\n",
    "\n",
    "# Print the accuracy scores\n",
    "print(\"Training Set Accuracy:\", train_accuracy)\n",
    "print(\"Test Set Accuracy:\", test_accuracy)"
   ]
  },
  {
   "cell_type": "markdown",
   "id": "de1a5351",
   "metadata": {},
   "source": [
    "An R2 score of around 0.699 on the test set means the model explains approximately 69.9% of the variance in the target variable, which is  acceptable depending on the complexity of the problem and the nature of the data.\n",
    "\n",
    "In summary, while the decision tree model shows some capability in predicting your target variable, there's a notable scope for improvement.There is still a big difference between test accuarcy and train accuarcy, which means overfitting.\n",
    "\n",
    "Therefore, we should look for other models to improve the overfitting problem."
   ]
  },
  {
   "cell_type": "markdown",
   "id": "fdc29cdc",
   "metadata": {},
   "source": [
    "###"
   ]
  },
  {
   "cell_type": "markdown",
   "id": "5a285bbd",
   "metadata": {},
   "source": [
    "### Random Forest"
   ]
  },
  {
   "cell_type": "markdown",
   "id": "53040c77",
   "metadata": {},
   "source": [
    "#### Basic Model"
   ]
  },
  {
   "cell_type": "code",
   "execution_count": 36,
   "id": "ba6559c4",
   "metadata": {},
   "outputs": [
    {
     "name": "stdout",
     "output_type": "stream",
     "text": [
      "Random Forest Training Set Accuracy: 0.9517858136915537\n",
      "Random Forest Test Set Accuracy: 0.6805574476585619\n"
     ]
    }
   ],
   "source": [
    "from sklearn.ensemble import RandomForestRegressor\n",
    "from sklearn.metrics import r2_score\n",
    "\n",
    "# Create the Random Forest Regressor model\n",
    "random_forest_model = RandomForestRegressor(random_state=42)\n",
    "\n",
    "# Train the model on the training data\n",
    "random_forest_model.fit(X1_train, y1_train)\n",
    "\n",
    "# Make predictions on the training and test sets\n",
    "y1_train_pred_rf = random_forest_model.predict(X1_train)\n",
    "y1_test_pred_rf = random_forest_model.predict(X1_test)\n",
    "\n",
    "# Evaluate the model\n",
    "train_accuracy_rf = r2_score(y1_train, y1_train_pred_rf)\n",
    "test_accuracy_rf = r2_score(y1_test, y1_test_pred_rf)\n",
    "\n",
    "print(\"Random Forest Training Set Accuracy:\", train_accuracy_rf)\n",
    "print(\"Random Forest Test Set Accuracy:\", test_accuracy_rf)"
   ]
  },
  {
   "cell_type": "markdown",
   "id": "f2ce73db",
   "metadata": {},
   "source": [
    "Train Accuracy is 95.18%, which indicates that the Random Forest model performs very well on the training data.  However, the test set accuracy is substantially lower than the training set accuracy. While 68.06% accuracy is moderate and suggests that the model has learned some generalizable patterns, the drop from 95.18% indicates that the model's ability to generalize to unseen data is limited compared to its performance on the training data."
   ]
  },
  {
   "cell_type": "markdown",
   "id": "c16c7241",
   "metadata": {},
   "source": [
    "#### Advanced Model"
   ]
  },
  {
   "cell_type": "markdown",
   "id": "c32ccf7d",
   "metadata": {},
   "source": [
    "Use grid search to find the best parameters"
   ]
  },
  {
   "cell_type": "code",
   "execution_count": 91,
   "id": "6e3acad7",
   "metadata": {},
   "outputs": [],
   "source": [
    "param_grid = {\n",
    "    'n_estimators': [100, 200, 300], \n",
    "    'max_depth': [None, 10, 20, 30], \n",
    "    'min_samples_split': [2, 5, 10],  \n",
    "    'min_samples_leaf': [1, 2, 4]    \n",
    "}"
   ]
  },
  {
   "cell_type": "code",
   "execution_count": 92,
   "id": "84e4c628",
   "metadata": {},
   "outputs": [],
   "source": [
    "random_forest_model = RandomForestRegressor(random_state=42)\n",
    "grid_search = GridSearchCV(random_forest_model, param_grid, cv=5, n_jobs=-1, verbose=2)"
   ]
  },
  {
   "cell_type": "code",
   "execution_count": 93,
   "id": "a713fea2",
   "metadata": {},
   "outputs": [
    {
     "name": "stdout",
     "output_type": "stream",
     "text": [
      "Fitting 5 folds for each of 108 candidates, totalling 540 fits\n"
     ]
    },
    {
     "data": {
      "text/html": [
       "<style>#sk-container-id-3 {color: black;}#sk-container-id-3 pre{padding: 0;}#sk-container-id-3 div.sk-toggleable {background-color: white;}#sk-container-id-3 label.sk-toggleable__label {cursor: pointer;display: block;width: 100%;margin-bottom: 0;padding: 0.3em;box-sizing: border-box;text-align: center;}#sk-container-id-3 label.sk-toggleable__label-arrow:before {content: \"▸\";float: left;margin-right: 0.25em;color: #696969;}#sk-container-id-3 label.sk-toggleable__label-arrow:hover:before {color: black;}#sk-container-id-3 div.sk-estimator:hover label.sk-toggleable__label-arrow:before {color: black;}#sk-container-id-3 div.sk-toggleable__content {max-height: 0;max-width: 0;overflow: hidden;text-align: left;background-color: #f0f8ff;}#sk-container-id-3 div.sk-toggleable__content pre {margin: 0.2em;color: black;border-radius: 0.25em;background-color: #f0f8ff;}#sk-container-id-3 input.sk-toggleable__control:checked~div.sk-toggleable__content {max-height: 200px;max-width: 100%;overflow: auto;}#sk-container-id-3 input.sk-toggleable__control:checked~label.sk-toggleable__label-arrow:before {content: \"▾\";}#sk-container-id-3 div.sk-estimator input.sk-toggleable__control:checked~label.sk-toggleable__label {background-color: #d4ebff;}#sk-container-id-3 div.sk-label input.sk-toggleable__control:checked~label.sk-toggleable__label {background-color: #d4ebff;}#sk-container-id-3 input.sk-hidden--visually {border: 0;clip: rect(1px 1px 1px 1px);clip: rect(1px, 1px, 1px, 1px);height: 1px;margin: -1px;overflow: hidden;padding: 0;position: absolute;width: 1px;}#sk-container-id-3 div.sk-estimator {font-family: monospace;background-color: #f0f8ff;border: 1px dotted black;border-radius: 0.25em;box-sizing: border-box;margin-bottom: 0.5em;}#sk-container-id-3 div.sk-estimator:hover {background-color: #d4ebff;}#sk-container-id-3 div.sk-parallel-item::after {content: \"\";width: 100%;border-bottom: 1px solid gray;flex-grow: 1;}#sk-container-id-3 div.sk-label:hover label.sk-toggleable__label {background-color: #d4ebff;}#sk-container-id-3 div.sk-serial::before {content: \"\";position: absolute;border-left: 1px solid gray;box-sizing: border-box;top: 0;bottom: 0;left: 50%;z-index: 0;}#sk-container-id-3 div.sk-serial {display: flex;flex-direction: column;align-items: center;background-color: white;padding-right: 0.2em;padding-left: 0.2em;position: relative;}#sk-container-id-3 div.sk-item {position: relative;z-index: 1;}#sk-container-id-3 div.sk-parallel {display: flex;align-items: stretch;justify-content: center;background-color: white;position: relative;}#sk-container-id-3 div.sk-item::before, #sk-container-id-3 div.sk-parallel-item::before {content: \"\";position: absolute;border-left: 1px solid gray;box-sizing: border-box;top: 0;bottom: 0;left: 50%;z-index: -1;}#sk-container-id-3 div.sk-parallel-item {display: flex;flex-direction: column;z-index: 1;position: relative;background-color: white;}#sk-container-id-3 div.sk-parallel-item:first-child::after {align-self: flex-end;width: 50%;}#sk-container-id-3 div.sk-parallel-item:last-child::after {align-self: flex-start;width: 50%;}#sk-container-id-3 div.sk-parallel-item:only-child::after {width: 0;}#sk-container-id-3 div.sk-dashed-wrapped {border: 1px dashed gray;margin: 0 0.4em 0.5em 0.4em;box-sizing: border-box;padding-bottom: 0.4em;background-color: white;}#sk-container-id-3 div.sk-label label {font-family: monospace;font-weight: bold;display: inline-block;line-height: 1.2em;}#sk-container-id-3 div.sk-label-container {text-align: center;}#sk-container-id-3 div.sk-container {/* jupyter's `normalize.less` sets `[hidden] { display: none; }` but bootstrap.min.css set `[hidden] { display: none !important; }` so we also need the `!important` here to be able to override the default hidden behavior on the sphinx rendered scikit-learn.org. See: https://github.com/scikit-learn/scikit-learn/issues/21755 */display: inline-block !important;position: relative;}#sk-container-id-3 div.sk-text-repr-fallback {display: none;}</style><div id=\"sk-container-id-3\" class=\"sk-top-container\"><div class=\"sk-text-repr-fallback\"><pre>GridSearchCV(cv=5, estimator=RandomForestRegressor(random_state=42), n_jobs=-1,\n",
       "             param_grid={&#x27;max_depth&#x27;: [None, 10, 20, 30],\n",
       "                         &#x27;min_samples_leaf&#x27;: [1, 2, 4],\n",
       "                         &#x27;min_samples_split&#x27;: [2, 5, 10],\n",
       "                         &#x27;n_estimators&#x27;: [100, 200, 300]},\n",
       "             verbose=2)</pre><b>In a Jupyter environment, please rerun this cell to show the HTML representation or trust the notebook. <br />On GitHub, the HTML representation is unable to render, please try loading this page with nbviewer.org.</b></div><div class=\"sk-container\" hidden><div class=\"sk-item sk-dashed-wrapped\"><div class=\"sk-label-container\"><div class=\"sk-label sk-toggleable\"><input class=\"sk-toggleable__control sk-hidden--visually\" id=\"sk-estimator-id-6\" type=\"checkbox\" ><label for=\"sk-estimator-id-6\" class=\"sk-toggleable__label sk-toggleable__label-arrow\">GridSearchCV</label><div class=\"sk-toggleable__content\"><pre>GridSearchCV(cv=5, estimator=RandomForestRegressor(random_state=42), n_jobs=-1,\n",
       "             param_grid={&#x27;max_depth&#x27;: [None, 10, 20, 30],\n",
       "                         &#x27;min_samples_leaf&#x27;: [1, 2, 4],\n",
       "                         &#x27;min_samples_split&#x27;: [2, 5, 10],\n",
       "                         &#x27;n_estimators&#x27;: [100, 200, 300]},\n",
       "             verbose=2)</pre></div></div></div><div class=\"sk-parallel\"><div class=\"sk-parallel-item\"><div class=\"sk-item\"><div class=\"sk-label-container\"><div class=\"sk-label sk-toggleable\"><input class=\"sk-toggleable__control sk-hidden--visually\" id=\"sk-estimator-id-7\" type=\"checkbox\" ><label for=\"sk-estimator-id-7\" class=\"sk-toggleable__label sk-toggleable__label-arrow\">estimator: RandomForestRegressor</label><div class=\"sk-toggleable__content\"><pre>RandomForestRegressor(random_state=42)</pre></div></div></div><div class=\"sk-serial\"><div class=\"sk-item\"><div class=\"sk-estimator sk-toggleable\"><input class=\"sk-toggleable__control sk-hidden--visually\" id=\"sk-estimator-id-8\" type=\"checkbox\" ><label for=\"sk-estimator-id-8\" class=\"sk-toggleable__label sk-toggleable__label-arrow\">RandomForestRegressor</label><div class=\"sk-toggleable__content\"><pre>RandomForestRegressor(random_state=42)</pre></div></div></div></div></div></div></div></div></div></div>"
      ],
      "text/plain": [
       "GridSearchCV(cv=5, estimator=RandomForestRegressor(random_state=42), n_jobs=-1,\n",
       "             param_grid={'max_depth': [None, 10, 20, 30],\n",
       "                         'min_samples_leaf': [1, 2, 4],\n",
       "                         'min_samples_split': [2, 5, 10],\n",
       "                         'n_estimators': [100, 200, 300]},\n",
       "             verbose=2)"
      ]
     },
     "execution_count": 93,
     "metadata": {},
     "output_type": "execute_result"
    }
   ],
   "source": [
    "grid_search.fit(X1_train, y1_train)"
   ]
  },
  {
   "cell_type": "code",
   "execution_count": 95,
   "id": "1015cd20",
   "metadata": {},
   "outputs": [
    {
     "name": "stdout",
     "output_type": "stream",
     "text": [
      "Best parameters: {'max_depth': 30, 'min_samples_leaf': 2, 'min_samples_split': 5, 'n_estimators': 200}\n"
     ]
    }
   ],
   "source": [
    "best_params = grid_search.best_params_\n",
    "print(\"Best parameters:\", best_params)"
   ]
  },
  {
   "cell_type": "code",
   "execution_count": 96,
   "id": "764bc46d",
   "metadata": {},
   "outputs": [],
   "source": [
    "params = {\n",
    "    'max_depth': 30,\n",
    "    'min_samples_leaf': 2,\n",
    "    'min_samples_split': 5,\n",
    "    'n_estimators': 200xxxxx\n",
    "}\n",
    "\n",
    "# Create the Random Forest Regressor model with specified parameters\n",
    "rf_regressor = RandomForestRegressor(max_depth=params['max_depth'],\n",
    "                                     min_samples_leaf=params['min_samples_leaf'],\n",
    "                                     min_samples_split=params['min_samples_split'],\n",
    "                                     n_estimators=params['n_estimators'])\n",
    "\n",
    "rf_regressor.fit(X_train, y_train)\n",
    "predictions = rf_regressor.predict(X_test)"
   ]
  },
  {
   "cell_type": "code",
   "execution_count": 99,
   "id": "570e1e64",
   "metadata": {},
   "outputs": [
    {
     "name": "stdout",
     "output_type": "stream",
     "text": [
      "Mean Absolute Error (MAE): 0.30202284759014286\n",
      "Mean Squared Error (MSE): 0.3079159104411018\n",
      "Root Mean Squared Error (RMSE): 0.5549017124150022\n",
      "R-squared (R²): 0.6802538744146931\n"
     ]
    }
   ],
   "source": [
    "from sklearn.metrics import mean_squared_error, mean_absolute_error, r2_score\n",
    "\n",
    "# Make predictions on the test data\n",
    "y_pred = rf_regressor.predict(X_test)\n",
    "\n",
    "# Calculate Mean Absolute Error\n",
    "mae = mean_absolute_error(y_test, y_pred)\n",
    "print(\"Mean Absolute Error (MAE):\", mae)\n",
    "\n",
    "# Calculate Mean Squared Error\n",
    "mse = mean_squared_error(y_test, y_pred)\n",
    "print(\"Mean Squared Error (MSE):\", mse)\n",
    "\n",
    "# Calculate Root Mean Squared Error\n",
    "rmse = np.sqrt(mse)\n",
    "print(\"Root Mean Squared Error (RMSE):\", rmse)\n",
    "\n",
    "# Calculate R-squared (R²)\n",
    "r_squared = r2_score(y_test, y_pred)\n",
    "print(\"R-squared (R²):\", r_squared)"
   ]
  },
  {
   "cell_type": "code",
   "execution_count": 100,
   "id": "13464350",
   "metadata": {},
   "outputs": [
    {
     "name": "stdout",
     "output_type": "stream",
     "text": [
      "Mean Absolute Error on Training Data (MAE): 0.1569021333401407\n",
      "Mean Squared Error on Training Data (MSE): 0.10643385225652799\n",
      "Root Mean Squared Error on Training Data (RMSE): 0.32624201485481297\n",
      "R-squared on Training Data (R²): 0.8945408306985165\n"
     ]
    }
   ],
   "source": [
    "from sklearn.metrics import mean_squared_error, mean_absolute_error, r2_score\n",
    "\n",
    "y_train_pred = rf_regressor.predict(X_train)\n",
    "\n",
    "# Calculate Mean Absolute Error on training data\n",
    "mae_train = mean_absolute_error(y_train, y_train_pred)\n",
    "print(\"Mean Absolute Error on Training Data (MAE):\", mae_train)\n",
    "\n",
    "# Calculate Mean Squared Error on training data\n",
    "mse_train = mean_squared_error(y_train, y_train_pred)\n",
    "print(\"Mean Squared Error on Training Data (MSE):\", mse_train)\n",
    "\n",
    "# Calculate Root Mean Squared Error on training data\n",
    "rmse_train = np.sqrt(mse_train)\n",
    "print(\"Root Mean Squared Error on Training Data (RMSE):\", rmse_train)\n",
    "\n",
    "# Calculate R-squared on training data\n",
    "r_squared_train = r2_score(y_train, y_train_pred)\n",
    "print(\"R-squared on Training Data (R²):\", r_squared_train)"
   ]
  },
  {
   "cell_type": "markdown",
   "id": "a22d58b5",
   "metadata": {},
   "source": [
    "MSE on Test Data is 0.3079, and MSE on Training Data is 0.1064.\n",
    "A much lower MSE on the train suggests that the model performs significantly better on the training data compared to the test data. This can be a sign of overfitting, where the model is too closely fitted to the training data and doesn't generalize as well to unseen data.\n",
    "\n",
    "R² on Test Data is 0.68, means that approximately 68% of the variance in the test dataset is explained by model. It's a moderate score, indicating a fair level of prediction accuracy.\n",
    "\n",
    "R² on Training Data is 0.89. It shows that the model explains a large portion of the variance in the training data. However, when contrasted with the test R², it again suggests overfitting."
   ]
  },
  {
   "cell_type": "markdown",
   "id": "3560e960",
   "metadata": {},
   "source": [
    "###"
   ]
  },
  {
   "cell_type": "markdown",
   "id": "a133fc85",
   "metadata": {},
   "source": [
    "### Compare Models"
   ]
  },
  {
   "cell_type": "code",
   "execution_count": 244,
   "id": "4879924e",
   "metadata": {},
   "outputs": [
    {
     "name": "stderr",
     "output_type": "stream",
     "text": [
      "C:\\Users\\hp\\anaconda3\\Lib\\site-packages\\sklearn\\base.py:457: UserWarning: X has feature names, but DecisionTreeRegressor was fitted without feature names\n",
      "  warnings.warn(\n"
     ]
    }
   ],
   "source": [
    "from sklearn.metrics import mean_squared_error, mean_absolute_error, r2_score\n",
    "\n",
    "# Linear Regression Model Metrics\n",
    "y1_test_p = model1.predict(sm.add_constant(X1_test))\n",
    "test_mse_linear = mean_squared_error(y1_test, y1_test_p)\n",
    "test_mae_linear = mean_absolute_error(y1_test, y1_test_p)\n",
    "test_rmse_linear = np.sqrt(test_mse_linear)\n",
    "test_r2_linear = r2_score(y1_test, y1_test_p)\n",
    "\n",
    "# Decision Tree Model Metrics\n",
    "y1_test_pred_decision_tree = decision_tree_max_depth_12.predict(X1_test)\n",
    "test_mse_decision_tree = mean_squared_error(y1_test, y1_test_pred_decision_tree)\n",
    "test_mae_decision_tree = mean_absolute_error(y1_test, y1_test_pred_decision_tree)\n",
    "test_rmse_decision_tree = np.sqrt(test_mse_decision_tree)\n",
    "test_r2_decision_tree = r2_score(y1_test, y1_test_pred_decision_tree)\n",
    "\n",
    "# Random Forest Model Metrics\n",
    "y1_test_pred_rf = random_forest_model.predict(X1_test)\n",
    "test_mse_random_forest = mean_squared_error(y1_test, y1_test_pred_rf)\n",
    "test_mae_random_forest = mean_absolute_error(y1_test, y1_test_pred_rf)\n",
    "test_rmse_random_forest = np.sqrt(test_mse_random_forest)\n",
    "test_r2_random_forest = r2_score(y1_test, y1_test_pred_rf)"
   ]
  },
  {
   "cell_type": "code",
   "execution_count": 250,
   "id": "ce5e2175",
   "metadata": {},
   "outputs": [],
   "source": [
    "decision = decision_tree_max_depth_12\n",
    "linear=model1"
   ]
  },
  {
   "cell_type": "code",
   "execution_count": 251,
   "id": "fb9fdbe9",
   "metadata": {},
   "outputs": [
    {
     "data": {
      "image/png": "[encoded data removed]",
      "text/plain": [
       "<Figure size 1200x800 with 4 Axes>"
      ]
     },
     "metadata": {},
     "output_type": "display_data"
    }
   ],
   "source": [
    "model_names = ['linear', 'decision', 'random_forest_model']\n",
    "mse_values = [test_mse_linear, test_mse_decision_tree, test_mse_random_forest]\n",
    "mae_values = [test_mae_linear, test_mae_decision_tree, test_mae_random_forest]\n",
    "rmse_values = [test_rmse_linear, test_rmse_decision_tree, test_rmse_random_forest]\n",
    "r2_values = [test_r2_linear, test_r2_decision_tree, test_r2_random_forest]\n",
    "\n",
    "# Create subplots\n",
    "fig, axs = plt.subplots(2, 2, figsize=(12, 8))\n",
    "\n",
    "# Plot Mean Squared Error (MSE)\n",
    "axs[0, 0].bar(model_names, mse_values, color=['skyblue', 'green', 'orange'])\n",
    "axs[0, 0].set_title('Mean Squared Error (MSE)')\n",
    "axs[0, 0].set_ylabel('MSE')\n",
    "\n",
    "# Plot Mean Absolute Error (MAE)\n",
    "axs[0, 1].bar(model_names, mae_values, color=['skyblue', 'green', 'orange'])\n",
    "axs[0, 1].set_title('Mean Absolute Error (MAE)')\n",
    "axs[0, 1].set_ylabel('MAE')\n",
    "\n",
    "# Plot Root Mean Squared Error (RMSE)\n",
    "axs[1, 0].bar(model_names, rmse_values, color=['skyblue', 'green', 'orange'])\n",
    "axs[1, 0].set_title('Root Mean Squared Error (RMSE)')\n",
    "axs[1, 0].set_ylabel('RMSE')\n",
    "\n",
    "# Plot R-squared (R2)\n",
    "axs[1, 1].bar(model_names, r2_values, color=['skyblue', 'green', 'orange'])\n",
    "axs[1, 1].set_title('R-squared (R2)')\n",
    "axs[1, 1].set_ylabel('R2')\n",
    "\n",
    "plt.tight_layout()\n",
    "plt.show()"
   ]
  },
  {
   "cell_type": "markdown",
   "id": "7c2e1b6a",
   "metadata": {},
   "source": [
    "From the bar charts, we can indicate that the random forest model has the lowest MSE and RMSE, suggesting it has the smallest average squared errors and thus the best performance on these metrics.\n",
    "\n",
    "Similarly, the random forest model has the lowest MAE, indicating it has the smallest average absolute errors.\n",
    "The decision tree model has the highest R2 value, suggesting it can explain a higher proportion of variance than the other two models.\n",
    "Considering that random forest performs best on the other three metrics, the random forest model can be considered the overall best performing model among the three."
   ]
  },
  {
   "cell_type": "code",
   "execution_count": null,
   "id": "d161e156",
   "metadata": {},
   "outputs": [],
   "source": [
    "END"
   ]
  }
 ],
 "metadata": {
  "kernelspec": {
   "display_name": "Python 3 (ipykernel)",
   "language": "python",
   "name": "python3"
  },
  "language_info": {
   "codemirror_mode": {
    "name": "ipython",
    "version": 3
   },
   "file_extension": ".py",
   "mimetype": "text/x-python",
   "name": "python",
   "nbconvert_exporter": "python",
   "pygments_lexer": "ipython3",
   "version": "3.11.4"
  }
 },
 "nbformat": 4,
 "nbformat_minor": 5
}
