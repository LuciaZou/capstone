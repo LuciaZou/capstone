{
 "cells": [
  {
   "cell_type": "markdown",
   "id": "2d68e75e",
   "metadata": {},
   "source": [
    "## Models Part2"
   ]
  },
  {
   "cell_type": "markdown",
   "id": "d1b35656",
   "metadata": {},
   "source": [
    "### Author: Lucia Zou\n",
    "### Contact: lucia.zouyuebca@gmail.com\n",
    "### Date: Nov.20th, 2023"
   ]
  },
  {
   "cell_type": "markdown",
   "id": "e05e912d",
   "metadata": {},
   "source": [
    "### This notebook did not use base, it used ensemble environment."
   ]
  },
  {
   "cell_type": "markdown",
   "id": "7c005605",
   "metadata": {},
   "source": [
    "### Table of Contents\n",
    "- [Lasso and Ridge](#Lasso-and-Ridge)\n",
    "- [XGBoost](#XGBoost)\n",
    "- [Compare Models](#Compare-Models)"
   ]
  },
  {
   "cell_type": "code",
   "execution_count": 1,
   "id": "0fdcaafe",
   "metadata": {},
   "outputs": [],
   "source": [
    "import pandas as pd\n",
    "import numpy as np\n",
    "import seaborn as sns\n",
    "import statsmodels.api as sm\n",
    "import xgboost as xgb\n",
    "\n",
    "from sklearn.model_selection import train_test_split\n",
    "from sklearn.preprocessing import StandardScaler"
   ]
  },
  {
   "cell_type": "code",
   "execution_count": 2,
   "id": "9d9d183c",
   "metadata": {},
   "outputs": [],
   "source": [
    "df = pd.read_csv('IowaNext.csv')"
   ]
  },
  {
   "cell_type": "code",
   "execution_count": 3,
   "id": "ccaaedaa",
   "metadata": {},
   "outputs": [
    {
     "data": {
      "text/html": [
       "<div>\n",
       "<style scoped>\n",
       "    .dataframe tbody tr th:only-of-type {\n",
       "        vertical-align: middle;\n",
       "    }\n",
       "\n",
       "    .dataframe tbody tr th {\n",
       "        vertical-align: top;\n",
       "    }\n",
       "\n",
       "    .dataframe thead th {\n",
       "        text-align: right;\n",
       "    }\n",
       "</style>\n",
       "<table border=\"1\" class=\"dataframe\">\n",
       "  <thead>\n",
       "    <tr style=\"text-align: right;\">\n",
       "      <th></th>\n",
       "      <th>Unnamed: 0</th>\n",
       "      <th>invoice_and_item_number</th>\n",
       "      <th>date</th>\n",
       "      <th>store_number</th>\n",
       "      <th>store_name</th>\n",
       "      <th>address</th>\n",
       "      <th>city</th>\n",
       "      <th>zip_code</th>\n",
       "      <th>county_number</th>\n",
       "      <th>county</th>\n",
       "      <th>...</th>\n",
       "      <th>Gin</th>\n",
       "      <th>OtherCategories</th>\n",
       "      <th>Rum</th>\n",
       "      <th>Schnapps</th>\n",
       "      <th>Scotch</th>\n",
       "      <th>Specialty</th>\n",
       "      <th>Spirits</th>\n",
       "      <th>Tequila</th>\n",
       "      <th>Vodka</th>\n",
       "      <th>Whisky</th>\n",
       "    </tr>\n",
       "  </thead>\n",
       "  <tbody>\n",
       "    <tr>\n",
       "      <th>0</th>\n",
       "      <td>0</td>\n",
       "      <td>INV-33179700135</td>\n",
       "      <td>2021-01-04</td>\n",
       "      <td>2576</td>\n",
       "      <td>Hy-VeeWineandSpirits/StormLake</td>\n",
       "      <td>1250NLakeSt</td>\n",
       "      <td>StormLake</td>\n",
       "      <td>50588.0</td>\n",
       "      <td>11.0</td>\n",
       "      <td>Adair</td>\n",
       "      <td>...</td>\n",
       "      <td>0</td>\n",
       "      <td>0</td>\n",
       "      <td>0</td>\n",
       "      <td>0</td>\n",
       "      <td>0</td>\n",
       "      <td>0</td>\n",
       "      <td>1</td>\n",
       "      <td>0</td>\n",
       "      <td>0</td>\n",
       "      <td>0</td>\n",
       "    </tr>\n",
       "    <tr>\n",
       "      <th>1</th>\n",
       "      <td>1</td>\n",
       "      <td>INV-33196200106</td>\n",
       "      <td>2021-01-04</td>\n",
       "      <td>2649</td>\n",
       "      <td>Hy-Vee#3/Dubuque</td>\n",
       "      <td>400LocustSt</td>\n",
       "      <td>Dubuque</td>\n",
       "      <td>52001.0</td>\n",
       "      <td>31.0</td>\n",
       "      <td>Adair</td>\n",
       "      <td>...</td>\n",
       "      <td>0</td>\n",
       "      <td>0</td>\n",
       "      <td>0</td>\n",
       "      <td>0</td>\n",
       "      <td>0</td>\n",
       "      <td>0</td>\n",
       "      <td>0</td>\n",
       "      <td>0</td>\n",
       "      <td>0</td>\n",
       "      <td>0</td>\n",
       "    </tr>\n",
       "    <tr>\n",
       "      <th>2</th>\n",
       "      <td>2</td>\n",
       "      <td>INV-33184300011</td>\n",
       "      <td>2021-01-04</td>\n",
       "      <td>2539</td>\n",
       "      <td>Hy-VeeFoodStore/IowaFalls</td>\n",
       "      <td>640S.Oak</td>\n",
       "      <td>IowaFalls</td>\n",
       "      <td>50126.0</td>\n",
       "      <td>42.0</td>\n",
       "      <td>Adams</td>\n",
       "      <td>...</td>\n",
       "      <td>0</td>\n",
       "      <td>0</td>\n",
       "      <td>0</td>\n",
       "      <td>0</td>\n",
       "      <td>0</td>\n",
       "      <td>0</td>\n",
       "      <td>0</td>\n",
       "      <td>0</td>\n",
       "      <td>1</td>\n",
       "      <td>0</td>\n",
       "    </tr>\n",
       "    <tr>\n",
       "      <th>3</th>\n",
       "      <td>3</td>\n",
       "      <td>INV-33184100015</td>\n",
       "      <td>2021-01-04</td>\n",
       "      <td>4024</td>\n",
       "      <td>Wal-Mart1546/IowaFalls</td>\n",
       "      <td>840SOak</td>\n",
       "      <td>IowaFalls</td>\n",
       "      <td>50126.0</td>\n",
       "      <td>42.0</td>\n",
       "      <td>Adams</td>\n",
       "      <td>...</td>\n",
       "      <td>0</td>\n",
       "      <td>0</td>\n",
       "      <td>0</td>\n",
       "      <td>0</td>\n",
       "      <td>0</td>\n",
       "      <td>0</td>\n",
       "      <td>0</td>\n",
       "      <td>0</td>\n",
       "      <td>1</td>\n",
       "      <td>0</td>\n",
       "    </tr>\n",
       "    <tr>\n",
       "      <th>4</th>\n",
       "      <td>4</td>\n",
       "      <td>INV-33174200025</td>\n",
       "      <td>2021-01-04</td>\n",
       "      <td>5385</td>\n",
       "      <td>VineFood&amp;Liquor</td>\n",
       "      <td>2704VineSt.</td>\n",
       "      <td>WestDesMoines</td>\n",
       "      <td>50265.0</td>\n",
       "      <td>77.0</td>\n",
       "      <td>Allamakee</td>\n",
       "      <td>...</td>\n",
       "      <td>0</td>\n",
       "      <td>0</td>\n",
       "      <td>0</td>\n",
       "      <td>0</td>\n",
       "      <td>0</td>\n",
       "      <td>0</td>\n",
       "      <td>0</td>\n",
       "      <td>0</td>\n",
       "      <td>0</td>\n",
       "      <td>1</td>\n",
       "    </tr>\n",
       "  </tbody>\n",
       "</table>\n",
       "<p>5 rows × 38 columns</p>\n",
       "</div>"
      ],
      "text/plain": [
       "   Unnamed: 0 invoice_and_item_number        date  store_number  \\\n",
       "0           0         INV-33179700135  2021-01-04          2576   \n",
       "1           1         INV-33196200106  2021-01-04          2649   \n",
       "2           2         INV-33184300011  2021-01-04          2539   \n",
       "3           3         INV-33184100015  2021-01-04          4024   \n",
       "4           4         INV-33174200025  2021-01-04          5385   \n",
       "\n",
       "                       store_name      address           city  zip_code  \\\n",
       "0  Hy-VeeWineandSpirits/StormLake  1250NLakeSt      StormLake   50588.0   \n",
       "1                Hy-Vee#3/Dubuque  400LocustSt        Dubuque   52001.0   \n",
       "2       Hy-VeeFoodStore/IowaFalls     640S.Oak      IowaFalls   50126.0   \n",
       "3          Wal-Mart1546/IowaFalls      840SOak      IowaFalls   50126.0   \n",
       "4                 VineFood&Liquor  2704VineSt.  WestDesMoines   50265.0   \n",
       "\n",
       "   county_number     county  ... Gin  OtherCategories Rum  Schnapps Scotch  \\\n",
       "0           11.0      Adair  ...   0                0   0         0      0   \n",
       "1           31.0      Adair  ...   0                0   0         0      0   \n",
       "2           42.0      Adams  ...   0                0   0         0      0   \n",
       "3           42.0      Adams  ...   0                0   0         0      0   \n",
       "4           77.0  Allamakee  ...   0                0   0         0      0   \n",
       "\n",
       "   Specialty  Spirits  Tequila  Vodka  Whisky  \n",
       "0          0        1        0      0       0  \n",
       "1          0        0        0      0       0  \n",
       "2          0        0        0      1       0  \n",
       "3          0        0        0      1       0  \n",
       "4          0        0        0      0       1  \n",
       "\n",
       "[5 rows x 38 columns]"
      ]
     },
     "execution_count": 3,
     "metadata": {},
     "output_type": "execute_result"
    }
   ],
   "source": [
    "df.head()"
   ]
  },
  {
   "cell_type": "code",
   "execution_count": 4,
   "id": "135bb687",
   "metadata": {},
   "outputs": [],
   "source": [
    "# Identify the name of the second column\n",
    "column_to_drop = df.columns[0]\n",
    "\n",
    "# Drop the second column\n",
    "df1 = df.drop(columns=column_to_drop)"
   ]
  },
  {
   "cell_type": "code",
   "execution_count": 5,
   "id": "ec3bf2fc",
   "metadata": {},
   "outputs": [
    {
     "data": {
      "text/html": [
       "<div>\n",
       "<style scoped>\n",
       "    .dataframe tbody tr th:only-of-type {\n",
       "        vertical-align: middle;\n",
       "    }\n",
       "\n",
       "    .dataframe tbody tr th {\n",
       "        vertical-align: top;\n",
       "    }\n",
       "\n",
       "    .dataframe thead th {\n",
       "        text-align: right;\n",
       "    }\n",
       "</style>\n",
       "<table border=\"1\" class=\"dataframe\">\n",
       "  <thead>\n",
       "    <tr style=\"text-align: right;\">\n",
       "      <th></th>\n",
       "      <th>invoice_and_item_number</th>\n",
       "      <th>date</th>\n",
       "      <th>store_number</th>\n",
       "      <th>store_name</th>\n",
       "      <th>address</th>\n",
       "      <th>city</th>\n",
       "      <th>zip_code</th>\n",
       "      <th>county_number</th>\n",
       "      <th>county</th>\n",
       "      <th>category_name</th>\n",
       "      <th>...</th>\n",
       "      <th>Gin</th>\n",
       "      <th>OtherCategories</th>\n",
       "      <th>Rum</th>\n",
       "      <th>Schnapps</th>\n",
       "      <th>Scotch</th>\n",
       "      <th>Specialty</th>\n",
       "      <th>Spirits</th>\n",
       "      <th>Tequila</th>\n",
       "      <th>Vodka</th>\n",
       "      <th>Whisky</th>\n",
       "    </tr>\n",
       "  </thead>\n",
       "  <tbody>\n",
       "    <tr>\n",
       "      <th>0</th>\n",
       "      <td>INV-33179700135</td>\n",
       "      <td>2021-01-04</td>\n",
       "      <td>2576</td>\n",
       "      <td>Hy-VeeWineandSpirits/StormLake</td>\n",
       "      <td>1250NLakeSt</td>\n",
       "      <td>StormLake</td>\n",
       "      <td>50588.0</td>\n",
       "      <td>11.0</td>\n",
       "      <td>Adair</td>\n",
       "      <td>WhiskeyLiqueur</td>\n",
       "      <td>...</td>\n",
       "      <td>0</td>\n",
       "      <td>0</td>\n",
       "      <td>0</td>\n",
       "      <td>0</td>\n",
       "      <td>0</td>\n",
       "      <td>0</td>\n",
       "      <td>1</td>\n",
       "      <td>0</td>\n",
       "      <td>0</td>\n",
       "      <td>0</td>\n",
       "    </tr>\n",
       "    <tr>\n",
       "      <th>1</th>\n",
       "      <td>INV-33196200106</td>\n",
       "      <td>2021-01-04</td>\n",
       "      <td>2649</td>\n",
       "      <td>Hy-Vee#3/Dubuque</td>\n",
       "      <td>400LocustSt</td>\n",
       "      <td>Dubuque</td>\n",
       "      <td>52001.0</td>\n",
       "      <td>31.0</td>\n",
       "      <td>Adair</td>\n",
       "      <td>CreamLiqueurs</td>\n",
       "      <td>...</td>\n",
       "      <td>0</td>\n",
       "      <td>0</td>\n",
       "      <td>0</td>\n",
       "      <td>0</td>\n",
       "      <td>0</td>\n",
       "      <td>0</td>\n",
       "      <td>0</td>\n",
       "      <td>0</td>\n",
       "      <td>0</td>\n",
       "      <td>0</td>\n",
       "    </tr>\n",
       "    <tr>\n",
       "      <th>2</th>\n",
       "      <td>INV-33184300011</td>\n",
       "      <td>2021-01-04</td>\n",
       "      <td>2539</td>\n",
       "      <td>Hy-VeeFoodStore/IowaFalls</td>\n",
       "      <td>640S.Oak</td>\n",
       "      <td>IowaFalls</td>\n",
       "      <td>50126.0</td>\n",
       "      <td>42.0</td>\n",
       "      <td>Adams</td>\n",
       "      <td>AmericanVodka</td>\n",
       "      <td>...</td>\n",
       "      <td>0</td>\n",
       "      <td>0</td>\n",
       "      <td>0</td>\n",
       "      <td>0</td>\n",
       "      <td>0</td>\n",
       "      <td>0</td>\n",
       "      <td>0</td>\n",
       "      <td>0</td>\n",
       "      <td>1</td>\n",
       "      <td>0</td>\n",
       "    </tr>\n",
       "    <tr>\n",
       "      <th>3</th>\n",
       "      <td>INV-33184100015</td>\n",
       "      <td>2021-01-04</td>\n",
       "      <td>4024</td>\n",
       "      <td>Wal-Mart1546/IowaFalls</td>\n",
       "      <td>840SOak</td>\n",
       "      <td>IowaFalls</td>\n",
       "      <td>50126.0</td>\n",
       "      <td>42.0</td>\n",
       "      <td>Adams</td>\n",
       "      <td>AmericanVodka</td>\n",
       "      <td>...</td>\n",
       "      <td>0</td>\n",
       "      <td>0</td>\n",
       "      <td>0</td>\n",
       "      <td>0</td>\n",
       "      <td>0</td>\n",
       "      <td>0</td>\n",
       "      <td>0</td>\n",
       "      <td>0</td>\n",
       "      <td>1</td>\n",
       "      <td>0</td>\n",
       "    </tr>\n",
       "    <tr>\n",
       "      <th>4</th>\n",
       "      <td>INV-33174200025</td>\n",
       "      <td>2021-01-04</td>\n",
       "      <td>5385</td>\n",
       "      <td>VineFood&amp;Liquor</td>\n",
       "      <td>2704VineSt.</td>\n",
       "      <td>WestDesMoines</td>\n",
       "      <td>50265.0</td>\n",
       "      <td>77.0</td>\n",
       "      <td>Allamakee</td>\n",
       "      <td>ScotchWhiskies</td>\n",
       "      <td>...</td>\n",
       "      <td>0</td>\n",
       "      <td>0</td>\n",
       "      <td>0</td>\n",
       "      <td>0</td>\n",
       "      <td>0</td>\n",
       "      <td>0</td>\n",
       "      <td>0</td>\n",
       "      <td>0</td>\n",
       "      <td>0</td>\n",
       "      <td>1</td>\n",
       "    </tr>\n",
       "  </tbody>\n",
       "</table>\n",
       "<p>5 rows × 37 columns</p>\n",
       "</div>"
      ],
      "text/plain": [
       "  invoice_and_item_number        date  store_number  \\\n",
       "0         INV-33179700135  2021-01-04          2576   \n",
       "1         INV-33196200106  2021-01-04          2649   \n",
       "2         INV-33184300011  2021-01-04          2539   \n",
       "3         INV-33184100015  2021-01-04          4024   \n",
       "4         INV-33174200025  2021-01-04          5385   \n",
       "\n",
       "                       store_name      address           city  zip_code  \\\n",
       "0  Hy-VeeWineandSpirits/StormLake  1250NLakeSt      StormLake   50588.0   \n",
       "1                Hy-Vee#3/Dubuque  400LocustSt        Dubuque   52001.0   \n",
       "2       Hy-VeeFoodStore/IowaFalls     640S.Oak      IowaFalls   50126.0   \n",
       "3          Wal-Mart1546/IowaFalls      840SOak      IowaFalls   50126.0   \n",
       "4                 VineFood&Liquor  2704VineSt.  WestDesMoines   50265.0   \n",
       "\n",
       "   county_number     county   category_name  ...  Gin OtherCategories  Rum  \\\n",
       "0           11.0      Adair  WhiskeyLiqueur  ...    0               0    0   \n",
       "1           31.0      Adair   CreamLiqueurs  ...    0               0    0   \n",
       "2           42.0      Adams   AmericanVodka  ...    0               0    0   \n",
       "3           42.0      Adams   AmericanVodka  ...    0               0    0   \n",
       "4           77.0  Allamakee  ScotchWhiskies  ...    0               0    0   \n",
       "\n",
       "  Schnapps  Scotch  Specialty  Spirits  Tequila  Vodka  Whisky  \n",
       "0        0       0          0        1        0      0       0  \n",
       "1        0       0          0        0        0      0       0  \n",
       "2        0       0          0        0        0      1       0  \n",
       "3        0       0          0        0        0      1       0  \n",
       "4        0       0          0        0        0      0       1  \n",
       "\n",
       "[5 rows x 37 columns]"
      ]
     },
     "execution_count": 5,
     "metadata": {},
     "output_type": "execute_result"
    }
   ],
   "source": [
    "df1.head()"
   ]
  },
  {
   "cell_type": "code",
   "execution_count": 6,
   "id": "90ce962d",
   "metadata": {},
   "outputs": [
    {
     "name": "stdout",
     "output_type": "stream",
     "text": [
      "<class 'pandas.core.frame.DataFrame'>\n",
      "RangeIndex: 2805303 entries, 0 to 2805302\n",
      "Data columns (total 37 columns):\n",
      " #   Column                   Dtype  \n",
      "---  ------                   -----  \n",
      " 0   invoice_and_item_number  object \n",
      " 1   date                     object \n",
      " 2   store_number             int64  \n",
      " 3   store_name               object \n",
      " 4   address                  object \n",
      " 5   city                     object \n",
      " 6   zip_code                 float64\n",
      " 7   county_number            float64\n",
      " 8   county                   object \n",
      " 9   category_name            object \n",
      " 10  vendor_number            float64\n",
      " 11  vendor_name              object \n",
      " 12  item_number              int64  \n",
      " 13  item_description         object \n",
      " 14  pack                     int64  \n",
      " 15  bottle_volume_ml         int64  \n",
      " 16  profit                   float64\n",
      " 17  day                      int64  \n",
      " 18  week                     int64  \n",
      " 19  volume_3                 int64  \n",
      " 20  volume_4                 int64  \n",
      " 21  volume_5                 int64  \n",
      " 22  volume_6                 int64  \n",
      " 23  Bourbon                  int64  \n",
      " 24  Brandy                   int64  \n",
      " 25  Cocktail                 int64  \n",
      " 26  Cordials&Liqueur         int64  \n",
      " 27  Gin                      int64  \n",
      " 28  OtherCategories          int64  \n",
      " 29  Rum                      int64  \n",
      " 30  Schnapps                 int64  \n",
      " 31  Scotch                   int64  \n",
      " 32  Specialty                int64  \n",
      " 33  Spirits                  int64  \n",
      " 34  Tequila                  int64  \n",
      " 35  Vodka                    int64  \n",
      " 36  Whisky                   int64  \n",
      "dtypes: float64(4), int64(24), object(9)\n",
      "memory usage: 791.9+ MB\n"
     ]
    }
   ],
   "source": [
    "df1.info()"
   ]
  },
  {
   "cell_type": "code",
   "execution_count": 7,
   "id": "1e914749",
   "metadata": {},
   "outputs": [
    {
     "data": {
      "text/plain": [
       "(2805303, 37)"
      ]
     },
     "execution_count": 7,
     "metadata": {},
     "output_type": "execute_result"
    }
   ],
   "source": [
    "df1.shape"
   ]
  },
  {
   "cell_type": "code",
   "execution_count": 8,
   "id": "34f93888",
   "metadata": {},
   "outputs": [],
   "source": [
    "numeric_columns = df1.select_dtypes(include=['float64', 'int64', 'uint8']).columns"
   ]
  },
  {
   "cell_type": "code",
   "execution_count": 9,
   "id": "6f5dc3b9",
   "metadata": {},
   "outputs": [],
   "source": [
    "X = df1[numeric_columns].drop(['profit'], axis=1)\n",
    "y = df1['profit']"
   ]
  },
  {
   "cell_type": "code",
   "execution_count": 10,
   "id": "0c72c24f",
   "metadata": {},
   "outputs": [],
   "source": [
    "X_train, X_test, y_train, y_test = train_test_split(X, y, test_size=0.2, random_state=42)"
   ]
  },
  {
   "cell_type": "markdown",
   "id": "8e85b99e",
   "metadata": {},
   "source": [
    "###"
   ]
  },
  {
   "cell_type": "markdown",
   "id": "fd7e307c",
   "metadata": {},
   "source": [
    "### Lasso and Ridge"
   ]
  },
  {
   "cell_type": "code",
   "execution_count": 21,
   "id": "f5c186e1",
   "metadata": {},
   "outputs": [],
   "source": [
    "from sklearn.linear_model import Lasso, Ridge"
   ]
  },
  {
   "cell_type": "code",
   "execution_count": 22,
   "id": "884ddd75",
   "metadata": {},
   "outputs": [
    {
     "name": "stdout",
     "output_type": "stream",
     "text": [
      "[-2.76173377e-03 -6.88975391e-04  8.35884029e-02 -2.20729268e-02\n",
      "  3.41131916e-05 -1.00204727e-01  8.04583988e-03 -4.96847321e-02\n",
      "  1.17654318e-01  3.12379340e+02  6.25523921e+02  1.63530110e+03\n",
      "  5.08094074e+03  0.00000000e+00  9.97408766e+00 -3.56129961e+01\n",
      " -8.23810701e+00 -7.21563428e+00  0.00000000e+00 -1.25058302e+01\n",
      " -1.77329124e+01  8.54650575e+00  0.00000000e+00  7.49472860e+00\n",
      "  1.90322863e+01 -1.59419946e+01  2.28015795e+00]\n",
      "[-2.67450142e-03 -7.27095155e-04  8.34732833e-02 -2.29914916e-02\n",
      "  3.06484378e-05 -1.00783171e-01  7.64892841e-03 -4.06874038e-02\n",
      "  1.15202829e-01  3.24726291e+02  6.50230357e+02  1.67809212e+03\n",
      "  5.65950333e+03  3.01363121e+01  1.21726813e+01 -3.87020374e+01\n",
      " -9.48210168e+00 -1.09782480e+01  1.35513749e+01 -1.41140848e+01\n",
      " -1.98332071e+01  2.05723609e+01  1.59515645e+00  9.01042697e+00\n",
      "  2.07752583e+01 -1.69521753e+01  2.24828375e+00]\n"
     ]
    },
    {
     "name": "stderr",
     "output_type": "stream",
     "text": [
      "C:\\Users\\hp\\anaconda3\\envs\\ensemble\\lib\\site-packages\\sklearn\\linear_model\\_ridge.py:200: LinAlgWarning: Ill-conditioned matrix (rcond=5.29521e-18): result may not be accurate.\n",
      "  return linalg.solve(A, Xy, assume_a=\"pos\", overwrite_a=True).T\n"
     ]
    }
   ],
   "source": [
    "# Create and fit lasso model\n",
    "lasso = Lasso(alpha=0.1) # Set alpha to 0.1\n",
    "lasso.fit(X, y)\n",
    "\n",
    "# Print coefficients\n",
    "print(lasso.coef_)\n",
    "\n",
    "# Create and fit lasso model\n",
    "ridge = Ridge(alpha=0.1) # Set alpha to 0.1\n",
    "ridge.fit(X_train, y_train)\n",
    "print(ridge.coef_)"
   ]
  },
  {
   "cell_type": "code",
   "execution_count": 24,
   "id": "5958177b",
   "metadata": {},
   "outputs": [
    {
     "name": "stdout",
     "output_type": "stream",
     "text": [
      "Lasso Test Score: 0.43458524862537495\n",
      "Ridge Test Score: 0.4336899381583351\n",
      "Lasso Train Score: 0.45575359997003917\n",
      "Ridge Train Score: 0.4577967056197031\n"
     ]
    }
   ],
   "source": [
    "lasso_score = lasso.score(X_test, y_test)\n",
    "ridge_score = ridge.score(X_test, y_test)\n",
    "print(\"Lasso Test Score:\", lasso_score)\n",
    "print(\"Ridge Test Score:\", ridge_score)\n",
    "\n",
    "lasso_score = lasso.score(X_train, y_train)\n",
    "ridge_score = ridge.score(X_train, y_train)\n",
    "print(\"Lasso Train Score:\", lasso_score)\n",
    "print(\"Ridge Train Score:\", ridge_score)"
   ]
  },
  {
   "cell_type": "markdown",
   "id": "f5bd6639",
   "metadata": {},
   "source": [
    "The test score for Lasso is slightly lower than the training score. This decrease in performance from training to testing is common and indicates a moderate level of generalization. The Lasso model explains about 43.46% of the variance in the test dataset.\n",
    "\n",
    "Ridge  has a marginally higher training score compared to the Lasso, explaining about 45.78% of the variance in the training data. This suggests a slightly better fit to the training data than Lasso.  Similar to Lasso, the test score for Ridge is lower than the training score, indicating a drop in performance on unseen data. The Ridge model explains about 43.37% of the variance in the test dataset."
   ]
  },
  {
   "cell_type": "markdown",
   "id": "7820609d",
   "metadata": {},
   "source": [
    "Both models show a decrease in performance from the train to the test. This indicates overfitting, though in this case, the extent of overfitting is inobvious. It suggests that while the models are fitted well to the training data, their ability to generalize to unseen data is slightly weaker.\n",
    "\n",
    "The close performance of Lasso and Ridge indicates that the impact of L1 (Lasso) and L2 (Ridge) regularization in this dataset  is quite similar. "
   ]
  },
  {
   "cell_type": "markdown",
   "id": "02605836",
   "metadata": {},
   "source": [
    "###"
   ]
  },
  {
   "cell_type": "markdown",
   "id": "2468c3b0",
   "metadata": {},
   "source": [
    "### Advanced Model"
   ]
  },
  {
   "cell_type": "code",
   "execution_count": 25,
   "id": "419cde91",
   "metadata": {},
   "outputs": [],
   "source": [
    "from sklearn.model_selection import GridSearchCV\n",
    "\n",
    "# Define the parameter grid for Lasso\n",
    "param_grid = {'alpha': [0.001, 0.01, 0.1, 1, 10, 100]}\n",
    "\n",
    "# Create the Lasso model\n",
    "lasso = Lasso()\n",
    "\n",
    "# Set up Grid Search\n",
    "grid_search = GridSearchCV(lasso, param_grid, cv=5, scoring='neg_mean_squared_error', verbose=1)"
   ]
  },
  {
   "cell_type": "code",
   "execution_count": 26,
   "id": "af1e117b",
   "metadata": {},
   "outputs": [
    {
     "name": "stdout",
     "output_type": "stream",
     "text": [
      "Fitting 5 folds for each of 6 candidates, totalling 30 fits\n"
     ]
    },
    {
     "name": "stderr",
     "output_type": "stream",
     "text": [
      "C:\\Users\\hp\\anaconda3\\envs\\ensemble\\lib\\site-packages\\sklearn\\linear_model\\_coordinate_descent.py:628: ConvergenceWarning: Objective did not converge. You might want to increase the number of iterations, check the scale of the features or consider increasing regularisation. Duality gap: 1.476e+10, tolerance: 6.143e+06\n",
      "  model = cd_fast.enet_coordinate_descent(\n",
      "C:\\Users\\hp\\anaconda3\\envs\\ensemble\\lib\\site-packages\\sklearn\\linear_model\\_coordinate_descent.py:628: ConvergenceWarning: Objective did not converge. You might want to increase the number of iterations, check the scale of the features or consider increasing regularisation. Duality gap: 1.185e+09, tolerance: 7.137e+06\n",
      "  model = cd_fast.enet_coordinate_descent(\n",
      "C:\\Users\\hp\\anaconda3\\envs\\ensemble\\lib\\site-packages\\sklearn\\linear_model\\_coordinate_descent.py:628: ConvergenceWarning: Objective did not converge. You might want to increase the number of iterations, check the scale of the features or consider increasing regularisation. Duality gap: 1.278e+09, tolerance: 7.449e+06\n",
      "  model = cd_fast.enet_coordinate_descent(\n",
      "C:\\Users\\hp\\anaconda3\\envs\\ensemble\\lib\\site-packages\\sklearn\\linear_model\\_coordinate_descent.py:628: ConvergenceWarning: Objective did not converge. You might want to increase the number of iterations, check the scale of the features or consider increasing regularisation. Duality gap: 2.176e+10, tolerance: 7.759e+06\n",
      "  model = cd_fast.enet_coordinate_descent(\n",
      "C:\\Users\\hp\\anaconda3\\envs\\ensemble\\lib\\site-packages\\sklearn\\linear_model\\_coordinate_descent.py:628: ConvergenceWarning: Objective did not converge. You might want to increase the number of iterations, check the scale of the features or consider increasing regularisation. Duality gap: 1.323e+09, tolerance: 7.681e+06\n",
      "  model = cd_fast.enet_coordinate_descent(\n"
     ]
    },
    {
     "name": "stdout",
     "output_type": "stream",
     "text": [
      "Best Parameters: {'alpha': 0.001}\n",
      "Best Score: -21891.782492238508\n"
     ]
    },
    {
     "name": "stderr",
     "output_type": "stream",
     "text": [
      "C:\\Users\\hp\\anaconda3\\envs\\ensemble\\lib\\site-packages\\sklearn\\linear_model\\_coordinate_descent.py:628: ConvergenceWarning: Objective did not converge. You might want to increase the number of iterations, check the scale of the features or consider increasing regularisation. Duality gap: 1.514e+09, tolerance: 9.042e+06\n",
      "  model = cd_fast.enet_coordinate_descent(\n"
     ]
    }
   ],
   "source": [
    "grid_search.fit(X_train, y_train)\n",
    "\n",
    "# Retrieve the best parameters and best score\n",
    "best_params = grid_search.best_params_\n",
    "best_score = grid_search.best_score_\n",
    "\n",
    "print(f\"Best Parameters: {best_params}\")\n",
    "print(f\"Best Score: {best_score}\")"
   ]
  },
  {
   "cell_type": "code",
   "execution_count": 31,
   "id": "d2df4c5f",
   "metadata": {},
   "outputs": [
    {
     "name": "stderr",
     "output_type": "stream",
     "text": [
      "C:\\Users\\hp\\anaconda3\\envs\\ensemble\\lib\\site-packages\\sklearn\\linear_model\\_coordinate_descent.py:628: ConvergenceWarning: Objective did not converge. You might want to increase the number of iterations, check the scale of the features or consider increasing regularisation. Duality gap: 3.073e+10, tolerance: 1.125e+07\n",
      "  model = cd_fast.enet_coordinate_descent(\n"
     ]
    },
    {
     "data": {
      "text/html": [
       "<style>#sk-container-id-2 {color: black;}#sk-container-id-2 pre{padding: 0;}#sk-container-id-2 div.sk-toggleable {background-color: white;}#sk-container-id-2 label.sk-toggleable__label {cursor: pointer;display: block;width: 100%;margin-bottom: 0;padding: 0.3em;box-sizing: border-box;text-align: center;}#sk-container-id-2 label.sk-toggleable__label-arrow:before {content: \"▸\";float: left;margin-right: 0.25em;color: #696969;}#sk-container-id-2 label.sk-toggleable__label-arrow:hover:before {color: black;}#sk-container-id-2 div.sk-estimator:hover label.sk-toggleable__label-arrow:before {color: black;}#sk-container-id-2 div.sk-toggleable__content {max-height: 0;max-width: 0;overflow: hidden;text-align: left;background-color: #f0f8ff;}#sk-container-id-2 div.sk-toggleable__content pre {margin: 0.2em;color: black;border-radius: 0.25em;background-color: #f0f8ff;}#sk-container-id-2 input.sk-toggleable__control:checked~div.sk-toggleable__content {max-height: 200px;max-width: 100%;overflow: auto;}#sk-container-id-2 input.sk-toggleable__control:checked~label.sk-toggleable__label-arrow:before {content: \"▾\";}#sk-container-id-2 div.sk-estimator input.sk-toggleable__control:checked~label.sk-toggleable__label {background-color: #d4ebff;}#sk-container-id-2 div.sk-label input.sk-toggleable__control:checked~label.sk-toggleable__label {background-color: #d4ebff;}#sk-container-id-2 input.sk-hidden--visually {border: 0;clip: rect(1px 1px 1px 1px);clip: rect(1px, 1px, 1px, 1px);height: 1px;margin: -1px;overflow: hidden;padding: 0;position: absolute;width: 1px;}#sk-container-id-2 div.sk-estimator {font-family: monospace;background-color: #f0f8ff;border: 1px dotted black;border-radius: 0.25em;box-sizing: border-box;margin-bottom: 0.5em;}#sk-container-id-2 div.sk-estimator:hover {background-color: #d4ebff;}#sk-container-id-2 div.sk-parallel-item::after {content: \"\";width: 100%;border-bottom: 1px solid gray;flex-grow: 1;}#sk-container-id-2 div.sk-label:hover label.sk-toggleable__label {background-color: #d4ebff;}#sk-container-id-2 div.sk-serial::before {content: \"\";position: absolute;border-left: 1px solid gray;box-sizing: border-box;top: 0;bottom: 0;left: 50%;z-index: 0;}#sk-container-id-2 div.sk-serial {display: flex;flex-direction: column;align-items: center;background-color: white;padding-right: 0.2em;padding-left: 0.2em;position: relative;}#sk-container-id-2 div.sk-item {position: relative;z-index: 1;}#sk-container-id-2 div.sk-parallel {display: flex;align-items: stretch;justify-content: center;background-color: white;position: relative;}#sk-container-id-2 div.sk-item::before, #sk-container-id-2 div.sk-parallel-item::before {content: \"\";position: absolute;border-left: 1px solid gray;box-sizing: border-box;top: 0;bottom: 0;left: 50%;z-index: -1;}#sk-container-id-2 div.sk-parallel-item {display: flex;flex-direction: column;z-index: 1;position: relative;background-color: white;}#sk-container-id-2 div.sk-parallel-item:first-child::after {align-self: flex-end;width: 50%;}#sk-container-id-2 div.sk-parallel-item:last-child::after {align-self: flex-start;width: 50%;}#sk-container-id-2 div.sk-parallel-item:only-child::after {width: 0;}#sk-container-id-2 div.sk-dashed-wrapped {border: 1px dashed gray;margin: 0 0.4em 0.5em 0.4em;box-sizing: border-box;padding-bottom: 0.4em;background-color: white;}#sk-container-id-2 div.sk-label label {font-family: monospace;font-weight: bold;display: inline-block;line-height: 1.2em;}#sk-container-id-2 div.sk-label-container {text-align: center;}#sk-container-id-2 div.sk-container {/* jupyter's `normalize.less` sets `[hidden] { display: none; }` but bootstrap.min.css set `[hidden] { display: none !important; }` so we also need the `!important` here to be able to override the default hidden behavior on the sphinx rendered scikit-learn.org. See: https://github.com/scikit-learn/scikit-learn/issues/21755 */display: inline-block !important;position: relative;}#sk-container-id-2 div.sk-text-repr-fallback {display: none;}</style><div id=\"sk-container-id-2\" class=\"sk-top-container\"><div class=\"sk-text-repr-fallback\"><pre>Lasso(alpha=0.001)</pre><b>In a Jupyter environment, please rerun this cell to show the HTML representation or trust the notebook. <br />On GitHub, the HTML representation is unable to render, please try loading this page with nbviewer.org.</b></div><div class=\"sk-container\" hidden><div class=\"sk-item\"><div class=\"sk-estimator sk-toggleable\"><input class=\"sk-toggleable__control sk-hidden--visually\" id=\"sk-estimator-id-2\" type=\"checkbox\" checked><label for=\"sk-estimator-id-2\" class=\"sk-toggleable__label sk-toggleable__label-arrow\">Lasso</label><div class=\"sk-toggleable__content\"><pre>Lasso(alpha=0.001)</pre></div></div></div></div></div>"
      ],
      "text/plain": [
       "Lasso(alpha=0.001)"
      ]
     },
     "execution_count": 31,
     "metadata": {},
     "output_type": "execute_result"
    }
   ],
   "source": [
    "lasso_best = Lasso(alpha=0.001)\n",
    "lasso_best.fit(X, y)"
   ]
  },
  {
   "cell_type": "code",
   "execution_count": 34,
   "id": "7cf2f328",
   "metadata": {},
   "outputs": [
    {
     "name": "stdout",
     "output_type": "stream",
     "text": [
      "Lasso Best Test Score: 0.45575359997003917\n",
      "Lasso Best Train Score: 0.45575359997003917\n"
     ]
    }
   ],
   "source": [
    "lasso_best_score = lasso_best.score(X_test, y_test)\n",
    "print(\"Lasso Best Test Score:\", lasso_score)\n",
    "\n",
    "lasso_best_score = lasso_best.score(X_train, y_train)\n",
    "print(\"Lasso Best Train Score:\", lasso_score)"
   ]
  },
  {
   "cell_type": "markdown",
   "id": "5f5bdea6",
   "metadata": {},
   "source": [
    "###"
   ]
  },
  {
   "cell_type": "code",
   "execution_count": 27,
   "id": "74492294",
   "metadata": {
    "scrolled": true
   },
   "outputs": [
    {
     "name": "stdout",
     "output_type": "stream",
     "text": [
      "Fitting 5 folds for each of 6 candidates, totalling 30 fits\n"
     ]
    },
    {
     "name": "stderr",
     "output_type": "stream",
     "text": [
      "C:\\Users\\hp\\anaconda3\\envs\\ensemble\\lib\\site-packages\\sklearn\\linear_model\\_ridge.py:200: LinAlgWarning: Ill-conditioned matrix (rcond=6.62384e-20): result may not be accurate.\n",
      "  return linalg.solve(A, Xy, assume_a=\"pos\", overwrite_a=True).T\n",
      "C:\\Users\\hp\\anaconda3\\envs\\ensemble\\lib\\site-packages\\sklearn\\linear_model\\_ridge.py:200: LinAlgWarning: Ill-conditioned matrix (rcond=6.62922e-20): result may not be accurate.\n",
      "  return linalg.solve(A, Xy, assume_a=\"pos\", overwrite_a=True).T\n",
      "C:\\Users\\hp\\anaconda3\\envs\\ensemble\\lib\\site-packages\\sklearn\\linear_model\\_ridge.py:200: LinAlgWarning: Ill-conditioned matrix (rcond=6.59479e-20): result may not be accurate.\n",
      "  return linalg.solve(A, Xy, assume_a=\"pos\", overwrite_a=True).T\n",
      "C:\\Users\\hp\\anaconda3\\envs\\ensemble\\lib\\site-packages\\sklearn\\linear_model\\_ridge.py:200: LinAlgWarning: Ill-conditioned matrix (rcond=6.65103e-20): result may not be accurate.\n",
      "  return linalg.solve(A, Xy, assume_a=\"pos\", overwrite_a=True).T\n",
      "C:\\Users\\hp\\anaconda3\\envs\\ensemble\\lib\\site-packages\\sklearn\\linear_model\\_ridge.py:200: LinAlgWarning: Ill-conditioned matrix (rcond=6.5965e-20): result may not be accurate.\n",
      "  return linalg.solve(A, Xy, assume_a=\"pos\", overwrite_a=True).T\n",
      "C:\\Users\\hp\\anaconda3\\envs\\ensemble\\lib\\site-packages\\sklearn\\linear_model\\_ridge.py:200: LinAlgWarning: Ill-conditioned matrix (rcond=6.62384e-19): result may not be accurate.\n",
      "  return linalg.solve(A, Xy, assume_a=\"pos\", overwrite_a=True).T\n",
      "C:\\Users\\hp\\anaconda3\\envs\\ensemble\\lib\\site-packages\\sklearn\\linear_model\\_ridge.py:200: LinAlgWarning: Ill-conditioned matrix (rcond=6.62922e-19): result may not be accurate.\n",
      "  return linalg.solve(A, Xy, assume_a=\"pos\", overwrite_a=True).T\n",
      "C:\\Users\\hp\\anaconda3\\envs\\ensemble\\lib\\site-packages\\sklearn\\linear_model\\_ridge.py:200: LinAlgWarning: Ill-conditioned matrix (rcond=6.59479e-19): result may not be accurate.\n",
      "  return linalg.solve(A, Xy, assume_a=\"pos\", overwrite_a=True).T\n",
      "C:\\Users\\hp\\anaconda3\\envs\\ensemble\\lib\\site-packages\\sklearn\\linear_model\\_ridge.py:200: LinAlgWarning: Ill-conditioned matrix (rcond=6.65103e-19): result may not be accurate.\n",
      "  return linalg.solve(A, Xy, assume_a=\"pos\", overwrite_a=True).T\n",
      "C:\\Users\\hp\\anaconda3\\envs\\ensemble\\lib\\site-packages\\sklearn\\linear_model\\_ridge.py:200: LinAlgWarning: Ill-conditioned matrix (rcond=6.5965e-19): result may not be accurate.\n",
      "  return linalg.solve(A, Xy, assume_a=\"pos\", overwrite_a=True).T\n",
      "C:\\Users\\hp\\anaconda3\\envs\\ensemble\\lib\\site-packages\\sklearn\\linear_model\\_ridge.py:200: LinAlgWarning: Ill-conditioned matrix (rcond=6.62384e-18): result may not be accurate.\n",
      "  return linalg.solve(A, Xy, assume_a=\"pos\", overwrite_a=True).T\n",
      "C:\\Users\\hp\\anaconda3\\envs\\ensemble\\lib\\site-packages\\sklearn\\linear_model\\_ridge.py:200: LinAlgWarning: Ill-conditioned matrix (rcond=6.62922e-18): result may not be accurate.\n",
      "  return linalg.solve(A, Xy, assume_a=\"pos\", overwrite_a=True).T\n",
      "C:\\Users\\hp\\anaconda3\\envs\\ensemble\\lib\\site-packages\\sklearn\\linear_model\\_ridge.py:200: LinAlgWarning: Ill-conditioned matrix (rcond=6.59479e-18): result may not be accurate.\n",
      "  return linalg.solve(A, Xy, assume_a=\"pos\", overwrite_a=True).T\n",
      "C:\\Users\\hp\\anaconda3\\envs\\ensemble\\lib\\site-packages\\sklearn\\linear_model\\_ridge.py:200: LinAlgWarning: Ill-conditioned matrix (rcond=6.65103e-18): result may not be accurate.\n",
      "  return linalg.solve(A, Xy, assume_a=\"pos\", overwrite_a=True).T\n",
      "C:\\Users\\hp\\anaconda3\\envs\\ensemble\\lib\\site-packages\\sklearn\\linear_model\\_ridge.py:200: LinAlgWarning: Ill-conditioned matrix (rcond=6.5965e-18): result may not be accurate.\n",
      "  return linalg.solve(A, Xy, assume_a=\"pos\", overwrite_a=True).T\n",
      "C:\\Users\\hp\\anaconda3\\envs\\ensemble\\lib\\site-packages\\sklearn\\linear_model\\_ridge.py:200: LinAlgWarning: Ill-conditioned matrix (rcond=6.62382e-17): result may not be accurate.\n",
      "  return linalg.solve(A, Xy, assume_a=\"pos\", overwrite_a=True).T\n",
      "C:\\Users\\hp\\anaconda3\\envs\\ensemble\\lib\\site-packages\\sklearn\\linear_model\\_ridge.py:200: LinAlgWarning: Ill-conditioned matrix (rcond=6.6292e-17): result may not be accurate.\n",
      "  return linalg.solve(A, Xy, assume_a=\"pos\", overwrite_a=True).T\n",
      "C:\\Users\\hp\\anaconda3\\envs\\ensemble\\lib\\site-packages\\sklearn\\linear_model\\_ridge.py:200: LinAlgWarning: Ill-conditioned matrix (rcond=6.59477e-17): result may not be accurate.\n",
      "  return linalg.solve(A, Xy, assume_a=\"pos\", overwrite_a=True).T\n",
      "C:\\Users\\hp\\anaconda3\\envs\\ensemble\\lib\\site-packages\\sklearn\\linear_model\\_ridge.py:200: LinAlgWarning: Ill-conditioned matrix (rcond=6.65101e-17): result may not be accurate.\n",
      "  return linalg.solve(A, Xy, assume_a=\"pos\", overwrite_a=True).T\n",
      "C:\\Users\\hp\\anaconda3\\envs\\ensemble\\lib\\site-packages\\sklearn\\linear_model\\_ridge.py:200: LinAlgWarning: Ill-conditioned matrix (rcond=6.59648e-17): result may not be accurate.\n",
      "  return linalg.solve(A, Xy, assume_a=\"pos\", overwrite_a=True).T\n"
     ]
    },
    {
     "name": "stdout",
     "output_type": "stream",
     "text": [
      "Best Parameters: {'alpha': 0.1}\n",
      "Best Score: -21891.739162638143\n"
     ]
    },
    {
     "name": "stderr",
     "output_type": "stream",
     "text": [
      "C:\\Users\\hp\\anaconda3\\envs\\ensemble\\lib\\site-packages\\sklearn\\linear_model\\_ridge.py:200: LinAlgWarning: Ill-conditioned matrix (rcond=5.29521e-18): result may not be accurate.\n",
      "  return linalg.solve(A, Xy, assume_a=\"pos\", overwrite_a=True).T\n"
     ]
    }
   ],
   "source": [
    "# Define the parameter grid for Ridge\n",
    "param_grid = {'alpha': [0.001, 0.01, 0.1, 1, 10, 100]}\n",
    "\n",
    "# Create the Ridge model\n",
    "ridge = Ridge()\n",
    "\n",
    "# Set up Grid Search\n",
    "grid_searchR = GridSearchCV(ridge, param_grid, cv=5, scoring='neg_mean_squared_error', verbose=1)\n",
    "grid_searchR.fit(X_train, y_train)\n",
    "\n",
    "# Retrieve the best parameters and best score\n",
    "best_params_R = grid_searchR.best_params_\n",
    "best_score_R = grid_searchR.best_score_\n",
    "\n",
    "print(f\"Best Parameters: {best_params_R}\")\n",
    "print(f\"Best Score: {best_score_R}\")"
   ]
  },
  {
   "cell_type": "code",
   "execution_count": 33,
   "id": "dd097a15",
   "metadata": {},
   "outputs": [
    {
     "name": "stderr",
     "output_type": "stream",
     "text": [
      "C:\\Users\\hp\\anaconda3\\envs\\ensemble\\lib\\site-packages\\sklearn\\linear_model\\_ridge.py:200: LinAlgWarning: Ill-conditioned matrix (rcond=5.29521e-18): result may not be accurate.\n",
      "  return linalg.solve(A, Xy, assume_a=\"pos\", overwrite_a=True).T\n"
     ]
    },
    {
     "data": {
      "text/html": [
       "<style>#sk-container-id-3 {color: black;}#sk-container-id-3 pre{padding: 0;}#sk-container-id-3 div.sk-toggleable {background-color: white;}#sk-container-id-3 label.sk-toggleable__label {cursor: pointer;display: block;width: 100%;margin-bottom: 0;padding: 0.3em;box-sizing: border-box;text-align: center;}#sk-container-id-3 label.sk-toggleable__label-arrow:before {content: \"▸\";float: left;margin-right: 0.25em;color: #696969;}#sk-container-id-3 label.sk-toggleable__label-arrow:hover:before {color: black;}#sk-container-id-3 div.sk-estimator:hover label.sk-toggleable__label-arrow:before {color: black;}#sk-container-id-3 div.sk-toggleable__content {max-height: 0;max-width: 0;overflow: hidden;text-align: left;background-color: #f0f8ff;}#sk-container-id-3 div.sk-toggleable__content pre {margin: 0.2em;color: black;border-radius: 0.25em;background-color: #f0f8ff;}#sk-container-id-3 input.sk-toggleable__control:checked~div.sk-toggleable__content {max-height: 200px;max-width: 100%;overflow: auto;}#sk-container-id-3 input.sk-toggleable__control:checked~label.sk-toggleable__label-arrow:before {content: \"▾\";}#sk-container-id-3 div.sk-estimator input.sk-toggleable__control:checked~label.sk-toggleable__label {background-color: #d4ebff;}#sk-container-id-3 div.sk-label input.sk-toggleable__control:checked~label.sk-toggleable__label {background-color: #d4ebff;}#sk-container-id-3 input.sk-hidden--visually {border: 0;clip: rect(1px 1px 1px 1px);clip: rect(1px, 1px, 1px, 1px);height: 1px;margin: -1px;overflow: hidden;padding: 0;position: absolute;width: 1px;}#sk-container-id-3 div.sk-estimator {font-family: monospace;background-color: #f0f8ff;border: 1px dotted black;border-radius: 0.25em;box-sizing: border-box;margin-bottom: 0.5em;}#sk-container-id-3 div.sk-estimator:hover {background-color: #d4ebff;}#sk-container-id-3 div.sk-parallel-item::after {content: \"\";width: 100%;border-bottom: 1px solid gray;flex-grow: 1;}#sk-container-id-3 div.sk-label:hover label.sk-toggleable__label {background-color: #d4ebff;}#sk-container-id-3 div.sk-serial::before {content: \"\";position: absolute;border-left: 1px solid gray;box-sizing: border-box;top: 0;bottom: 0;left: 50%;z-index: 0;}#sk-container-id-3 div.sk-serial {display: flex;flex-direction: column;align-items: center;background-color: white;padding-right: 0.2em;padding-left: 0.2em;position: relative;}#sk-container-id-3 div.sk-item {position: relative;z-index: 1;}#sk-container-id-3 div.sk-parallel {display: flex;align-items: stretch;justify-content: center;background-color: white;position: relative;}#sk-container-id-3 div.sk-item::before, #sk-container-id-3 div.sk-parallel-item::before {content: \"\";position: absolute;border-left: 1px solid gray;box-sizing: border-box;top: 0;bottom: 0;left: 50%;z-index: -1;}#sk-container-id-3 div.sk-parallel-item {display: flex;flex-direction: column;z-index: 1;position: relative;background-color: white;}#sk-container-id-3 div.sk-parallel-item:first-child::after {align-self: flex-end;width: 50%;}#sk-container-id-3 div.sk-parallel-item:last-child::after {align-self: flex-start;width: 50%;}#sk-container-id-3 div.sk-parallel-item:only-child::after {width: 0;}#sk-container-id-3 div.sk-dashed-wrapped {border: 1px dashed gray;margin: 0 0.4em 0.5em 0.4em;box-sizing: border-box;padding-bottom: 0.4em;background-color: white;}#sk-container-id-3 div.sk-label label {font-family: monospace;font-weight: bold;display: inline-block;line-height: 1.2em;}#sk-container-id-3 div.sk-label-container {text-align: center;}#sk-container-id-3 div.sk-container {/* jupyter's `normalize.less` sets `[hidden] { display: none; }` but bootstrap.min.css set `[hidden] { display: none !important; }` so we also need the `!important` here to be able to override the default hidden behavior on the sphinx rendered scikit-learn.org. See: https://github.com/scikit-learn/scikit-learn/issues/21755 */display: inline-block !important;position: relative;}#sk-container-id-3 div.sk-text-repr-fallback {display: none;}</style><div id=\"sk-container-id-3\" class=\"sk-top-container\"><div class=\"sk-text-repr-fallback\"><pre>Ridge(alpha=0.1)</pre><b>In a Jupyter environment, please rerun this cell to show the HTML representation or trust the notebook. <br />On GitHub, the HTML representation is unable to render, please try loading this page with nbviewer.org.</b></div><div class=\"sk-container\" hidden><div class=\"sk-item\"><div class=\"sk-estimator sk-toggleable\"><input class=\"sk-toggleable__control sk-hidden--visually\" id=\"sk-estimator-id-3\" type=\"checkbox\" checked><label for=\"sk-estimator-id-3\" class=\"sk-toggleable__label sk-toggleable__label-arrow\">Ridge</label><div class=\"sk-toggleable__content\"><pre>Ridge(alpha=0.1)</pre></div></div></div></div></div>"
      ],
      "text/plain": [
       "Ridge(alpha=0.1)"
      ]
     },
     "execution_count": 33,
     "metadata": {},
     "output_type": "execute_result"
    }
   ],
   "source": [
    "ridge = Ridge(alpha=0.1) \n",
    "ridge.fit(X_train, y_train)"
   ]
  },
  {
   "cell_type": "code",
   "execution_count": 36,
   "id": "9ba52c39",
   "metadata": {},
   "outputs": [
    {
     "name": "stdout",
     "output_type": "stream",
     "text": [
      "Ridge Best Test Score: 0.4336899381583351\n",
      "Ridge Best Train Score: 0.4577967056197031\n"
     ]
    }
   ],
   "source": [
    "ridge_score = ridge.score(X_test, y_test)\n",
    "print(\"Ridge Best Test Score:\", ridge_score)\n",
    "ridge_score = ridge.score(X_train, y_train)\n",
    "print(\"Ridge Best Train Score:\", ridge_score)"
   ]
  },
  {
   "cell_type": "markdown",
   "id": "53838577",
   "metadata": {},
   "source": [
    "\n",
    "0.4557 R-squared, on the training data indicates a moderate fit. It means that approximately 45.57% of the variance in the target variable is explained by the Lasso model.\n",
    "The test score is almost identical to the training score, which is an excellent indicator of the model's generalization. There's no overfitting, as the model performs almost equally well on both unseen and seen data.\n",
    "\n",
    "Ridge Best Train Score is 0.4578, it is slightly higher than Lasso, indicating a marginally better fit to the training data.\n",
    "But thee test score is lower than the training score, suggesting a slight decline in performance on unseen data. "
   ]
  },
  {
   "cell_type": "markdown",
   "id": "e0d517f6",
   "metadata": {},
   "source": [
    "Lasso and Ridge perform similarly on the training data, but Lasso shows better generalization ability as indicated by the test scores. The similarity in the training scores suggests that both models capture the underlying patterns to a similar extent, but Lasso may be more robust to overfitting in this case."
   ]
  },
  {
   "cell_type": "markdown",
   "id": "4938c0c7",
   "metadata": {},
   "source": [
    "### "
   ]
  },
  {
   "cell_type": "markdown",
   "id": "425a2586",
   "metadata": {},
   "source": [
    "### XGBoost"
   ]
  },
  {
   "cell_type": "code",
   "execution_count": 43,
   "id": "438ec8fc",
   "metadata": {},
   "outputs": [
    {
     "name": "stdout",
     "output_type": "stream",
     "text": [
      "{'f11': 358, 'f12': 180, 'f10': 199, 'f9': 180, 'f6': 291, 'f14': 50, 'f4': 1150, 'f3': 479, 'f7': 225, 'f1': 419, 'f5': 200, 'f15': 23, 'f22': 39, 'f8': 315, 'f25': 40, 'f26': 42, 'f16': 23, 'f23': 39, 'f0': 835, 'f2': 225, 'f24': 43, 'f13': 12, 'f19': 30, 'f20': 12, 'f21': 14, 'f17': 10}\n"
     ]
    }
   ],
   "source": [
    "xgb_regressor = xgb.XGBRegressor()\n",
    "\n",
    "xgb_regressor.fit(X_train, y_train)\n",
    "\n",
    "# Convert the model to a native API model for further inspection or advanced usage\n",
    "model = xgb_regressor.get_booster()\n",
    "\n",
    "feature_importance = model.get_score(importance_type='weight')\n",
    "print(feature_importance)"
   ]
  },
  {
   "cell_type": "code",
   "execution_count": 44,
   "id": "e3c34bf5",
   "metadata": {},
   "outputs": [
    {
     "name": "stdout",
     "output_type": "stream",
     "text": [
      "{'volume_5': 358, 'volume_6': 180, 'volume_4': 199, 'volume_3': 180, 'bottle_volume_ml': 291, 'Brandy': 50, 'item_number': 1150, 'vendor_number': 479, 'day': 225, 'zip_code': 419, 'pack': 200, 'Cocktail': 23, 'Specialty': 39, 'week': 315, 'Vodka': 40, 'Whisky': 42, 'Cordials&Liqueur': 23, 'Spirits': 39, 'store_number': 835, 'county_number': 225, 'Tequila': 43, 'Bourbon': 12, 'Rum': 30, 'Schnapps': 12, 'Scotch': 14, 'Gin': 10}\n"
     ]
    }
   ],
   "source": [
    "feature_names = X_train.columns\n",
    "\n",
    "# Match feature names with their importance scores\n",
    "feature_importance_dict = {feature_names[int(f[1:])]: score for f, score in feature_importance.items()}\n",
    "\n",
    "print(feature_importance_dict)"
   ]
  },
  {
   "cell_type": "markdown",
   "id": "6c2340c9",
   "metadata": {},
   "source": [
    "#"
   ]
  },
  {
   "cell_type": "markdown",
   "id": "049dc647",
   "metadata": {},
   "source": [
    "`bottle_volume_ml`: With a score of 291, the size of the bottle is a significant factor in the model.\n",
    "\n",
    "`vendor_number`: A score of 479 indicates that the vendor is a key factor.  `day` and `week`: With scores of 225 and 315, respectively, these time-related features seem to have a notable impact.\n",
    "\n",
    "Alcohol types like `Brandy`, `Cocktail`, `Vodka`, `Whisky` have relatively lower scores compared to other features. This suggests that while they do play a role in the model's decisions, they are not as dominant as other features. `Bourbon`, `Schnapps`, `Scotch`, `Gin`: These have the lowest scores (ranging from 10 to 14), indicating they are least used for making splits in the model."
   ]
  },
  {
   "cell_type": "markdown",
   "id": "ef0ad873",
   "metadata": {},
   "source": [
    "`item_number` has the highest score of 1150.  It suggests that the it is a significant predictor for y.\n",
    "\n",
    "`store_number` scores 835,  indicates this feature is also highly influential in the model.\n",
    "\n",
    "`zip_code` has a score of 419,  suggests that the location plays a substantial role in the model's predictions.\n",
    "\n",
    "`volume_5`, `volume_6`, `volume_4`, and `volume_3` have scores of 358, 180, 199, and 180, respectively. It seems that these features are quite relevant, with `volume_5` being the most important among them."
   ]
  },
  {
   "cell_type": "code",
   "execution_count": 45,
   "id": "48aa895b",
   "metadata": {},
   "outputs": [],
   "source": [
    "from sklearn.metrics import mean_squared_error, r2_score,roc_auc_score, mean_absolute_error\n",
    "\n",
    "y_pred = xgb_regressor.predict(X_test) \n",
    "mse = mean_squared_error(y_test, y_pred)\n",
    "rmse = mse ** 0.5\n",
    "mae = mean_absolute_error(y_test, y_pred)\n",
    "r2 = r2_score(y_test, y_pred)"
   ]
  },
  {
   "cell_type": "code",
   "execution_count": 46,
   "id": "f98e539f",
   "metadata": {},
   "outputs": [
    {
     "name": "stdout",
     "output_type": "stream",
     "text": [
      "MSE for test: 6061.377379233966\n",
      "RMSE for test: 77.85484814212899\n",
      "MAE for test: 24.550710847676715\n",
      "R2 for test: 0.8460209491170511\n"
     ]
    }
   ],
   "source": [
    "print(\"MSE for test:\", mse)\n",
    "print(\"RMSE for test:\", rmse)\n",
    "print(\"MAE for test:\", mae)\n",
    "print(\"R2 for test:\", r2)"
   ]
  },
  {
   "cell_type": "code",
   "execution_count": 47,
   "id": "ae521bc9",
   "metadata": {},
   "outputs": [],
   "source": [
    "y_pred_train = xgb_regressor.predict(X_train) \n",
    "mse = mean_squared_error(y_train, y_pred_train)\n",
    "rmse = mse ** 0.5\n",
    "mae = mean_absolute_error(y_train, y_pred_train)\n",
    "r2 = r2_score(y_train, y_pred_train)"
   ]
  },
  {
   "cell_type": "code",
   "execution_count": 48,
   "id": "0f878662",
   "metadata": {},
   "outputs": [
    {
     "name": "stdout",
     "output_type": "stream",
     "text": [
      "MSE for train: 3983.609385196148\n",
      "RMSE for train: 63.11584100046634\n",
      "MAE for train: 24.072385740831578\n",
      "R2 for train: 0.9011288667808381\n"
     ]
    }
   ],
   "source": [
    "print(\"MSE for train:\", mse)\n",
    "print(\"RMSE for train:\", rmse)\n",
    "print(\"MAE for train:\", mae)\n",
    "print(\"R2 for train:\", r2)"
   ]
  },
  {
   "cell_type": "markdown",
   "id": "9b4a892f",
   "metadata": {},
   "source": [
    "The relatively small gap between the training and test R² values suggests that the model is generalizing well. This indicates that the model is not just memorizing the training data but learning generalized patterns that apply to new data.\n",
    "\n",
    "Both R² values are high (0.90 and 0.84), suggesting that the XGBoost model is performing well for this particular task. It captures a substantial portion of the variance in the target variable, both in the training and testing phases."
   ]
  },
  {
   "cell_type": "markdown",
   "id": "55d4358c",
   "metadata": {},
   "source": [
    "###"
   ]
  },
  {
   "cell_type": "markdown",
   "id": "eaaedb89",
   "metadata": {},
   "source": [
    "### Advanced Model"
   ]
  },
  {
   "cell_type": "code",
   "execution_count": 11,
   "id": "807772c3",
   "metadata": {},
   "outputs": [
    {
     "name": "stdout",
     "output_type": "stream",
     "text": [
      "Best parameters (Part 1): {'max_depth': 5, 'n_estimators': 100}\n"
     ]
    }
   ],
   "source": [
    "from sklearn.model_selection import GridSearchCV\n",
    "\n",
    "param_grid_part1 = {\n",
    "    'n_estimators': [50, 100],\n",
    "    'max_depth': [3, 4, 5]\n",
    "}\n",
    "\n",
    "# Set up the XGBoost regressor\n",
    "xgb_model_part1 = xgb.XGBRegressor()\n",
    "\n",
    "# Configure Grid Search for the first part\n",
    "grid_search_part1 = GridSearchCV(estimator=xgb_model_part1, param_grid=param_grid_part1, \n",
    "                                 cv=3, n_jobs=-1, scoring='neg_mean_squared_error')\n",
    "\n",
    "# Fit the grid search for the first part\n",
    "grid_search_part1.fit(X_train, y_train)\n",
    "\n",
    "# Get the best parameters from the first part\n",
    "best_params_part1 = grid_search_part1.best_params_\n",
    "print(\"Best parameters (Part 1):\", best_params_part1)"
   ]
  },
  {
   "cell_type": "code",
   "execution_count": 14,
   "id": "1e73b821",
   "metadata": {},
   "outputs": [],
   "source": [
    "param_grid_part2 = {\n",
    "    'learning_rate': [0.01, 0.1, 0.2],\n",
    "    'max_depth': [5, 6, 7]\n",
    "}\n",
    "\n",
    "xgb_model_part2 = xgb.XGBRegressor()"
   ]
  },
  {
   "cell_type": "code",
   "execution_count": 15,
   "id": "03de39f7",
   "metadata": {},
   "outputs": [
    {
     "name": "stdout",
     "output_type": "stream",
     "text": [
      "Best parameters (Part 2): {'learning_rate': 0.2, 'max_depth': 6}\n"
     ]
    }
   ],
   "source": [
    "# Configure Grid Search for the second part\n",
    "grid_search_part2 = GridSearchCV(estimator=xgb_model_part2, param_grid=param_grid_part2, \n",
    "                                 cv=3, n_jobs=-1, scoring='neg_mean_squared_error')\n",
    "\n",
    "# Fit the grid search for the second part\n",
    "grid_search_part2.fit(X_train, y_train)\n",
    "\n",
    "# Get the best parameters from the second part\n",
    "best_params_part2 = grid_search_part2.best_params_\n",
    "print(\"Best parameters (Part 2):\", best_params_part2)"
   ]
  },
  {
   "cell_type": "code",
   "execution_count": 16,
   "id": "2d848789",
   "metadata": {},
   "outputs": [
    {
     "data": {
      "text/html": [
       "<style>#sk-container-id-1 {color: black;}#sk-container-id-1 pre{padding: 0;}#sk-container-id-1 div.sk-toggleable {background-color: white;}#sk-container-id-1 label.sk-toggleable__label {cursor: pointer;display: block;width: 100%;margin-bottom: 0;padding: 0.3em;box-sizing: border-box;text-align: center;}#sk-container-id-1 label.sk-toggleable__label-arrow:before {content: \"▸\";float: left;margin-right: 0.25em;color: #696969;}#sk-container-id-1 label.sk-toggleable__label-arrow:hover:before {color: black;}#sk-container-id-1 div.sk-estimator:hover label.sk-toggleable__label-arrow:before {color: black;}#sk-container-id-1 div.sk-toggleable__content {max-height: 0;max-width: 0;overflow: hidden;text-align: left;background-color: #f0f8ff;}#sk-container-id-1 div.sk-toggleable__content pre {margin: 0.2em;color: black;border-radius: 0.25em;background-color: #f0f8ff;}#sk-container-id-1 input.sk-toggleable__control:checked~div.sk-toggleable__content {max-height: 200px;max-width: 100%;overflow: auto;}#sk-container-id-1 input.sk-toggleable__control:checked~label.sk-toggleable__label-arrow:before {content: \"▾\";}#sk-container-id-1 div.sk-estimator input.sk-toggleable__control:checked~label.sk-toggleable__label {background-color: #d4ebff;}#sk-container-id-1 div.sk-label input.sk-toggleable__control:checked~label.sk-toggleable__label {background-color: #d4ebff;}#sk-container-id-1 input.sk-hidden--visually {border: 0;clip: rect(1px 1px 1px 1px);clip: rect(1px, 1px, 1px, 1px);height: 1px;margin: -1px;overflow: hidden;padding: 0;position: absolute;width: 1px;}#sk-container-id-1 div.sk-estimator {font-family: monospace;background-color: #f0f8ff;border: 1px dotted black;border-radius: 0.25em;box-sizing: border-box;margin-bottom: 0.5em;}#sk-container-id-1 div.sk-estimator:hover {background-color: #d4ebff;}#sk-container-id-1 div.sk-parallel-item::after {content: \"\";width: 100%;border-bottom: 1px solid gray;flex-grow: 1;}#sk-container-id-1 div.sk-label:hover label.sk-toggleable__label {background-color: #d4ebff;}#sk-container-id-1 div.sk-serial::before {content: \"\";position: absolute;border-left: 1px solid gray;box-sizing: border-box;top: 0;bottom: 0;left: 50%;z-index: 0;}#sk-container-id-1 div.sk-serial {display: flex;flex-direction: column;align-items: center;background-color: white;padding-right: 0.2em;padding-left: 0.2em;position: relative;}#sk-container-id-1 div.sk-item {position: relative;z-index: 1;}#sk-container-id-1 div.sk-parallel {display: flex;align-items: stretch;justify-content: center;background-color: white;position: relative;}#sk-container-id-1 div.sk-item::before, #sk-container-id-1 div.sk-parallel-item::before {content: \"\";position: absolute;border-left: 1px solid gray;box-sizing: border-box;top: 0;bottom: 0;left: 50%;z-index: -1;}#sk-container-id-1 div.sk-parallel-item {display: flex;flex-direction: column;z-index: 1;position: relative;background-color: white;}#sk-container-id-1 div.sk-parallel-item:first-child::after {align-self: flex-end;width: 50%;}#sk-container-id-1 div.sk-parallel-item:last-child::after {align-self: flex-start;width: 50%;}#sk-container-id-1 div.sk-parallel-item:only-child::after {width: 0;}#sk-container-id-1 div.sk-dashed-wrapped {border: 1px dashed gray;margin: 0 0.4em 0.5em 0.4em;box-sizing: border-box;padding-bottom: 0.4em;background-color: white;}#sk-container-id-1 div.sk-label label {font-family: monospace;font-weight: bold;display: inline-block;line-height: 1.2em;}#sk-container-id-1 div.sk-label-container {text-align: center;}#sk-container-id-1 div.sk-container {/* jupyter's `normalize.less` sets `[hidden] { display: none; }` but bootstrap.min.css set `[hidden] { display: none !important; }` so we also need the `!important` here to be able to override the default hidden behavior on the sphinx rendered scikit-learn.org. See: https://github.com/scikit-learn/scikit-learn/issues/21755 */display: inline-block !important;position: relative;}#sk-container-id-1 div.sk-text-repr-fallback {display: none;}</style><div id=\"sk-container-id-1\" class=\"sk-top-container\"><div class=\"sk-text-repr-fallback\"><pre>XGBRegressor(base_score=0.5, booster=&#x27;gbtree&#x27;, colsample_bylevel=1,\n",
       "             colsample_bynode=1, colsample_bytree=1, gamma=0, gpu_id=-1,\n",
       "             importance_type=&#x27;gain&#x27;, interaction_constraints=&#x27;&#x27;,\n",
       "             learning_rate=0.2, max_delta_step=0, max_depth=6,\n",
       "             min_child_weight=2, missing=nan, monotone_constraints=&#x27;()&#x27;,\n",
       "             n_estimators=100, n_jobs=0, num_parallel_tree=1, random_state=42,\n",
       "             reg_alpha=0, reg_lambda=1, scale_pos_weight=1, subsample=1,\n",
       "             tree_method=&#x27;exact&#x27;, validate_parameters=1, verbosity=None)</pre><b>In a Jupyter environment, please rerun this cell to show the HTML representation or trust the notebook. <br />On GitHub, the HTML representation is unable to render, please try loading this page with nbviewer.org.</b></div><div class=\"sk-container\" hidden><div class=\"sk-item\"><div class=\"sk-estimator sk-toggleable\"><input class=\"sk-toggleable__control sk-hidden--visually\" id=\"sk-estimator-id-1\" type=\"checkbox\" checked><label for=\"sk-estimator-id-1\" class=\"sk-toggleable__label sk-toggleable__label-arrow\">XGBRegressor</label><div class=\"sk-toggleable__content\"><pre>XGBRegressor(base_score=0.5, booster=&#x27;gbtree&#x27;, colsample_bylevel=1,\n",
       "             colsample_bynode=1, colsample_bytree=1, gamma=0, gpu_id=-1,\n",
       "             importance_type=&#x27;gain&#x27;, interaction_constraints=&#x27;&#x27;,\n",
       "             learning_rate=0.2, max_delta_step=0, max_depth=6,\n",
       "             min_child_weight=2, missing=nan, monotone_constraints=&#x27;()&#x27;,\n",
       "             n_estimators=100, n_jobs=0, num_parallel_tree=1, random_state=42,\n",
       "             reg_alpha=0, reg_lambda=1, scale_pos_weight=1, subsample=1,\n",
       "             tree_method=&#x27;exact&#x27;, validate_parameters=1, verbosity=None)</pre></div></div></div></div></div>"
      ],
      "text/plain": [
       "XGBRegressor(base_score=0.5, booster='gbtree', colsample_bylevel=1,\n",
       "             colsample_bynode=1, colsample_bytree=1, gamma=0, gpu_id=-1,\n",
       "             importance_type='gain', interaction_constraints='',\n",
       "             learning_rate=0.2, max_delta_step=0, max_depth=6,\n",
       "             min_child_weight=2, missing=nan, monotone_constraints='()',\n",
       "             n_estimators=100, n_jobs=0, num_parallel_tree=1, random_state=42,\n",
       "             reg_alpha=0, reg_lambda=1, scale_pos_weight=1, subsample=1,\n",
       "             tree_method='exact', validate_parameters=1, verbosity=None)"
      ]
     },
     "execution_count": 16,
     "metadata": {},
     "output_type": "execute_result"
    }
   ],
   "source": [
    "model = xgb.XGBRegressor(max_depth=6, n_estimators=100, learning_rate=0.2, min_child_weight=2, random_state=42)\n",
    "model.fit(X_train, y_train)"
   ]
  },
  {
   "cell_type": "code",
   "execution_count": 18,
   "id": "1b848081",
   "metadata": {},
   "outputs": [],
   "source": [
    "from sklearn.metrics import mean_squared_error, r2_score, roc_auc_score, mean_absolute_error"
   ]
  },
  {
   "cell_type": "code",
   "execution_count": 19,
   "id": "705b98fb",
   "metadata": {},
   "outputs": [
    {
     "name": "stdout",
     "output_type": "stream",
     "text": [
      "R-squared for test: 0.861859027626988\n",
      "Mean Squared Error for test: 5437.912237319045\n"
     ]
    }
   ],
   "source": [
    "y_pred = model.predict(X_test)\n",
    "# Calculate R-squared\n",
    "r_squared = r2_score(y_test, y_pred)\n",
    "print(f\"R-squared for test: {r_squared}\")\n",
    "\n",
    "y_pred = model.predict(X_test)\n",
    "# Evaluate the model\n",
    "mse = mean_squared_error(y_test, y_pred)\n",
    "print(f\"Mean Squared Error for test: {mse}\")"
   ]
  },
  {
   "cell_type": "code",
   "execution_count": 20,
   "id": "a04a7435",
   "metadata": {
    "scrolled": true
   },
   "outputs": [
    {
     "name": "stdout",
     "output_type": "stream",
     "text": [
      "R-squared for train: 0.8913426064004253\n",
      "Mean Squared Error for train: 4377.906865442183\n"
     ]
    }
   ],
   "source": [
    "y_pred_train = model.predict(X_train)\n",
    "# Calculate R-squared\n",
    "r_squared = r2_score(y_train, y_pred_train)\n",
    "print(f\"R-squared for train: {r_squared}\")\n",
    "\n",
    "# Evaluate the model\n",
    "mse = mean_squared_error(y_train, y_pred_train)\n",
    "print(f\"Mean Squared Error for train: {mse}\")"
   ]
  },
  {
   "cell_type": "markdown",
   "id": "cc7e266a",
   "metadata": {},
   "source": [
    "The tiny gap between the training and test R² values suggests that the model is generalizing well. This indicates that the model is not just memorizing the training data but learning generalized patterns that apply to new data.\n",
    "\n",
    "Both R² values are high (0.89 and 0.86), suggesting that the advanced XGBoost model is performing well for the task. It captures a substantial portion of the variance in the target variable, both in the training and testing phases."
   ]
  },
  {
   "cell_type": "markdown",
   "id": "571c146e",
   "metadata": {},
   "source": [
    "###"
   ]
  },
  {
   "cell_type": "markdown",
   "id": "6e3af426",
   "metadata": {},
   "source": [
    "### Compare Models"
   ]
  },
  {
   "cell_type": "code",
   "execution_count": 3,
   "id": "3f0d359f",
   "metadata": {},
   "outputs": [
    {
     "data": {
      "image/png": "[encoded data removed]",
      "text/plain": [
       "<Figure size 800x600 with 1 Axes>"
      ]
     },
     "metadata": {},
     "output_type": "display_data"
    }
   ],
   "source": [
    "import matplotlib.pyplot as plt\n",
    "models = ['Lasso', 'Ridge', 'XGBoost']\n",
    "train_scores = [0.456, 0.458, 0.891]\n",
    "test_scores = [0.456, 0.434, 0.862]\n",
    "\n",
    "# Create bar chart\n",
    "plt.figure(figsize=(8, 6))\n",
    "width = 0.35\n",
    "x = range(len(models))\n",
    "\n",
    "# Create bars\n",
    "train_bars = plt.bar(x, train_scores, width, label='Train')\n",
    "test_bars = plt.bar([i + width for i in x], test_scores, width, label='Test')\n",
    "\n",
    "# Label each bar with numbers\n",
    "for bar in train_bars + test_bars:\n",
    "    height = bar.get_height()\n",
    "    plt.annotate(f'{height:.3f}', xy=(bar.get_x() + bar.get_width() / 2, height), xytext=(0, 3),\n",
    "                 textcoords='offset points', ha='center', va='bottom')\n",
    "\n",
    "plt.xlabel('Models')\n",
    "plt.ylabel('Scores')\n",
    "plt.title('Model Performance Comparison')\n",
    "plt.xticks([i + width/2 for i in x], models)\n",
    "plt.legend()\n",
    "\n",
    "plt.show()"
   ]
  },
  {
   "cell_type": "markdown",
   "id": "ed5d91d2",
   "metadata": {},
   "source": [
    "Overall:\n",
    "The Lasso model has an identical performance on both the training and test sets, which indicates good generalization, although the scores are relatively lower than the XGBoost model.\n",
    "\n",
    "The Ridge model performs slightly better on the training set compared to the test set, suggesting a minor degree of overfitting.\n",
    "\n",
    "The XGBoost model not only outperforms the other two models on both datasets but also shows a relatively small difference between the training and test scores.\n",
    "The higher training scores compared to test scores could be indicative of overfitting. However, the extent of overfitting in XGBoost is not substantial since the test score is still quite high.\n",
    "\n",
    "Based on these scores, XGBoost would be the preferred model for deployment."
   ]
  },
  {
   "cell_type": "markdown",
   "id": "c45fb662",
   "metadata": {},
   "source": [
    "END"
   ]
  }
 ],
 "metadata": {
  "kernelspec": {
   "display_name": "ensemble",
   "language": "python",
   "name": "ensemble"
  },
  "language_info": {
   "codemirror_mode": {
    "name": "ipython",
    "version": 3
   },
   "file_extension": ".py",
   "mimetype": "text/x-python",
   "name": "python",
   "nbconvert_exporter": "python",
   "pygments_lexer": "ipython3",
   "version": "3.8.18"
  }
 },
 "nbformat": 4,
 "nbformat_minor": 5
}
