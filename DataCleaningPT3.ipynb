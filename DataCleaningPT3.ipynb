{
 "cells": [
  {
   "cell_type": "markdown",
   "id": "5d90d09f",
   "metadata": {},
   "source": [
    "## Data Cleaning Part3"
   ]
  },
  {
   "cell_type": "markdown",
   "id": "def5094b",
   "metadata": {},
   "source": [
    "### Author: Lucia Zou\n",
    "### Contact: lucia.zouyuebca@gmail.com \n",
    "### Date: Nov.1st, 2023"
   ]
  },
  {
   "cell_type": "markdown",
   "id": "7c4df681",
   "metadata": {},
   "source": [
    "### Table of Contents\n",
    "- [Volume Columns Cleaning](#Volume-Columns-Cleaning)\n",
    "- [Item Columns Cleaning](#Item-Columns-Cleaning)\n",
    "- [State Columns Cleaning](#State-Columns-Cleaning)"
   ]
  },
  {
   "cell_type": "code",
   "execution_count": 2,
   "id": "bd19d075",
   "metadata": {},
   "outputs": [],
   "source": [
    "import pyarrow as pa\n",
    "import pyarrow.parquet as pq\n",
    "import pandas as pd\n",
    "import warnings\n",
    "warnings.filterwarnings(\"ignore\")"
   ]
  },
  {
   "cell_type": "code",
   "execution_count": 3,
   "id": "72f1e069",
   "metadata": {},
   "outputs": [],
   "source": [
    "from IPython.core.interactiveshell import InteractiveShell\n",
    "InteractiveShell.ast_node_interactivity = \"all\" "
   ]
  },
  {
   "cell_type": "code",
   "execution_count": 74,
   "id": "b3af051b",
   "metadata": {},
   "outputs": [],
   "source": [
    "df6=pd.read_parquet('IowaAfterClean2.parquet')"
   ]
  },
  {
   "cell_type": "code",
   "execution_count": 6,
   "id": "6a4caf47",
   "metadata": {},
   "outputs": [
    {
     "data": {
      "text/html": [
       "<div>\n",
       "<style scoped>\n",
       "    .dataframe tbody tr th:only-of-type {\n",
       "        vertical-align: middle;\n",
       "    }\n",
       "\n",
       "    .dataframe tbody tr th {\n",
       "        vertical-align: top;\n",
       "    }\n",
       "\n",
       "    .dataframe thead th {\n",
       "        text-align: right;\n",
       "    }\n",
       "</style>\n",
       "<table border=\"1\" class=\"dataframe\">\n",
       "  <thead>\n",
       "    <tr style=\"text-align: right;\">\n",
       "      <th></th>\n",
       "      <th>invoice_and_item_number</th>\n",
       "      <th>date</th>\n",
       "      <th>store_number</th>\n",
       "      <th>store_name</th>\n",
       "      <th>address</th>\n",
       "      <th>city</th>\n",
       "      <th>zip_code</th>\n",
       "      <th>county_number</th>\n",
       "      <th>county</th>\n",
       "      <th>category</th>\n",
       "      <th>...</th>\n",
       "      <th>item_number</th>\n",
       "      <th>item_description</th>\n",
       "      <th>pack</th>\n",
       "      <th>bottle_volume_ml</th>\n",
       "      <th>state_bottle_cost</th>\n",
       "      <th>state_bottle_retail</th>\n",
       "      <th>bottles_sold</th>\n",
       "      <th>sale_dollars</th>\n",
       "      <th>volume_sold_liters</th>\n",
       "      <th>volume_sold_gallons</th>\n",
       "    </tr>\n",
       "  </thead>\n",
       "  <tbody>\n",
       "    <tr>\n",
       "      <th>0</th>\n",
       "      <td>INV-33179700135</td>\n",
       "      <td>2021-01-04</td>\n",
       "      <td>2576</td>\n",
       "      <td>Hy-Vee Wine and Spirits / Storm Lake</td>\n",
       "      <td>1250 N Lake St</td>\n",
       "      <td>Storm Lake</td>\n",
       "      <td>50588.0</td>\n",
       "      <td>11.0</td>\n",
       "      <td>Adair</td>\n",
       "      <td>1081600.0</td>\n",
       "      <td>...</td>\n",
       "      <td>64870</td>\n",
       "      <td>Fireball Cinnamon Whiskey</td>\n",
       "      <td>48</td>\n",
       "      <td>100</td>\n",
       "      <td>0.90</td>\n",
       "      <td>1.35</td>\n",
       "      <td>48</td>\n",
       "      <td>64.80</td>\n",
       "      <td>4.8</td>\n",
       "      <td>1.26</td>\n",
       "    </tr>\n",
       "    <tr>\n",
       "      <th>1</th>\n",
       "      <td>INV-33196200106</td>\n",
       "      <td>2021-01-04</td>\n",
       "      <td>2649</td>\n",
       "      <td>Hy-Vee #3 / Dubuque</td>\n",
       "      <td>400 Locust St</td>\n",
       "      <td>Dubuque</td>\n",
       "      <td>52001.0</td>\n",
       "      <td>31.0</td>\n",
       "      <td>Adair</td>\n",
       "      <td>1081200.0</td>\n",
       "      <td>...</td>\n",
       "      <td>65200</td>\n",
       "      <td>Tequila Rose Liqueur</td>\n",
       "      <td>12</td>\n",
       "      <td>750</td>\n",
       "      <td>11.50</td>\n",
       "      <td>17.25</td>\n",
       "      <td>4</td>\n",
       "      <td>69.00</td>\n",
       "      <td>3.0</td>\n",
       "      <td>0.79</td>\n",
       "    </tr>\n",
       "    <tr>\n",
       "      <th>2</th>\n",
       "      <td>INV-33184300011</td>\n",
       "      <td>2021-01-04</td>\n",
       "      <td>2539</td>\n",
       "      <td>Hy-Vee Food Store / Iowa Falls</td>\n",
       "      <td>640 S. Oak</td>\n",
       "      <td>Iowa Falls</td>\n",
       "      <td>50126.0</td>\n",
       "      <td>42.0</td>\n",
       "      <td>Adams</td>\n",
       "      <td>1031100.0</td>\n",
       "      <td>...</td>\n",
       "      <td>38008</td>\n",
       "      <td>Smirnoff 80prf PET</td>\n",
       "      <td>6</td>\n",
       "      <td>1750</td>\n",
       "      <td>14.75</td>\n",
       "      <td>22.13</td>\n",
       "      <td>6</td>\n",
       "      <td>132.78</td>\n",
       "      <td>10.5</td>\n",
       "      <td>2.77</td>\n",
       "    </tr>\n",
       "    <tr>\n",
       "      <th>3</th>\n",
       "      <td>INV-33184100015</td>\n",
       "      <td>2021-01-04</td>\n",
       "      <td>4024</td>\n",
       "      <td>Wal-Mart 1546 / Iowa Falls</td>\n",
       "      <td>840 S Oak</td>\n",
       "      <td>Iowa Falls</td>\n",
       "      <td>50126.0</td>\n",
       "      <td>42.0</td>\n",
       "      <td>Adams</td>\n",
       "      <td>1031100.0</td>\n",
       "      <td>...</td>\n",
       "      <td>36648</td>\n",
       "      <td>Caliber Vodka</td>\n",
       "      <td>12</td>\n",
       "      <td>750</td>\n",
       "      <td>3.31</td>\n",
       "      <td>4.97</td>\n",
       "      <td>12</td>\n",
       "      <td>59.64</td>\n",
       "      <td>9.0</td>\n",
       "      <td>2.37</td>\n",
       "    </tr>\n",
       "    <tr>\n",
       "      <th>4</th>\n",
       "      <td>INV-33174200025</td>\n",
       "      <td>2021-01-04</td>\n",
       "      <td>5385</td>\n",
       "      <td>Vine Food &amp; Liquor</td>\n",
       "      <td>2704 Vine St.</td>\n",
       "      <td>West Des Moines</td>\n",
       "      <td>50265.0</td>\n",
       "      <td>77.0</td>\n",
       "      <td>Allamakee</td>\n",
       "      <td>1012200.0</td>\n",
       "      <td>...</td>\n",
       "      <td>4626</td>\n",
       "      <td>Buchanan Deluxe 12YR</td>\n",
       "      <td>12</td>\n",
       "      <td>750</td>\n",
       "      <td>20.99</td>\n",
       "      <td>31.49</td>\n",
       "      <td>2</td>\n",
       "      <td>62.98</td>\n",
       "      <td>1.5</td>\n",
       "      <td>0.39</td>\n",
       "    </tr>\n",
       "  </tbody>\n",
       "</table>\n",
       "<p>5 rows × 23 columns</p>\n",
       "</div>"
      ],
      "text/plain": [
       "  invoice_and_item_number        date  store_number  \\\n",
       "0         INV-33179700135  2021-01-04          2576   \n",
       "1         INV-33196200106  2021-01-04          2649   \n",
       "2         INV-33184300011  2021-01-04          2539   \n",
       "3         INV-33184100015  2021-01-04          4024   \n",
       "4         INV-33174200025  2021-01-04          5385   \n",
       "\n",
       "                             store_name         address             city  \\\n",
       "0  Hy-Vee Wine and Spirits / Storm Lake  1250 N Lake St       Storm Lake   \n",
       "1                   Hy-Vee #3 / Dubuque   400 Locust St          Dubuque   \n",
       "2        Hy-Vee Food Store / Iowa Falls      640 S. Oak       Iowa Falls   \n",
       "3            Wal-Mart 1546 / Iowa Falls       840 S Oak       Iowa Falls   \n",
       "4                    Vine Food & Liquor   2704 Vine St.  West Des Moines   \n",
       "\n",
       "   zip_code  county_number     county   category  ... item_number  \\\n",
       "0   50588.0           11.0      Adair  1081600.0  ...       64870   \n",
       "1   52001.0           31.0      Adair  1081200.0  ...       65200   \n",
       "2   50126.0           42.0      Adams  1031100.0  ...       38008   \n",
       "3   50126.0           42.0      Adams  1031100.0  ...       36648   \n",
       "4   50265.0           77.0  Allamakee  1012200.0  ...        4626   \n",
       "\n",
       "            item_description pack  bottle_volume_ml state_bottle_cost  \\\n",
       "0  Fireball Cinnamon Whiskey   48               100              0.90   \n",
       "1       Tequila Rose Liqueur   12               750             11.50   \n",
       "2         Smirnoff 80prf PET    6              1750             14.75   \n",
       "3              Caliber Vodka   12               750              3.31   \n",
       "4       Buchanan Deluxe 12YR   12               750             20.99   \n",
       "\n",
       "   state_bottle_retail  bottles_sold  sale_dollars  volume_sold_liters  \\\n",
       "0                 1.35            48         64.80                 4.8   \n",
       "1                17.25             4         69.00                 3.0   \n",
       "2                22.13             6        132.78                10.5   \n",
       "3                 4.97            12         59.64                 9.0   \n",
       "4                31.49             2         62.98                 1.5   \n",
       "\n",
       "   volume_sold_gallons  \n",
       "0                 1.26  \n",
       "1                 0.79  \n",
       "2                 2.77  \n",
       "3                 2.37  \n",
       "4                 0.39  \n",
       "\n",
       "[5 rows x 23 columns]"
      ]
     },
     "execution_count": 6,
     "metadata": {},
     "output_type": "execute_result"
    }
   ],
   "source": [
    "df6.head()"
   ]
  },
  {
   "cell_type": "code",
   "execution_count": 17,
   "id": "88a0af99",
   "metadata": {},
   "outputs": [
    {
     "name": "stdout",
     "output_type": "stream",
     "text": [
      "<class 'pandas.core.frame.DataFrame'>\n",
      "Int64Index: 2805303 entries, 0 to 2805306\n",
      "Data columns (total 23 columns):\n",
      " #   Column                   Dtype  \n",
      "---  ------                   -----  \n",
      " 0   invoice_and_item_number  object \n",
      " 1   date                     object \n",
      " 2   store_number             int64  \n",
      " 3   store_name               object \n",
      " 4   address                  object \n",
      " 5   city                     object \n",
      " 6   zip_code                 float64\n",
      " 7   county_number            float64\n",
      " 8   county                   object \n",
      " 9   category                 float64\n",
      " 10  category_name            object \n",
      " 11  vendor_number            float64\n",
      " 12  vendor_name              object \n",
      " 13  item_number              int64  \n",
      " 14  item_description         object \n",
      " 15  pack                     int64  \n",
      " 16  bottle_volume_ml         int64  \n",
      " 17  state_bottle_cost        float64\n",
      " 18  state_bottle_retail      float64\n",
      " 19  bottles_sold             int64  \n",
      " 20  sale_dollars             float64\n",
      " 21  volume_sold_liters       float64\n",
      " 22  volume_sold_gallons      float64\n",
      "dtypes: float64(9), int64(5), object(9)\n",
      "memory usage: 513.7+ MB\n"
     ]
    }
   ],
   "source": [
    "df6.info()"
   ]
  },
  {
   "cell_type": "code",
   "execution_count": 15,
   "id": "7c0649f9",
   "metadata": {},
   "outputs": [
    {
     "data": {
      "text/plain": [
       "invoice_and_item_number    2805303\n",
       "date                           326\n",
       "store_number                  1929\n",
       "store_name                    1952\n",
       "address                       1936\n",
       "city                           442\n",
       "zip_code                       479\n",
       "county_number                   99\n",
       "county                          99\n",
       "category                        47\n",
       "category_name                   47\n",
       "vendor_number                  222\n",
       "vendor_name                    222\n",
       "item_number                   4543\n",
       "item_description              4029\n",
       "pack                            21\n",
       "bottle_volume_ml                25\n",
       "state_bottle_cost             1312\n",
       "state_bottle_retail           1315\n",
       "bottles_sold                   397\n",
       "sale_dollars                 11136\n",
       "volume_sold_liters             772\n",
       "volume_sold_gallons            761\n",
       "dtype: int64"
      ]
     },
     "execution_count": 15,
     "metadata": {},
     "output_type": "execute_result"
    }
   ],
   "source": [
    "df6.nunique()"
   ]
  },
  {
   "cell_type": "markdown",
   "id": "6f44511b",
   "metadata": {},
   "source": [
    "###"
   ]
  },
  {
   "cell_type": "markdown",
   "id": "7d3a180b",
   "metadata": {},
   "source": [
    "### Volume Columns Cleaning"
   ]
  },
  {
   "cell_type": "code",
   "execution_count": 75,
   "id": "d70d0a4c",
   "metadata": {},
   "outputs": [],
   "source": [
    "crosst= pd.crosstab(df6['volume_sold_liters'], df6['volume_sold_gallons'])"
   ]
  },
  {
   "cell_type": "code",
   "execution_count": 76,
   "id": "fd3221d6",
   "metadata": {},
   "outputs": [
    {
     "data": {
      "text/plain": [
       "Float64Index([0.01, 0.02, 0.03, 0.06, 0.09, 0.19, 0.29, 0.89, 1.08, 2.27], dtype='float64', name='volume_sold_gallons')"
      ]
     },
     "execution_count": 76,
     "metadata": {},
     "output_type": "execute_result"
    }
   ],
   "source": [
    "columns_with_multiple_nonzero = crosst.columns[crosst.gt(0).sum(axis=0) > 1]\n",
    "columns_with_multiple_nonzero"
   ]
  },
  {
   "cell_type": "code",
   "execution_count": 77,
   "id": "2537e54a",
   "metadata": {},
   "outputs": [
    {
     "data": {
      "text/plain": [
       "array([0.05, 0.06, 0.04])"
      ]
     },
     "execution_count": 77,
     "metadata": {},
     "output_type": "execute_result"
    },
    {
     "data": {
      "text/plain": [
       "array([0.1 , 0.08])"
      ]
     },
     "execution_count": 77,
     "metadata": {},
     "output_type": "execute_result"
    },
    {
     "data": {
      "text/plain": [
       "array([0.15, 0.12])"
      ]
     },
     "execution_count": 77,
     "metadata": {},
     "output_type": "execute_result"
    },
    {
     "data": {
      "text/plain": [
       "array([0.24, 0.25])"
      ]
     },
     "execution_count": 77,
     "metadata": {},
     "output_type": "execute_result"
    },
    {
     "data": {
      "text/plain": [
       "array([0.37, 0.35])"
      ]
     },
     "execution_count": 77,
     "metadata": {},
     "output_type": "execute_result"
    },
    {
     "data": {
      "text/plain": [
       "array([0.75, 0.72])"
      ]
     },
     "execution_count": 77,
     "metadata": {},
     "output_type": "execute_result"
    },
    {
     "data": {
      "text/plain": [
       "array([1.12, 1.1 ])"
      ]
     },
     "execution_count": 77,
     "metadata": {},
     "output_type": "execute_result"
    },
    {
     "data": {
      "text/plain": [
       "array([3.37, 3.4 ])"
      ]
     },
     "execution_count": 77,
     "metadata": {},
     "output_type": "execute_result"
    },
    {
     "data": {
      "text/plain": [
       "array([4.12, 4.1 ])"
      ]
     },
     "execution_count": 77,
     "metadata": {},
     "output_type": "execute_result"
    },
    {
     "data": {
      "text/plain": [
       "array([8.62, 8.6 ])"
      ]
     },
     "execution_count": 77,
     "metadata": {},
     "output_type": "execute_result"
    }
   ],
   "source": [
    "gallons_values = [0.01, 0.02, 0.03, 0.06, 0.09, 0.19, 0.29, 0.89, 1.08, 2.27]\n",
    "\n",
    "df6[df6['volume_sold_gallons'] == 0.01]['volume_sold_liters'].unique()\n",
    "df6[df6['volume_sold_gallons'] == 0.02]['volume_sold_liters'].unique()\n",
    "df6[df6['volume_sold_gallons'] == 0.03]['volume_sold_liters'].unique()\n",
    "df6[df6['volume_sold_gallons'] == 0.06]['volume_sold_liters'].unique()\n",
    "df6[df6['volume_sold_gallons'] == 0.09]['volume_sold_liters'].unique()\n",
    "df6[df6['volume_sold_gallons'] == 0.19]['volume_sold_liters'].unique()\n",
    "df6[df6['volume_sold_gallons'] == 0.29]['volume_sold_liters'].unique()\n",
    "df6[df6['volume_sold_gallons'] == 0.89]['volume_sold_liters'].unique()\n",
    "df6[df6['volume_sold_gallons'] == 1.08]['volume_sold_liters'].unique()\n",
    "df6[df6['volume_sold_gallons'] == 2.27]['volume_sold_liters'].unique()"
   ]
  },
  {
   "cell_type": "markdown",
   "id": "947e9d87",
   "metadata": {},
   "source": [
    "Define a function and then get correct number for liters"
   ]
  },
  {
   "cell_type": "code",
   "execution_count": 78,
   "id": "096414d9",
   "metadata": {},
   "outputs": [
    {
     "data": {
      "text/plain": [
       "[0.04, 0.08, 0.11, 0.23, 0.34, 0.72, 1.1, 3.37, 4.09, 8.59]"
      ]
     },
     "execution_count": 78,
     "metadata": {},
     "output_type": "execute_result"
    }
   ],
   "source": [
    "def gallons_to_liters(gallons_list):\n",
    "    # Conversion factor\n",
    "    conversion_factor = 3.7854\n",
    "    # Convert each value in the list from gallons to liters\n",
    "    liters_list = [round(g * conversion_factor, 2) for g in gallons_list]\n",
    "    return liters_list\n",
    "\n",
    "# Given gallons values\n",
    "gallons_values = [0.01, 0.02, 0.03, 0.06, 0.09, 0.19, 0.29, 0.89, 1.08, 2.27]\n",
    "\n",
    "# Convert to liters\n",
    "liters_values = gallons_to_liters(gallons_values)\n",
    "liters_values"
   ]
  },
  {
   "cell_type": "markdown",
   "id": "d9f51a2e",
   "metadata": {},
   "source": [
    "Use map to substitute the wrong values with correct ones"
   ]
  },
  {
   "cell_type": "code",
   "execution_count": 79,
   "id": "a0124283",
   "metadata": {},
   "outputs": [],
   "source": [
    "# Given values\n",
    "gallons_values = [0.01, 0.02, 0.03, 0.06, 0.09, 0.19, 0.29, 0.89, 1.08, 2.27]\n",
    "liter_values = [0.04, 0.08, 0.11, 0.23, 0.34, 0.72, 1.1, 3.37, 4.09, 8.59]\n",
    "\n",
    "# Create a dictionary for mapping\n",
    "gallons_to_liters_map = dict(zip(gallons_values, liter_values))\n",
    "\n",
    "# Apply the map to the volume_sold_liters column\n",
    "df6['volume_sold_liters'] = df6['volume_sold_gallons'].map(gallons_to_liters_map).where(\n",
    "    df6['volume_sold_gallons'].isin(gallons_values), df6['volume_sold_liters']\n",
    ")"
   ]
  },
  {
   "cell_type": "code",
   "execution_count": 12,
   "id": "aa2ba538",
   "metadata": {},
   "outputs": [
    {
     "data": {
      "text/plain": [
       "761"
      ]
     },
     "execution_count": 12,
     "metadata": {},
     "output_type": "execute_result"
    },
    {
     "data": {
      "text/plain": [
       "761"
      ]
     },
     "execution_count": 12,
     "metadata": {},
     "output_type": "execute_result"
    }
   ],
   "source": [
    "#sanity check\n",
    "df6['volume_sold_gallons'].nunique()\n",
    "df6['volume_sold_liters'].nunique()"
   ]
  },
  {
   "cell_type": "markdown",
   "id": "6f82e3f6",
   "metadata": {},
   "source": [
    "Since the two columns now have the same unique counts, we would not do further cleaning so far."
   ]
  },
  {
   "cell_type": "markdown",
   "id": "3add6171",
   "metadata": {},
   "source": [
    "###"
   ]
  },
  {
   "cell_type": "markdown",
   "id": "6ec8c6a2",
   "metadata": {},
   "source": [
    "### Item Columns Cleaning"
   ]
  },
  {
   "cell_type": "code",
   "execution_count": 11,
   "id": "af321a1b",
   "metadata": {},
   "outputs": [],
   "source": [
    "crosstab= pd.crosstab(df6['item_number'], df6['item_description'])"
   ]
  },
  {
   "cell_type": "code",
   "execution_count": 12,
   "id": "f0caf2d6",
   "metadata": {},
   "outputs": [
    {
     "data": {
      "text/plain": [
       "Index(['1800 Reposado', '1800 Silver', '99 Bananas', '99 Cinnamon',\n",
       "       '99 Grapes', '99 Mangoes', '99 Oranges', 'Absolut Apeach',\n",
       "       'Absolut Citron', 'Absolut Mandrin',\n",
       "       ...\n",
       "       'Wild Turkey 101 Rye', 'Wild Turkey 81', 'Wild Turkey American Honey',\n",
       "       'Windsor Canadian', 'Windsor Canadian PET', 'Wisconsin Club Vodka',\n",
       "       'Wisers Deluxe', 'Woodford Reserve', 'Yukon Jack', 'Zyr Vodka'],\n",
       "      dtype='object', name='item_description', length=535)"
      ]
     },
     "execution_count": 12,
     "metadata": {},
     "output_type": "execute_result"
    }
   ],
   "source": [
    "columns_with_multiple_nonzero = crosstab.columns[crosstab.gt(0).sum(axis=0) > 1]\n",
    "columns_with_multiple_nonzero"
   ]
  },
  {
   "cell_type": "markdown",
   "id": "9a1e563b",
   "metadata": {},
   "source": [
    "Since we have so many unmatched unique values for item_description, we would like to use item_number as unique column for models."
   ]
  },
  {
   "cell_type": "markdown",
   "id": "ecbbddde",
   "metadata": {},
   "source": [
    "###"
   ]
  },
  {
   "cell_type": "markdown",
   "id": "d4e38522",
   "metadata": {},
   "source": [
    "### State Columns Cleaning"
   ]
  },
  {
   "cell_type": "code",
   "execution_count": 80,
   "id": "7fdab405",
   "metadata": {},
   "outputs": [],
   "source": [
    "crosstab2= pd.crosstab(df6['state_bottle_cost'], df6['state_bottle_retail'])"
   ]
  },
  {
   "cell_type": "code",
   "execution_count": 81,
   "id": "c73acdad",
   "metadata": {},
   "outputs": [
    {
     "data": {
      "text/plain": [
       "Float64Index([ 7.74,  7.88,   8.4, 10.53, 11.21, 11.52, 16.49,  16.5, 20.63,\n",
       "              22.05,  30.0,  44.3,  45.0],\n",
       "             dtype='float64', name='state_bottle_retail')"
      ]
     },
     "execution_count": 81,
     "metadata": {},
     "output_type": "execute_result"
    }
   ],
   "source": [
    "col_with_multiple_nonzero = crosstab2.columns[crosstab2.gt(0).sum(axis=0) > 1]\n",
    "col_with_multiple_nonzero"
   ]
  },
  {
   "cell_type": "code",
   "execution_count": 82,
   "id": "263793a8",
   "metadata": {},
   "outputs": [
    {
     "name": "stdout",
     "output_type": "stream",
     "text": [
      "For state_bottle_retail 7.74, unique state_bottle_cost values are: [ 5.16 60.  ]\n",
      "For state_bottle_retail 7.88, unique state_bottle_cost values are: [5.25 7.02]\n",
      "For state_bottle_retail 8.4, unique state_bottle_cost values are: [5.6  7.51]\n",
      "For state_bottle_retail 10.53, unique state_bottle_cost values are: [ 7.02 25.  ]\n",
      "For state_bottle_retail 11.21, unique state_bottle_cost values are: [7.47 5.72]\n",
      "For state_bottle_retail 11.52, unique state_bottle_cost values are: [5.54 7.68]\n",
      "For state_bottle_retail 16.49, unique state_bottle_cost values are: [10.99 12.49]\n",
      "For state_bottle_retail 16.5, unique state_bottle_cost values are: [11.    9.66]\n",
      "For state_bottle_retail 20.63, unique state_bottle_cost values are: [ 13.75  11.     5.94   6.38   8.74  11.07  15.33   9.06 262.46   7.47\n",
      "   6.  ]\n",
      "For state_bottle_retail 22.05, unique state_bottle_cost values are: [13.6 14.7]\n",
      "For state_bottle_retail 30.0, unique state_bottle_cost values are: [20.  17.5]\n",
      "For state_bottle_retail 44.3, unique state_bottle_cost values are: [29.53 11.6 ]\n",
      "For state_bottle_retail 45.0, unique state_bottle_cost values are: [30.  28.2]\n"
     ]
    }
   ],
   "source": [
    "retail_values = [7.74, 7.88, 8.4, 10.53, 11.21, 11.52, 16.49, 16.5, 20.63, 22.05, 30.0, 44.3, 45.0]\n",
    "\n",
    "results = {}\n",
    "\n",
    "# Loop over each 'state_bottle_retail' value and get unique 'state_bottle_cost' values\n",
    "for value in retail_values:\n",
    "    unique_state_bottle_cost = df6[df6['state_bottle_retail'] == value]['state_bottle_cost'].unique()\n",
    "    results[value] = unique_state_bottle_cost\n",
    "\n",
    "for key, val in results.items():\n",
    "    print(f\"For state_bottle_retail {key}, unique state_bottle_cost values are: {val}\")"
   ]
  },
  {
   "cell_type": "markdown",
   "id": "9797446b",
   "metadata": {},
   "source": [
    "For values like 60 in [ 5.16 60.  ], 60.0 can be a typo of 6.0, thus we would like to choose 5.16 as the unique value of cost."
   ]
  },
  {
   "cell_type": "markdown",
   "id": "45247d3b",
   "metadata": {},
   "source": [
    "For values in [ 13.75  11.     5.94   6.38   8.74  11.07  15.33   9.06 262.46   7.47 6.  ], we would like to get the average of those values as unique vlaues."
   ]
  },
  {
   "cell_type": "code",
   "execution_count": 83,
   "id": "8c4bff4e",
   "metadata": {},
   "outputs": [
    {
     "name": "stdout",
     "output_type": "stream",
     "text": [
      "Average for bracket 1: 6.135\n",
      "Average for bracket 2: 6.555\n",
      "Average for bracket 3: 6.595\n",
      "Average for bracket 4: 6.610\n",
      "Average for bracket 5: 11.740\n",
      "Average for bracket 6: 10.330\n",
      "Average for bracket 7: 9.474\n",
      "Average for bracket 8: 14.150\n",
      "Average for bracket 9: 18.750\n",
      "Average for bracket 10: 20.565\n",
      "Average for bracket 11: 29.100\n"
     ]
    }
   ],
   "source": [
    "# Define the list of lists with numbers in each bracket\n",
    "brackets = [\n",
    "    [5.25, 7.02],\n",
    "    [5.6, 7.51],\n",
    "    [7.47, 5.72],\n",
    "    [5.54, 7.68],\n",
    "    [10.99, 12.49],\n",
    "    [11., 9.66],\n",
    "    [13.75, 11., 5.94, 6.38, 8.74, 11.07, 15.33, 9.06, 7.47, 6.],\n",
    "    [13.6, 14.7],\n",
    "    [20., 17.5],\n",
    "    [29.53, 11.6],\n",
    "    [30., 28.2]\n",
    "]\n",
    "\n",
    "averages = [sum(bracket) / len(bracket) for bracket in brackets]\n",
    "\n",
    "for i, average in enumerate(averages):\n",
    "    print(f\"Average for bracket {i + 1}: {average:.3f}\")"
   ]
  },
  {
   "cell_type": "code",
   "execution_count": 84,
   "id": "950e5016",
   "metadata": {},
   "outputs": [],
   "source": [
    "df6['state_bottle_cost']=df6['state_bottle_cost'].replace([5.25, 7.02], 6.135)"
   ]
  },
  {
   "cell_type": "code",
   "execution_count": 85,
   "id": "7f7caf3b",
   "metadata": {},
   "outputs": [],
   "source": [
    "df6['state_bottle_cost']=df6['state_bottle_cost'].replace(60.  ,5.16)\n",
    "df6['state_bottle_cost']=df6['state_bottle_cost'].replace(25.  ,7.02)\n",
    "df6['state_bottle_cost']=df6['state_bottle_cost'].replace( [5.6, 7.51], 6.555)\n",
    "df6['state_bottle_cost']=df6['state_bottle_cost'].replace([7.47, 5.72], 6.595)\n",
    "df6['state_bottle_cost']=df6['state_bottle_cost'].replace([5.54, 7.68], 6.610)\n",
    "df6['state_bottle_cost']=df6['state_bottle_cost'].replace([10.99, 12.49], 11.740)\n",
    "df6['state_bottle_cost']=df6['state_bottle_cost'].replace([11., 9.66], 10.330)\n",
    "df6['state_bottle_cost']=df6['state_bottle_cost'].replace([ 13.75 , 11.   , 5.94 , 6.38 , 8.74 , 11.07 ,15.33  ,9.06,262.46  ,7.47, 6.  ], 9.474)\n",
    "df6['state_bottle_cost']=df6['state_bottle_cost'].replace([13.6, 14.7], 14.150)\n",
    "df6['state_bottle_cost']=df6['state_bottle_cost'].replace([20., 17.5], 18.750)\n",
    "df6['state_bottle_cost']=df6['state_bottle_cost'].replace([29.53, 11.6], 20.565)\n",
    "df6['state_bottle_cost']=df6['state_bottle_cost'].replace([30., 28.2], 29.100)"
   ]
  },
  {
   "cell_type": "code",
   "execution_count": 86,
   "id": "4564e21b",
   "metadata": {},
   "outputs": [
    {
     "data": {
      "text/plain": [
       "1291"
      ]
     },
     "execution_count": 86,
     "metadata": {},
     "output_type": "execute_result"
    },
    {
     "data": {
      "text/plain": [
       "1315"
      ]
     },
     "execution_count": 86,
     "metadata": {},
     "output_type": "execute_result"
    }
   ],
   "source": [
    "df6['state_bottle_cost'].nunique()\n",
    "df6['state_bottle_retail'].nunique()"
   ]
  },
  {
   "cell_type": "code",
   "execution_count": 47,
   "id": "4b9cccac",
   "metadata": {},
   "outputs": [],
   "source": [
    "# Export df6 to Parquet file\n",
    "df6.to_parquet('IowaAfterClean3.parquet', index=False)"
   ]
  },
  {
   "cell_type": "markdown",
   "id": "88edd217",
   "metadata": {},
   "source": [
    "Next notebook is EDA"
   ]
  },
  {
   "cell_type": "code",
   "execution_count": null,
   "id": "067caafc",
   "metadata": {},
   "outputs": [],
   "source": [
    "END"
   ]
  }
 ],
 "metadata": {
  "kernelspec": {
   "display_name": "Python 3 (ipykernel)",
   "language": "python",
   "name": "python3"
  },
  "language_info": {
   "codemirror_mode": {
    "name": "ipython",
    "version": 3
   },
   "file_extension": ".py",
   "mimetype": "text/x-python",
   "name": "python",
   "nbconvert_exporter": "python",
   "pygments_lexer": "ipython3",
   "version": "3.11.4"
  }
 },
 "nbformat": 4,
 "nbformat_minor": 5
}
